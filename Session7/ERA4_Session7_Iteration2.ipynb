{
  "nbformat": 4,
  "nbformat_minor": 0,
  "metadata": {
    "colab": {
      "provenance": [],
      "gpuType": "T4",
      "authorship_tag": "ABX9TyMK//JWiHZA3k0S0DAhHoew",
      "include_colab_link": true
    },
    "kernelspec": {
      "name": "python3",
      "display_name": "Python 3"
    },
    "language_info": {
      "name": "python"
    },
    "accelerator": "GPU"
  },
  "cells": [
    {
      "cell_type": "markdown",
      "metadata": {
        "id": "view-in-github",
        "colab_type": "text"
      },
      "source": [
        "<a href=\"https://colab.research.google.com/github/smitasasindran/era4/blob/session7/ERA4_Session7_Iteration2.ipynb\" target=\"_parent\"><img src=\"https://colab.research.google.com/assets/colab-badge.svg\" alt=\"Open In Colab\"/></a>"
      ]
    },
    {
      "cell_type": "markdown",
      "source": [
        "Architecture: Same as before - but Increased kernel sizes further.\n",
        "C1C2C3C40 (No MaxPooling, has 1x1, GAP, no FC)\n"
      ],
      "metadata": {
        "id": "Q3-zIVrXWWnP"
      }
    },
    {
      "cell_type": "markdown",
      "source": [
        "## Import Libraries"
      ],
      "metadata": {
        "id": "pK5d6qRLiTCW"
      }
    },
    {
      "cell_type": "code",
      "execution_count": null,
      "metadata": {
        "id": "fO1P1pMj_25I"
      },
      "outputs": [],
      "source": [
        "from __future__ import print_function\n",
        "import torch\n",
        "import torch.nn as nn\n",
        "import torch.nn.functional as F\n",
        "import torch.optim as optim\n",
        "import torchvision\n",
        "from torchvision import datasets, transforms\n",
        "import numpy as np\n"
      ]
    },
    {
      "cell_type": "code",
      "source": [
        "!pip install albumentations\n",
        "import albumentations as A"
      ],
      "metadata": {
        "colab": {
          "base_uri": "https://localhost:8080/"
        },
        "id": "ZfJHewqf1cf2",
        "outputId": "18b3e647-12ef-4d08-cfe1-bc57f8481cf2"
      },
      "execution_count": null,
      "outputs": [
        {
          "output_type": "stream",
          "name": "stdout",
          "text": [
            "Requirement already satisfied: albumentations in /usr/local/lib/python3.12/dist-packages (2.0.8)\n",
            "Requirement already satisfied: numpy>=1.24.4 in /usr/local/lib/python3.12/dist-packages (from albumentations) (2.0.2)\n",
            "Requirement already satisfied: scipy>=1.10.0 in /usr/local/lib/python3.12/dist-packages (from albumentations) (1.16.2)\n",
            "Requirement already satisfied: PyYAML in /usr/local/lib/python3.12/dist-packages (from albumentations) (6.0.2)\n",
            "Requirement already satisfied: pydantic>=2.9.2 in /usr/local/lib/python3.12/dist-packages (from albumentations) (2.11.9)\n",
            "Requirement already satisfied: albucore==0.0.24 in /usr/local/lib/python3.12/dist-packages (from albumentations) (0.0.24)\n",
            "Requirement already satisfied: opencv-python-headless>=4.9.0.80 in /usr/local/lib/python3.12/dist-packages (from albumentations) (4.12.0.88)\n",
            "Requirement already satisfied: stringzilla>=3.10.4 in /usr/local/lib/python3.12/dist-packages (from albucore==0.0.24->albumentations) (4.0.11)\n",
            "Requirement already satisfied: simsimd>=5.9.2 in /usr/local/lib/python3.12/dist-packages (from albucore==0.0.24->albumentations) (6.5.3)\n",
            "Requirement already satisfied: annotated-types>=0.6.0 in /usr/local/lib/python3.12/dist-packages (from pydantic>=2.9.2->albumentations) (0.7.0)\n",
            "Requirement already satisfied: pydantic-core==2.33.2 in /usr/local/lib/python3.12/dist-packages (from pydantic>=2.9.2->albumentations) (2.33.2)\n",
            "Requirement already satisfied: typing-extensions>=4.12.2 in /usr/local/lib/python3.12/dist-packages (from pydantic>=2.9.2->albumentations) (4.15.0)\n",
            "Requirement already satisfied: typing-inspection>=0.4.0 in /usr/local/lib/python3.12/dist-packages (from pydantic>=2.9.2->albumentations) (0.4.1)\n"
          ]
        }
      ]
    },
    {
      "cell_type": "markdown",
      "source": [
        "## Data Transformations"
      ],
      "metadata": {
        "id": "iaa0I3sLiZ7Z"
      }
    },
    {
      "cell_type": "code",
      "source": [
        "# Train Phase transformations\n",
        "# train_transforms = transforms.Compose([\n",
        "#     # A.HorizontalFlip(p=0.5),\n",
        "#     transforms.RandomHorizontalFlip(p=0.5),\n",
        "#     transforms.ToTensor(),\n",
        "#     transforms.Normalize(mean=(0.4914, 0.4822, 0.4465),std=(0.2470, 0.2435, 0.2616))\n",
        "# ])\n",
        "\n",
        "# # Test Phase transformations\n",
        "# test_transforms = transforms.Compose([\n",
        "#     transforms.ToTensor(),\n",
        "#     transforms.Normalize(mean=(0.4914, 0.4822, 0.4465),std=(0.2470, 0.2435, 0.2616))\n",
        "# ])\n",
        "\n",
        "# Using Albumentations library for augmentation"
      ],
      "metadata": {
        "id": "agpFOdEpieW-"
      },
      "execution_count": null,
      "outputs": []
    },
    {
      "cell_type": "markdown",
      "source": [
        "## Dataset and Creating Train/Test Split\n"
      ],
      "metadata": {
        "id": "BoPZ5M41im-n"
      }
    },
    {
      "cell_type": "code",
      "source": [
        "train = datasets.CIFAR10('./data', train=True, download=True, transform=train_transforms)\n",
        "test = datasets.CIFAR10('./data', train=False, download=True, transform=test_transforms)"
      ],
      "metadata": {
        "id": "8VChR1PSitvl"
      },
      "execution_count": null,
      "outputs": []
    },
    {
      "cell_type": "markdown",
      "source": [
        "# Dataloader Arguments & Test/Train Dataloaders"
      ],
      "metadata": {
        "id": "hf8l8lYtjZbZ"
      }
    },
    {
      "cell_type": "code",
      "source": [
        "SEED = 1\n",
        "\n",
        "# CUDA?\n",
        "cuda = torch.cuda.is_available()\n",
        "print(\"CUDA Available?\", cuda)\n",
        "\n",
        "# For reproducibility\n",
        "torch.manual_seed(SEED)\n",
        "\n",
        "if cuda:\n",
        "    torch.cuda.manual_seed(SEED)\n",
        "\n",
        "batch_size = 512#256\n",
        "cpu_batch_size = 128#64\n",
        "# dataloader arguments - something you'll fetch these from cmdprmt\n",
        "dataloader_args = dict(shuffle=True, batch_size=batch_size, num_workers=4, pin_memory=True) if cuda else dict(shuffle=True, batch_size=cpu_batch_size)\n",
        "\n",
        "# train dataloader\n",
        "train_loader = torch.utils.data.DataLoader(train, **dataloader_args)\n",
        "\n",
        "# test dataloader\n",
        "test_loader = torch.utils.data.DataLoader(test, **dataloader_args)"
      ],
      "metadata": {
        "colab": {
          "base_uri": "https://localhost:8080/"
        },
        "id": "JP3hQ7S4jfwp",
        "outputId": "2ae38e31-a3a3-44e2-8823-e36c6dfef14e"
      },
      "execution_count": null,
      "outputs": [
        {
          "output_type": "stream",
          "name": "stdout",
          "text": [
            "CUDA Available? True\n"
          ]
        }
      ]
    },
    {
      "cell_type": "markdown",
      "source": [
        "## Data Statistics"
      ],
      "metadata": {
        "id": "h4hB7FDaju3h"
      }
    },
    {
      "cell_type": "code",
      "source": [
        "# Check some images\n",
        "\n",
        "dataiter = iter(train_loader)\n",
        "images, labels = next(dataiter)\n",
        "\n",
        "print(images.shape)\n",
        "print(labels.shape)\n",
        "\n",
        "# Let's visualize some of the images\n",
        "%matplotlib inline\n",
        "import matplotlib.pyplot as plt\n",
        "\n",
        "# img = np.moveaxis(images[0].numpy(), 0, -1)\n",
        "# plt.imshow(img)\n",
        "\n",
        "def imshow(img):\n",
        "        img = img / 2 + 0.5  # Unnormalize\n",
        "        npimg = img.numpy()\n",
        "        plt.imshow(np.transpose(npimg, (1, 2, 0)))\n",
        "        plt.show()\n",
        "\n",
        "\n",
        "classes = ('plane', 'car', 'bird', 'cat', 'deer', 'dog', 'frog', 'horse', 'ship', 'truck')\n",
        "\n",
        "# Show images\n",
        "imshow(torchvision.utils.make_grid(images))\n",
        "\n",
        "# Print labels\n",
        "print(' '.join(f'{classes[labels[j]]:5s}' for j in range(len(labels))))\n",
        "\n",
        "\n",
        "\n",
        "# figure = plt.figure()\n",
        "# num_of_images = 60\n",
        "# for index in range(1, num_of_images + 1):\n",
        "#     plt.subplot(6, 10, index)\n",
        "#     plt.axis('off')\n",
        "#     plt.imshow(images[index].numpy().squeeze(), cmap='gray_r')"
      ],
      "metadata": {
        "colab": {
          "base_uri": "https://localhost:8080/",
          "height": 527
        },
        "id": "Kt0N6RASjwdX",
        "outputId": "0dde05c6-5243-4e37-bce6-94489fa2c1fd"
      },
      "execution_count": null,
      "outputs": [
        {
          "output_type": "stream",
          "name": "stdout",
          "text": [
            "torch.Size([512, 3, 32, 32])\n",
            "torch.Size([512])\n"
          ]
        },
        {
          "output_type": "stream",
          "name": "stderr",
          "text": [
            "WARNING:matplotlib.image:Clipping input data to the valid range for imshow with RGB data ([0..1] for floats or [0..255] for integers). Got range [-0.49473685..1.5632443].\n"
          ]
        },
        {
          "output_type": "display_data",
          "data": {
            "text/plain": [
              "<Figure size 640x480 with 1 Axes>"
            ],
            "image/png": "[encoded data removed]"
          },
          "metadata": {}
        },
        {
          "output_type": "stream",
          "name": "stdout",
          "text": [
            "ship  bird  cat   dog   bird  truck truck plane plane ship  truck frog  bird  bird  dog   frog  ship  deer  horse truck horse horse dog   cat   cat   truck ship  plane car   truck frog  frog  bird  deer  frog  plane deer  truck car   car   horse cat   deer  ship  truck plane frog  ship  plane cat   bird  bird  frog  frog  plane truck cat   bird  ship  bird  bird  deer  bird  frog  ship  deer  deer  truck truck deer  horse cat   dog   truck truck dog   deer  car   dog   car   dog   dog   deer  truck bird  frog  ship  dog   ship  dog   frog  ship  car   dog   car   horse ship  frog  deer  deer  ship  cat   cat   frog  horse ship  horse car   car   truck bird  bird  dog   ship  truck cat   ship  deer  deer  dog   car   ship  dog   horse deer  cat   deer  car   dog   plane bird  truck cat   cat   cat   ship  horse frog  plane dog   bird  truck frog  dog   car   car   horse plane truck cat   bird  car   cat   car   deer  car   ship  horse plane frog  dog   truck deer  bird  car   deer  horse dog   horse frog  frog  car   car   dog   horse bird  horse ship  car   cat   truck horse car   ship  dog   car   frog  dog   cat   ship  bird  horse deer  plane car   horse plane dog   bird  bird  deer  cat   truck truck deer  car   frog  truck car   plane bird  horse frog  deer  dog   plane ship  plane frog  truck horse truck dog   plane ship  ship  cat   bird  dog   bird  deer  bird  truck dog   plane car   plane bird  car   horse car   dog   car   deer  bird  frog  deer  cat   deer  cat   bird  horse plane deer  deer  bird  horse ship  plane truck bird  car   bird  bird  truck dog   deer  bird  frog  cat   ship  bird  dog   ship  plane horse frog  dog   cat   cat   horse cat   deer  dog   frog  horse truck bird  deer  plane horse bird  horse deer  car   bird  bird  deer  truck deer  plane plane horse car   dog   deer  frog  horse deer  car   plane ship  horse ship  frog  cat   ship  frog  deer  plane horse deer  deer  deer  ship  plane plane car   truck cat   frog  plane ship  car   deer  horse horse car   frog  deer  bird  ship  horse horse plane truck cat   frog  ship  car   truck ship  dog   horse deer  frog  car   cat   deer  frog  deer  ship  frog  deer  ship  ship  cat   plane bird  horse frog  ship  dog   cat   truck bird  cat   truck horse bird  plane car   frog  plane car   plane horse frog  horse cat   frog  car   ship  frog  bird  deer  bird  car   frog  frog  car   car   car   plane bird  ship  cat   cat   horse deer  plane ship  dog   horse car   truck deer  deer  horse plane cat   horse horse bird  car   truck ship  deer  bird  frog  frog  plane truck bird  truck truck car   deer  cat   cat   bird  frog  deer  dog   truck horse deer  car   bird  truck plane dog   truck ship  frog  horse plane dog   frog  bird  truck car   dog   ship  car   bird  car   horse dog   car   horse frog  frog  cat   horse bird  ship  deer  bird  truck plane deer  horse deer  frog  deer  dog   bird  frog  cat   ship  horse dog   bird  truck dog   deer  truck horse deer  dog   cat   ship  plane truck frog  dog   frog  cat   dog   deer  ship \n"
          ]
        }
      ]
    },
    {
      "cell_type": "markdown",
      "source": [
        "## Define the model"
      ],
      "metadata": {
        "id": "DXhsTL8EvUSk"
      }
    },
    {
      "cell_type": "code",
      "source": [
        "dropout_value = 0.1\n",
        "\n",
        "class Net(nn.Module):\n",
        "\n",
        "    def __init__(self):\n",
        "        super(Net, self).__init__()\n",
        "\n",
        "        # Conv Block 1\n",
        "        self.conv1 = nn.Sequential(\n",
        "            nn.Conv2d(in_channels=3, out_channels=16, kernel_size=(3, 3), padding=0, bias=False),\n",
        "            nn.ReLU(),\n",
        "            nn.BatchNorm2d(16),\n",
        "            nn.Dropout(dropout_value)\n",
        "        ) # output_size = b x 8 x 30 x 30\n",
        "\n",
        "        self.conv2 = nn.Sequential(\n",
        "            nn.Conv2d(in_channels=16, out_channels=32, kernel_size=(3, 3), padding=0, bias=False),\n",
        "            nn.ReLU(),\n",
        "            nn.BatchNorm2d(32),\n",
        "            nn.Dropout(dropout_value)\n",
        "        ) # output_size = 28\n",
        "\n",
        "        self.conv3 = nn.Sequential(\n",
        "            nn.Conv2d(in_channels=32, out_channels=32, kernel_size=(3, 3), padding=0, bias=False),\n",
        "            nn.ReLU(),\n",
        "            nn.BatchNorm2d(32),\n",
        "            nn.Dropout(dropout_value)\n",
        "        ) # output_size = 26\n",
        "\n",
        "        self.conv4 = nn.Sequential(\n",
        "            nn.Conv2d(in_channels=32, out_channels=64, kernel_size=(3, 3), padding=0, bias=False),\n",
        "            nn.ReLU(),\n",
        "            nn.BatchNorm2d(64),\n",
        "            nn.Dropout(dropout_value)\n",
        "        ) # output_size = 24\n",
        "\n",
        "        # Conv Block 2 -------------------\n",
        "        self.conv5 = nn.Sequential(\n",
        "            nn.Conv2d(in_channels=64, out_channels=16, kernel_size=(1, 1), padding=0, bias=False),\n",
        "            nn.ReLU(),\n",
        "            nn.BatchNorm2d(16),\n",
        "            nn.Dropout(dropout_value)\n",
        "        ) # output_size = 24\n",
        "        self.conv6 = nn.Sequential(\n",
        "            nn.Conv2d(in_channels=16, out_channels=32, kernel_size=(3, 3), padding=0, bias=False),\n",
        "            nn.ReLU(),\n",
        "            nn.BatchNorm2d(32),\n",
        "            nn.Dropout(dropout_value)\n",
        "        ) # output_size = 22\n",
        "\n",
        "        self.conv7 = nn.Sequential(\n",
        "            nn.Conv2d(in_channels=32, out_channels=32, kernel_size=(3, 3), padding=0, bias=False),\n",
        "            nn.ReLU(),\n",
        "            nn.BatchNorm2d(32),\n",
        "            nn.Dropout(dropout_value)\n",
        "        ) # output_size = 20\n",
        "\n",
        "        self.conv8 = nn.Sequential(\n",
        "            nn.Conv2d(in_channels=32, out_channels=64, kernel_size=(3, 3), padding=0, bias=False),\n",
        "            nn.ReLU(),\n",
        "            nn.BatchNorm2d(64),\n",
        "            nn.Dropout(dropout_value)\n",
        "        ) # output_size = 18\n",
        "\n",
        "\n",
        "        # Conv Block 3 ---------------------\n",
        "        self.conv9 = nn.Sequential(\n",
        "            nn.Conv2d(in_channels=64, out_channels=16, kernel_size=(1, 1), padding=0, bias=False),\n",
        "            nn.ReLU(),\n",
        "            nn.BatchNorm2d(16),\n",
        "            nn.Dropout(dropout_value)\n",
        "        ) # output_size = 18\n",
        "        self.conv10 = nn.Sequential(\n",
        "            nn.Conv2d(in_channels=16, out_channels=32, kernel_size=(3, 3), padding=0, bias=False),\n",
        "            nn.ReLU(),\n",
        "            nn.BatchNorm2d(32),\n",
        "            nn.Dropout(dropout_value)\n",
        "        ) # output_size = 16\n",
        "\n",
        "        self.conv11 = nn.Sequential(\n",
        "            nn.Conv2d(in_channels=32, out_channels=32, kernel_size=(3, 3), padding=0, bias=False),\n",
        "            nn.ReLU(),\n",
        "            nn.BatchNorm2d(32),\n",
        "            nn.Dropout(dropout_value)\n",
        "        ) # output_size = 14\n",
        "\n",
        "        self.conv12 = nn.Sequential(\n",
        "            nn.Conv2d(in_channels=32, out_channels=64, kernel_size=(3, 3), padding=0, bias=False),\n",
        "            nn.ReLU(),\n",
        "            nn.BatchNorm2d(64),\n",
        "            nn.Dropout(dropout_value)\n",
        "        ) # output_size = 12\n",
        "\n",
        "\n",
        "        # Conv Block 4\n",
        "        self.conv13 = nn.Sequential(\n",
        "            nn.Conv2d(in_channels=64, out_channels=16, kernel_size=(1, 1), padding=0, bias=False),\n",
        "            nn.ReLU(),\n",
        "            nn.BatchNorm2d(16),\n",
        "            nn.Dropout(dropout_value)\n",
        "        ) # output_size = 12\n",
        "        self.conv14 = nn.Sequential(\n",
        "            nn.Conv2d(in_channels=16, out_channels=32, kernel_size=(3, 3), padding=0, bias=False),\n",
        "            nn.ReLU(),\n",
        "            nn.BatchNorm2d(32),\n",
        "            nn.Dropout(dropout_value)\n",
        "        ) # output_size = 10\n",
        "\n",
        "        self.conv15 = nn.Sequential(\n",
        "            nn.Conv2d(in_channels=32, out_channels=32, kernel_size=(3, 3), padding=0, bias=False),\n",
        "            nn.ReLU(),\n",
        "            nn.BatchNorm2d(32),\n",
        "            nn.Dropout(dropout_value)\n",
        "        ) # output_size = 8\n",
        "\n",
        "        self.conv16 = nn.Sequential(\n",
        "            nn.Conv2d(in_channels=32, out_channels=64, kernel_size=(3, 3), padding=0, bias=False),\n",
        "            nn.ReLU(),\n",
        "            nn.BatchNorm2d(64),\n",
        "            nn.Dropout(dropout_value)\n",
        "        ) # output_size = 6\n",
        "\n",
        "\n",
        "        # Output\n",
        "        self.gap = nn.Sequential(\n",
        "            nn.AvgPool2d(kernel_size=6)\n",
        "        ) # output_size = 1\n",
        "\n",
        "        self.conv17 = nn.Sequential(\n",
        "            nn.Conv2d(in_channels=64, out_channels=10, kernel_size=(1, 1), padding=0, bias=False),\n",
        "            # nn.BatchNorm2d(10),\n",
        "            # nn.Dropout(dropout_value)\n",
        "            # nn.ReLU()\n",
        "        ) # output_size = 7\n",
        "\n",
        "\n",
        "\n",
        "    def forward(self, x):\n",
        "        # block1\n",
        "        x = self.conv1(x)\n",
        "        x = self.conv2(x)\n",
        "        x = self.conv3(x)\n",
        "        x = self.conv4(x)\n",
        "\n",
        "        # block2\n",
        "        x = self.conv5(x)\n",
        "        x = self.conv6(x)\n",
        "        x = self.conv7(x)\n",
        "        x = self.conv8(x)\n",
        "\n",
        "        # block3\n",
        "        x = self.conv9(x)\n",
        "        x = self.conv10(x)\n",
        "        x = self.conv11(x)\n",
        "        x = self.conv12(x)\n",
        "\n",
        "        # block4\n",
        "        x = self.conv13(x)\n",
        "        x = self.conv14(x)\n",
        "        x = self.conv15(x)\n",
        "        x = self.conv16(x)\n",
        "\n",
        "        # Output\n",
        "        x = self.gap(x)\n",
        "        x = self.conv17(x)\n",
        "        x = x.view(-1, 10)\n",
        "\n",
        "        return F.log_softmax(x, dim=-1)\n",
        "\n",
        "\n"
      ],
      "metadata": {
        "id": "BJBWoLtGue4A"
      },
      "execution_count": null,
      "outputs": []
    },
    {
      "cell_type": "markdown",
      "source": [
        "## Model Summary"
      ],
      "metadata": {
        "id": "rBIyNSoH9VFC"
      }
    },
    {
      "cell_type": "code",
      "source": [
        "!pip install torchsummary\n",
        "from torchsummary import summary\n",
        "use_cuda = torch.cuda.is_available()\n",
        "device = torch.device(\"cuda\" if use_cuda else \"cpu\")\n",
        "print(device)\n",
        "model = Net().to(device)\n",
        "summary(model, input_size=(3, 32, 32))"
      ],
      "metadata": {
        "colab": {
          "base_uri": "https://localhost:8080/"
        },
        "id": "tQSCBU4F9WoN",
        "outputId": "3753f7f9-fa29-4125-801d-a7c5413dcbb3"
      },
      "execution_count": null,
      "outputs": [
        {
          "output_type": "stream",
          "name": "stdout",
          "text": [
            "Requirement already satisfied: torchsummary in /usr/local/lib/python3.12/dist-packages (1.5.1)\n",
            "cuda\n",
            "----------------------------------------------------------------\n",
            "        Layer (type)               Output Shape         Param #\n",
            "================================================================\n",
            "            Conv2d-1           [-1, 16, 30, 30]             432\n",
            "              ReLU-2           [-1, 16, 30, 30]               0\n",
            "       BatchNorm2d-3           [-1, 16, 30, 30]              32\n",
            "           Dropout-4           [-1, 16, 30, 30]               0\n",
            "            Conv2d-5           [-1, 32, 28, 28]           4,608\n",
            "              ReLU-6           [-1, 32, 28, 28]               0\n",
            "       BatchNorm2d-7           [-1, 32, 28, 28]              64\n",
            "           Dropout-8           [-1, 32, 28, 28]               0\n",
            "            Conv2d-9           [-1, 32, 26, 26]           9,216\n",
            "             ReLU-10           [-1, 32, 26, 26]               0\n",
            "      BatchNorm2d-11           [-1, 32, 26, 26]              64\n",
            "          Dropout-12           [-1, 32, 26, 26]               0\n",
            "           Conv2d-13           [-1, 64, 24, 24]          18,432\n",
            "             ReLU-14           [-1, 64, 24, 24]               0\n",
            "      BatchNorm2d-15           [-1, 64, 24, 24]             128\n",
            "          Dropout-16           [-1, 64, 24, 24]               0\n",
            "           Conv2d-17           [-1, 16, 24, 24]           1,024\n",
            "             ReLU-18           [-1, 16, 24, 24]               0\n",
            "      BatchNorm2d-19           [-1, 16, 24, 24]              32\n",
            "          Dropout-20           [-1, 16, 24, 24]               0\n",
            "           Conv2d-21           [-1, 32, 22, 22]           4,608\n",
            "             ReLU-22           [-1, 32, 22, 22]               0\n",
            "      BatchNorm2d-23           [-1, 32, 22, 22]              64\n",
            "          Dropout-24           [-1, 32, 22, 22]               0\n",
            "           Conv2d-25           [-1, 32, 20, 20]           9,216\n",
            "             ReLU-26           [-1, 32, 20, 20]               0\n",
            "      BatchNorm2d-27           [-1, 32, 20, 20]              64\n",
            "          Dropout-28           [-1, 32, 20, 20]               0\n",
            "           Conv2d-29           [-1, 64, 18, 18]          18,432\n",
            "             ReLU-30           [-1, 64, 18, 18]               0\n",
            "      BatchNorm2d-31           [-1, 64, 18, 18]             128\n",
            "          Dropout-32           [-1, 64, 18, 18]               0\n",
            "           Conv2d-33           [-1, 16, 18, 18]           1,024\n",
            "             ReLU-34           [-1, 16, 18, 18]               0\n",
            "      BatchNorm2d-35           [-1, 16, 18, 18]              32\n",
            "          Dropout-36           [-1, 16, 18, 18]               0\n",
            "           Conv2d-37           [-1, 32, 16, 16]           4,608\n",
            "             ReLU-38           [-1, 32, 16, 16]               0\n",
            "      BatchNorm2d-39           [-1, 32, 16, 16]              64\n",
            "          Dropout-40           [-1, 32, 16, 16]               0\n",
            "           Conv2d-41           [-1, 32, 14, 14]           9,216\n",
            "             ReLU-42           [-1, 32, 14, 14]               0\n",
            "      BatchNorm2d-43           [-1, 32, 14, 14]              64\n",
            "          Dropout-44           [-1, 32, 14, 14]               0\n",
            "           Conv2d-45           [-1, 64, 12, 12]          18,432\n",
            "             ReLU-46           [-1, 64, 12, 12]               0\n",
            "      BatchNorm2d-47           [-1, 64, 12, 12]             128\n",
            "          Dropout-48           [-1, 64, 12, 12]               0\n",
            "           Conv2d-49           [-1, 16, 12, 12]           1,024\n",
            "             ReLU-50           [-1, 16, 12, 12]               0\n",
            "      BatchNorm2d-51           [-1, 16, 12, 12]              32\n",
            "          Dropout-52           [-1, 16, 12, 12]               0\n",
            "           Conv2d-53           [-1, 32, 10, 10]           4,608\n",
            "             ReLU-54           [-1, 32, 10, 10]               0\n",
            "      BatchNorm2d-55           [-1, 32, 10, 10]              64\n",
            "          Dropout-56           [-1, 32, 10, 10]               0\n",
            "           Conv2d-57             [-1, 32, 8, 8]           9,216\n",
            "             ReLU-58             [-1, 32, 8, 8]               0\n",
            "      BatchNorm2d-59             [-1, 32, 8, 8]              64\n",
            "          Dropout-60             [-1, 32, 8, 8]               0\n",
            "           Conv2d-61             [-1, 64, 6, 6]          18,432\n",
            "             ReLU-62             [-1, 64, 6, 6]               0\n",
            "      BatchNorm2d-63             [-1, 64, 6, 6]             128\n",
            "          Dropout-64             [-1, 64, 6, 6]               0\n",
            "        AvgPool2d-65             [-1, 64, 1, 1]               0\n",
            "           Conv2d-66             [-1, 10, 1, 1]             640\n",
            "================================================================\n",
            "Total params: 134,320\n",
            "Trainable params: 134,320\n",
            "Non-trainable params: 0\n",
            "----------------------------------------------------------------\n",
            "Input size (MB): 0.01\n",
            "Forward/backward pass size (MB): 5.95\n",
            "Params size (MB): 0.51\n",
            "Estimated Total Size (MB): 6.47\n",
            "----------------------------------------------------------------\n"
          ]
        }
      ]
    },
    {
      "cell_type": "markdown",
      "source": [
        "## Train and Test loops"
      ],
      "metadata": {
        "id": "L_N1u-0o95pj"
      }
    },
    {
      "cell_type": "code",
      "source": [
        "from tqdm import tqdm\n",
        "\n",
        "train_losses = []\n",
        "test_losses = []\n",
        "train_acc = []\n",
        "test_acc = []\n",
        "\n",
        "def train(model, device, train_loader, optimizer, epoch):\n",
        "  model.train()\n",
        "  pbar = tqdm(train_loader)\n",
        "  correct = 0\n",
        "  processed = 0\n",
        "  for batch_idx, (data, target) in enumerate(pbar):\n",
        "    # get samples\n",
        "    data, target = data.to(device), target.to(device)\n",
        "\n",
        "    # Init\n",
        "    optimizer.zero_grad()\n",
        "    # In PyTorch, we need to set the gradients to zero before starting to do backpropragation because PyTorch accumulates the gradients on subsequent backward passes.\n",
        "    # Because of this, when you start your training loop, ideally you should zero out the gradients so that you do the parameter update correctly.\n",
        "\n",
        "    # Predict\n",
        "    y_pred = model(data)\n",
        "\n",
        "    # Calculate loss\n",
        "    loss = F.nll_loss(y_pred, target)\n",
        "    train_losses.append(loss)\n",
        "\n",
        "    # Backpropagation\n",
        "    loss.backward()\n",
        "    optimizer.step()\n",
        "\n",
        "    # Update pbar-tqdm\n",
        "\n",
        "    pred = y_pred.argmax(dim=1, keepdim=True)  # get the index of the max log-probability\n",
        "    correct += pred.eq(target.view_as(pred)).sum().item()\n",
        "    processed += len(data)\n",
        "\n",
        "    pbar.set_description(desc= f'Loss={loss.item()} Batch_id={batch_idx} Accuracy={100*correct/processed:0.2f}')\n",
        "    train_acc.append(100*correct/processed)\n",
        "\n",
        "def test(model, device, test_loader):\n",
        "    model.eval()\n",
        "    test_loss = 0\n",
        "    correct = 0\n",
        "    with torch.no_grad():\n",
        "        for data, target in test_loader:\n",
        "            data, target = data.to(device), target.to(device)\n",
        "            output = model(data)\n",
        "            test_loss += F.nll_loss(output, target, reduction='sum').item()  # sum up batch loss\n",
        "            pred = output.argmax(dim=1, keepdim=True)  # get the index of the max log-probability\n",
        "            correct += pred.eq(target.view_as(pred)).sum().item()\n",
        "\n",
        "    test_loss /= len(test_loader.dataset)\n",
        "    test_losses.append(test_loss)\n",
        "\n",
        "    print('\\nTest set: Average loss: {:.4f}, Accuracy: {}/{} ({:.2f}%)\\n'.format(\n",
        "        test_loss, correct, len(test_loader.dataset),\n",
        "        100. * correct / len(test_loader.dataset)))\n",
        "\n",
        "    test_acc.append(100. * correct / len(test_loader.dataset))"
      ],
      "metadata": {
        "id": "CVbf46QZ98AN"
      },
      "execution_count": null,
      "outputs": []
    },
    {
      "cell_type": "markdown",
      "source": [
        "## Training"
      ],
      "metadata": {
        "id": "RIpVScWe-CG2"
      }
    },
    {
      "cell_type": "code",
      "source": [
        "model =  Net().to(device)\n",
        "optimizer = optim.SGD(model.parameters(), lr=0.01, momentum=0.9)\n",
        "EPOCHS = 70\n",
        "for epoch in range(EPOCHS):\n",
        "    print(\"EPOCH:\", epoch)\n",
        "    train(model, device, train_loader, optimizer, epoch)\n",
        "    test(model, device, test_loader)"
      ],
      "metadata": {
        "colab": {
          "base_uri": "https://localhost:8080/"
        },
        "id": "J2DhJyWj-HHh",
        "outputId": "33493d4e-4125-4465-bd21-d2fe809d66fd"
      },
      "execution_count": null,
      "outputs": [
        {
          "output_type": "stream",
          "name": "stdout",
          "text": [
            "EPOCH: 0\n"
          ]
        },
        {
          "output_type": "stream",
          "name": "stderr",
          "text": [
            "Loss=1.8166239261627197 Batch_id=97 Accuracy=24.11: 100%|██████████| 98/98 [00:16<00:00,  5.93it/s]\n"
          ]
        },
        {
          "output_type": "stream",
          "name": "stdout",
          "text": [
            "\n",
            "Test set: Average loss: 1.8382, Accuracy: 3247/10000 (32.47%)\n",
            "\n",
            "EPOCH: 1\n"
          ]
        },
        {
          "output_type": "stream",
          "name": "stderr",
          "text": [
            "Loss=1.4659173488616943 Batch_id=97 Accuracy=39.08: 100%|██████████| 98/98 [00:14<00:00,  6.62it/s]\n"
          ]
        },
        {
          "output_type": "stream",
          "name": "stdout",
          "text": [
            "\n",
            "Test set: Average loss: 1.5516, Accuracy: 4290/10000 (42.90%)\n",
            "\n",
            "EPOCH: 2\n"
          ]
        },
        {
          "output_type": "stream",
          "name": "stderr",
          "text": [
            "Loss=1.3786046504974365 Batch_id=97 Accuracy=46.84: 100%|██████████| 98/98 [00:15<00:00,  6.18it/s]\n"
          ]
        },
        {
          "output_type": "stream",
          "name": "stdout",
          "text": [
            "\n",
            "Test set: Average loss: 1.4134, Accuracy: 4921/10000 (49.21%)\n",
            "\n",
            "EPOCH: 3\n"
          ]
        },
        {
          "output_type": "stream",
          "name": "stderr",
          "text": [
            "Loss=1.3165898323059082 Batch_id=97 Accuracy=51.64: 100%|██████████| 98/98 [00:16<00:00,  5.88it/s]\n"
          ]
        },
        {
          "output_type": "stream",
          "name": "stdout",
          "text": [
            "\n",
            "Test set: Average loss: 1.3103, Accuracy: 5275/10000 (52.75%)\n",
            "\n",
            "EPOCH: 4\n"
          ]
        },
        {
          "output_type": "stream",
          "name": "stderr",
          "text": [
            "Loss=1.2512311935424805 Batch_id=97 Accuracy=54.81: 100%|██████████| 98/98 [00:14<00:00,  6.65it/s]\n"
          ]
        },
        {
          "output_type": "stream",
          "name": "stdout",
          "text": [
            "\n",
            "Test set: Average loss: 1.2192, Accuracy: 5634/10000 (56.34%)\n",
            "\n",
            "EPOCH: 5\n"
          ]
        },
        {
          "output_type": "stream",
          "name": "stderr",
          "text": [
            "Loss=1.1437915563583374 Batch_id=97 Accuracy=57.77: 100%|██████████| 98/98 [00:14<00:00,  6.60it/s]\n"
          ]
        },
        {
          "output_type": "stream",
          "name": "stdout",
          "text": [
            "\n",
            "Test set: Average loss: 1.1632, Accuracy: 5854/10000 (58.54%)\n",
            "\n",
            "EPOCH: 6\n"
          ]
        },
        {
          "output_type": "stream",
          "name": "stderr",
          "text": [
            "Loss=1.1116483211517334 Batch_id=97 Accuracy=59.72: 100%|██████████| 98/98 [00:14<00:00,  6.64it/s]\n"
          ]
        },
        {
          "output_type": "stream",
          "name": "stdout",
          "text": [
            "\n",
            "Test set: Average loss: 1.1260, Accuracy: 5952/10000 (59.52%)\n",
            "\n",
            "EPOCH: 7\n"
          ]
        },
        {
          "output_type": "stream",
          "name": "stderr",
          "text": [
            "Loss=1.1491167545318604 Batch_id=97 Accuracy=61.44: 100%|██████████| 98/98 [00:14<00:00,  6.57it/s]\n"
          ]
        },
        {
          "output_type": "stream",
          "name": "stdout",
          "text": [
            "\n",
            "Test set: Average loss: 1.1028, Accuracy: 6110/10000 (61.10%)\n",
            "\n",
            "EPOCH: 8\n"
          ]
        },
        {
          "output_type": "stream",
          "name": "stderr",
          "text": [
            "Loss=1.0367991924285889 Batch_id=97 Accuracy=62.71: 100%|██████████| 98/98 [00:15<00:00,  6.48it/s]\n"
          ]
        },
        {
          "output_type": "stream",
          "name": "stdout",
          "text": [
            "\n",
            "Test set: Average loss: 1.0668, Accuracy: 6201/10000 (62.01%)\n",
            "\n",
            "EPOCH: 9\n"
          ]
        },
        {
          "output_type": "stream",
          "name": "stderr",
          "text": [
            "Loss=0.9880194664001465 Batch_id=97 Accuracy=63.73: 100%|██████████| 98/98 [00:14<00:00,  6.72it/s]\n"
          ]
        },
        {
          "output_type": "stream",
          "name": "stdout",
          "text": [
            "\n",
            "Test set: Average loss: 1.0189, Accuracy: 6344/10000 (63.44%)\n",
            "\n",
            "EPOCH: 10\n"
          ]
        },
        {
          "output_type": "stream",
          "name": "stderr",
          "text": [
            "Loss=1.02128005027771 Batch_id=97 Accuracy=64.85: 100%|██████████| 98/98 [00:14<00:00,  6.65it/s]\n"
          ]
        },
        {
          "output_type": "stream",
          "name": "stdout",
          "text": [
            "\n",
            "Test set: Average loss: 0.9738, Accuracy: 6534/10000 (65.34%)\n",
            "\n",
            "EPOCH: 11\n"
          ]
        },
        {
          "output_type": "stream",
          "name": "stderr",
          "text": [
            "Loss=0.939967930316925 Batch_id=97 Accuracy=66.04: 100%|██████████| 98/98 [00:14<00:00,  6.62it/s]\n"
          ]
        },
        {
          "output_type": "stream",
          "name": "stdout",
          "text": [
            "\n",
            "Test set: Average loss: 0.9757, Accuracy: 6550/10000 (65.50%)\n",
            "\n",
            "EPOCH: 12\n"
          ]
        },
        {
          "output_type": "stream",
          "name": "stderr",
          "text": [
            "Loss=1.0123344659805298 Batch_id=97 Accuracy=66.81: 100%|██████████| 98/98 [00:14<00:00,  6.54it/s]\n"
          ]
        },
        {
          "output_type": "stream",
          "name": "stdout",
          "text": [
            "\n",
            "Test set: Average loss: 0.9252, Accuracy: 6701/10000 (67.01%)\n",
            "\n",
            "EPOCH: 13\n"
          ]
        },
        {
          "output_type": "stream",
          "name": "stderr",
          "text": [
            "Loss=0.9413331151008606 Batch_id=97 Accuracy=67.53: 100%|██████████| 98/98 [00:15<00:00,  6.51it/s]\n"
          ]
        },
        {
          "output_type": "stream",
          "name": "stdout",
          "text": [
            "\n",
            "Test set: Average loss: 0.9312, Accuracy: 6740/10000 (67.40%)\n",
            "\n",
            "EPOCH: 14\n"
          ]
        },
        {
          "output_type": "stream",
          "name": "stderr",
          "text": [
            "Loss=0.9134708642959595 Batch_id=97 Accuracy=68.25: 100%|██████████| 98/98 [00:14<00:00,  6.66it/s]\n"
          ]
        },
        {
          "output_type": "stream",
          "name": "stdout",
          "text": [
            "\n",
            "Test set: Average loss: 0.9242, Accuracy: 6692/10000 (66.92%)\n",
            "\n",
            "EPOCH: 15\n"
          ]
        },
        {
          "output_type": "stream",
          "name": "stderr",
          "text": [
            "Loss=0.8327255249023438 Batch_id=97 Accuracy=68.76: 100%|██████████| 98/98 [00:14<00:00,  6.67it/s]\n"
          ]
        },
        {
          "output_type": "stream",
          "name": "stdout",
          "text": [
            "\n",
            "Test set: Average loss: 0.9251, Accuracy: 6785/10000 (67.85%)\n",
            "\n",
            "EPOCH: 16\n"
          ]
        },
        {
          "output_type": "stream",
          "name": "stderr",
          "text": [
            "Loss=0.81147301197052 Batch_id=97 Accuracy=69.27: 100%|██████████| 98/98 [00:15<00:00,  6.52it/s]\n"
          ]
        },
        {
          "output_type": "stream",
          "name": "stdout",
          "text": [
            "\n",
            "Test set: Average loss: 0.9034, Accuracy: 6838/10000 (68.38%)\n",
            "\n",
            "EPOCH: 17\n"
          ]
        },
        {
          "output_type": "stream",
          "name": "stderr",
          "text": [
            "Loss=0.784878134727478 Batch_id=97 Accuracy=70.02: 100%|██████████| 98/98 [00:15<00:00,  6.27it/s]\n"
          ]
        },
        {
          "output_type": "stream",
          "name": "stdout",
          "text": [
            "\n",
            "Test set: Average loss: 0.9055, Accuracy: 6816/10000 (68.16%)\n",
            "\n",
            "EPOCH: 18\n"
          ]
        },
        {
          "output_type": "stream",
          "name": "stderr",
          "text": [
            "Loss=0.8513612151145935 Batch_id=97 Accuracy=70.47: 100%|██████████| 98/98 [00:15<00:00,  6.48it/s]\n"
          ]
        },
        {
          "output_type": "stream",
          "name": "stdout",
          "text": [
            "\n",
            "Test set: Average loss: 0.8575, Accuracy: 7038/10000 (70.38%)\n",
            "\n",
            "EPOCH: 19\n"
          ]
        },
        {
          "output_type": "stream",
          "name": "stderr",
          "text": [
            "Loss=0.829104483127594 Batch_id=97 Accuracy=71.12: 100%|██████████| 98/98 [00:16<00:00,  6.04it/s]\n"
          ]
        },
        {
          "output_type": "stream",
          "name": "stdout",
          "text": [
            "\n",
            "Test set: Average loss: 0.8422, Accuracy: 7087/10000 (70.87%)\n",
            "\n",
            "EPOCH: 20\n"
          ]
        },
        {
          "output_type": "stream",
          "name": "stderr",
          "text": [
            "Loss=0.7768544554710388 Batch_id=97 Accuracy=71.24: 100%|██████████| 98/98 [00:15<00:00,  6.23it/s]\n"
          ]
        },
        {
          "output_type": "stream",
          "name": "stdout",
          "text": [
            "\n",
            "Test set: Average loss: 0.8456, Accuracy: 7077/10000 (70.77%)\n",
            "\n",
            "EPOCH: 21\n"
          ]
        },
        {
          "output_type": "stream",
          "name": "stderr",
          "text": [
            "Loss=0.7622113227844238 Batch_id=97 Accuracy=71.82: 100%|██████████| 98/98 [00:16<00:00,  6.11it/s]\n"
          ]
        },
        {
          "output_type": "stream",
          "name": "stdout",
          "text": [
            "\n",
            "Test set: Average loss: 0.8318, Accuracy: 7088/10000 (70.88%)\n",
            "\n",
            "EPOCH: 22\n"
          ]
        },
        {
          "output_type": "stream",
          "name": "stderr",
          "text": [
            "Loss=0.7256836891174316 Batch_id=97 Accuracy=72.38: 100%|██████████| 98/98 [00:15<00:00,  6.32it/s]\n"
          ]
        },
        {
          "output_type": "stream",
          "name": "stdout",
          "text": [
            "\n",
            "Test set: Average loss: 0.8292, Accuracy: 7072/10000 (70.72%)\n",
            "\n",
            "EPOCH: 23\n"
          ]
        },
        {
          "output_type": "stream",
          "name": "stderr",
          "text": [
            "Loss=0.8359721899032593 Batch_id=97 Accuracy=72.69: 100%|██████████| 98/98 [00:15<00:00,  6.19it/s]\n"
          ]
        },
        {
          "output_type": "stream",
          "name": "stdout",
          "text": [
            "\n",
            "Test set: Average loss: 0.8257, Accuracy: 7175/10000 (71.75%)\n",
            "\n",
            "EPOCH: 24\n"
          ]
        },
        {
          "output_type": "stream",
          "name": "stderr",
          "text": [
            "Loss=0.8505406975746155 Batch_id=97 Accuracy=73.01: 100%|██████████| 98/98 [00:14<00:00,  6.59it/s]\n"
          ]
        },
        {
          "output_type": "stream",
          "name": "stdout",
          "text": [
            "\n",
            "Test set: Average loss: 0.8119, Accuracy: 7158/10000 (71.58%)\n",
            "\n",
            "EPOCH: 25\n"
          ]
        },
        {
          "output_type": "stream",
          "name": "stderr",
          "text": [
            "Loss=0.8291763067245483 Batch_id=97 Accuracy=73.33: 100%|██████████| 98/98 [00:15<00:00,  6.30it/s]\n"
          ]
        },
        {
          "output_type": "stream",
          "name": "stdout",
          "text": [
            "\n",
            "Test set: Average loss: 0.8018, Accuracy: 7279/10000 (72.79%)\n",
            "\n",
            "EPOCH: 26\n"
          ]
        },
        {
          "output_type": "stream",
          "name": "stderr",
          "text": [
            "Loss=0.7007416486740112 Batch_id=97 Accuracy=73.79: 100%|██████████| 98/98 [00:16<00:00,  6.02it/s]\n"
          ]
        },
        {
          "output_type": "stream",
          "name": "stdout",
          "text": [
            "\n",
            "Test set: Average loss: 0.8078, Accuracy: 7247/10000 (72.47%)\n",
            "\n",
            "EPOCH: 27\n"
          ]
        },
        {
          "output_type": "stream",
          "name": "stderr",
          "text": [
            "Loss=0.7511768341064453 Batch_id=97 Accuracy=73.81: 100%|██████████| 98/98 [00:15<00:00,  6.26it/s]\n"
          ]
        },
        {
          "output_type": "stream",
          "name": "stdout",
          "text": [
            "\n",
            "Test set: Average loss: 0.7848, Accuracy: 7334/10000 (73.34%)\n",
            "\n",
            "EPOCH: 28\n"
          ]
        },
        {
          "output_type": "stream",
          "name": "stderr",
          "text": [
            "Loss=0.8407801389694214 Batch_id=97 Accuracy=74.27: 100%|██████████| 98/98 [00:15<00:00,  6.17it/s]\n"
          ]
        },
        {
          "output_type": "stream",
          "name": "stdout",
          "text": [
            "\n",
            "Test set: Average loss: 0.8143, Accuracy: 7238/10000 (72.38%)\n",
            "\n",
            "EPOCH: 29\n"
          ]
        },
        {
          "output_type": "stream",
          "name": "stderr",
          "text": [
            "Loss=0.6056861877441406 Batch_id=97 Accuracy=74.46: 100%|██████████| 98/98 [00:15<00:00,  6.25it/s]\n"
          ]
        },
        {
          "output_type": "stream",
          "name": "stdout",
          "text": [
            "\n",
            "Test set: Average loss: 0.7946, Accuracy: 7303/10000 (73.03%)\n",
            "\n",
            "EPOCH: 30\n"
          ]
        },
        {
          "output_type": "stream",
          "name": "stderr",
          "text": [
            "Loss=0.6193369626998901 Batch_id=97 Accuracy=74.61: 100%|██████████| 98/98 [00:15<00:00,  6.18it/s]\n"
          ]
        },
        {
          "output_type": "stream",
          "name": "stdout",
          "text": [
            "\n",
            "Test set: Average loss: 0.7937, Accuracy: 7277/10000 (72.77%)\n",
            "\n",
            "EPOCH: 31\n"
          ]
        },
        {
          "output_type": "stream",
          "name": "stderr",
          "text": [
            "Loss=0.8134973645210266 Batch_id=97 Accuracy=75.23: 100%|██████████| 98/98 [00:17<00:00,  5.62it/s]\n"
          ]
        },
        {
          "output_type": "stream",
          "name": "stdout",
          "text": [
            "\n",
            "Test set: Average loss: 0.7563, Accuracy: 7410/10000 (74.10%)\n",
            "\n",
            "EPOCH: 32\n"
          ]
        },
        {
          "output_type": "stream",
          "name": "stderr",
          "text": [
            "Loss=0.7307394742965698 Batch_id=97 Accuracy=75.28: 100%|██████████| 98/98 [00:15<00:00,  6.18it/s]\n"
          ]
        },
        {
          "output_type": "stream",
          "name": "stdout",
          "text": [
            "\n",
            "Test set: Average loss: 0.7560, Accuracy: 7416/10000 (74.16%)\n",
            "\n",
            "EPOCH: 33\n"
          ]
        },
        {
          "output_type": "stream",
          "name": "stderr",
          "text": [
            "Loss=0.7878702878952026 Batch_id=97 Accuracy=75.42: 100%|██████████| 98/98 [00:16<00:00,  5.82it/s]\n"
          ]
        },
        {
          "output_type": "stream",
          "name": "stdout",
          "text": [
            "\n",
            "Test set: Average loss: 0.7259, Accuracy: 7513/10000 (75.13%)\n",
            "\n",
            "EPOCH: 34\n"
          ]
        },
        {
          "output_type": "stream",
          "name": "stderr",
          "text": [
            "Loss=0.6994805932044983 Batch_id=97 Accuracy=75.58: 100%|██████████| 98/98 [00:16<00:00,  6.12it/s]\n"
          ]
        },
        {
          "output_type": "stream",
          "name": "stdout",
          "text": [
            "\n",
            "Test set: Average loss: 0.7435, Accuracy: 7470/10000 (74.70%)\n",
            "\n",
            "EPOCH: 35\n"
          ]
        },
        {
          "output_type": "stream",
          "name": "stderr",
          "text": [
            "Loss=0.7737385034561157 Batch_id=97 Accuracy=76.16: 100%|██████████| 98/98 [00:16<00:00,  5.97it/s]\n"
          ]
        },
        {
          "output_type": "stream",
          "name": "stdout",
          "text": [
            "\n",
            "Test set: Average loss: 0.7281, Accuracy: 7554/10000 (75.54%)\n",
            "\n",
            "EPOCH: 36\n"
          ]
        },
        {
          "output_type": "stream",
          "name": "stderr",
          "text": [
            "Loss=0.7078880667686462 Batch_id=97 Accuracy=76.29: 100%|██████████| 98/98 [00:16<00:00,  6.12it/s]\n"
          ]
        },
        {
          "output_type": "stream",
          "name": "stdout",
          "text": [
            "\n",
            "Test set: Average loss: 0.7483, Accuracy: 7439/10000 (74.39%)\n",
            "\n",
            "EPOCH: 37\n"
          ]
        },
        {
          "output_type": "stream",
          "name": "stderr",
          "text": [
            "Loss=0.7152304649353027 Batch_id=97 Accuracy=76.35: 100%|██████████| 98/98 [00:16<00:00,  5.95it/s]\n"
          ]
        },
        {
          "output_type": "stream",
          "name": "stdout",
          "text": [
            "\n",
            "Test set: Average loss: 0.7298, Accuracy: 7503/10000 (75.03%)\n",
            "\n",
            "EPOCH: 38\n"
          ]
        },
        {
          "output_type": "stream",
          "name": "stderr",
          "text": [
            "Loss=0.6825476288795471 Batch_id=97 Accuracy=76.45: 100%|██████████| 98/98 [00:16<00:00,  6.09it/s]\n"
          ]
        },
        {
          "output_type": "stream",
          "name": "stdout",
          "text": [
            "\n",
            "Test set: Average loss: 0.7204, Accuracy: 7553/10000 (75.53%)\n",
            "\n",
            "EPOCH: 39\n"
          ]
        },
        {
          "output_type": "stream",
          "name": "stderr",
          "text": [
            "Loss=0.6819760203361511 Batch_id=97 Accuracy=76.96: 100%|██████████| 98/98 [00:16<00:00,  5.78it/s]\n"
          ]
        },
        {
          "output_type": "stream",
          "name": "stdout",
          "text": [
            "\n",
            "Test set: Average loss: 0.7031, Accuracy: 7589/10000 (75.89%)\n",
            "\n",
            "EPOCH: 40\n"
          ]
        },
        {
          "output_type": "stream",
          "name": "stderr",
          "text": [
            "Loss=0.6925296783447266 Batch_id=97 Accuracy=76.89: 100%|██████████| 98/98 [00:15<00:00,  6.13it/s]\n"
          ]
        },
        {
          "output_type": "stream",
          "name": "stdout",
          "text": [
            "\n",
            "Test set: Average loss: 0.7465, Accuracy: 7466/10000 (74.66%)\n",
            "\n",
            "EPOCH: 41\n"
          ]
        },
        {
          "output_type": "stream",
          "name": "stderr",
          "text": [
            "Loss=0.6542069315910339 Batch_id=97 Accuracy=77.01: 100%|██████████| 98/98 [00:16<00:00,  5.96it/s]\n"
          ]
        },
        {
          "output_type": "stream",
          "name": "stdout",
          "text": [
            "\n",
            "Test set: Average loss: 0.7284, Accuracy: 7522/10000 (75.22%)\n",
            "\n",
            "EPOCH: 42\n"
          ]
        },
        {
          "output_type": "stream",
          "name": "stderr",
          "text": [
            "Loss=0.6431178450584412 Batch_id=97 Accuracy=77.68: 100%|██████████| 98/98 [00:16<00:00,  6.04it/s]\n"
          ]
        },
        {
          "output_type": "stream",
          "name": "stdout",
          "text": [
            "\n",
            "Test set: Average loss: 0.7160, Accuracy: 7583/10000 (75.83%)\n",
            "\n",
            "EPOCH: 43\n"
          ]
        },
        {
          "output_type": "stream",
          "name": "stderr",
          "text": [
            "Loss=0.605074942111969 Batch_id=97 Accuracy=77.65: 100%|██████████| 98/98 [00:15<00:00,  6.20it/s]\n"
          ]
        },
        {
          "output_type": "stream",
          "name": "stdout",
          "text": [
            "\n",
            "Test set: Average loss: 0.6857, Accuracy: 7657/10000 (76.57%)\n",
            "\n",
            "EPOCH: 44\n"
          ]
        },
        {
          "output_type": "stream",
          "name": "stderr",
          "text": [
            "Loss=0.582892894744873 Batch_id=97 Accuracy=77.69: 100%|██████████| 98/98 [00:16<00:00,  6.10it/s]\n"
          ]
        },
        {
          "output_type": "stream",
          "name": "stdout",
          "text": [
            "\n",
            "Test set: Average loss: 0.7021, Accuracy: 7622/10000 (76.22%)\n",
            "\n",
            "EPOCH: 45\n"
          ]
        },
        {
          "output_type": "stream",
          "name": "stderr",
          "text": [
            "Loss=0.6713039875030518 Batch_id=97 Accuracy=77.53: 100%|██████████| 98/98 [00:15<00:00,  6.14it/s]\n"
          ]
        },
        {
          "output_type": "stream",
          "name": "stdout",
          "text": [
            "\n",
            "Test set: Average loss: 0.6997, Accuracy: 7625/10000 (76.25%)\n",
            "\n",
            "EPOCH: 46\n"
          ]
        },
        {
          "output_type": "stream",
          "name": "stderr",
          "text": [
            "Loss=0.5081309080123901 Batch_id=97 Accuracy=77.94: 100%|██████████| 98/98 [00:16<00:00,  6.10it/s]\n"
          ]
        },
        {
          "output_type": "stream",
          "name": "stdout",
          "text": [
            "\n",
            "Test set: Average loss: 0.6819, Accuracy: 7649/10000 (76.49%)\n",
            "\n",
            "EPOCH: 47\n"
          ]
        },
        {
          "output_type": "stream",
          "name": "stderr",
          "text": [
            "Loss=0.5266565680503845 Batch_id=97 Accuracy=78.03: 100%|██████████| 98/98 [00:16<00:00,  6.11it/s]\n"
          ]
        },
        {
          "output_type": "stream",
          "name": "stdout",
          "text": [
            "\n",
            "Test set: Average loss: 0.6938, Accuracy: 7639/10000 (76.39%)\n",
            "\n",
            "EPOCH: 48\n"
          ]
        },
        {
          "output_type": "stream",
          "name": "stderr",
          "text": [
            "Loss=0.6426553130149841 Batch_id=97 Accuracy=78.20: 100%|██████████| 98/98 [00:15<00:00,  6.15it/s]\n"
          ]
        },
        {
          "output_type": "stream",
          "name": "stdout",
          "text": [
            "\n",
            "Test set: Average loss: 0.6845, Accuracy: 7663/10000 (76.63%)\n",
            "\n",
            "EPOCH: 49\n"
          ]
        },
        {
          "output_type": "stream",
          "name": "stderr",
          "text": [
            "Loss=0.5553821325302124 Batch_id=97 Accuracy=78.80: 100%|██████████| 98/98 [00:15<00:00,  6.22it/s]\n"
          ]
        },
        {
          "output_type": "stream",
          "name": "stdout",
          "text": [
            "\n",
            "Test set: Average loss: 0.6987, Accuracy: 7643/10000 (76.43%)\n",
            "\n",
            "EPOCH: 50\n"
          ]
        },
        {
          "output_type": "stream",
          "name": "stderr",
          "text": [
            "Loss=0.5897436738014221 Batch_id=97 Accuracy=78.75: 100%|██████████| 98/98 [00:16<00:00,  5.97it/s]\n"
          ]
        },
        {
          "output_type": "stream",
          "name": "stdout",
          "text": [
            "\n",
            "Test set: Average loss: 0.6902, Accuracy: 7643/10000 (76.43%)\n",
            "\n",
            "EPOCH: 51\n"
          ]
        },
        {
          "output_type": "stream",
          "name": "stderr",
          "text": [
            "Loss=0.6416627168655396 Batch_id=97 Accuracy=78.76: 100%|██████████| 98/98 [00:15<00:00,  6.15it/s]\n"
          ]
        },
        {
          "output_type": "stream",
          "name": "stdout",
          "text": [
            "\n",
            "Test set: Average loss: 0.7086, Accuracy: 7645/10000 (76.45%)\n",
            "\n",
            "EPOCH: 52\n"
          ]
        },
        {
          "output_type": "stream",
          "name": "stderr",
          "text": [
            "Loss=0.6252762675285339 Batch_id=97 Accuracy=78.98: 100%|██████████| 98/98 [00:16<00:00,  5.88it/s]\n"
          ]
        },
        {
          "output_type": "stream",
          "name": "stdout",
          "text": [
            "\n",
            "Test set: Average loss: 0.6713, Accuracy: 7740/10000 (77.40%)\n",
            "\n",
            "EPOCH: 53\n"
          ]
        },
        {
          "output_type": "stream",
          "name": "stderr",
          "text": [
            "Loss=0.6948004364967346 Batch_id=97 Accuracy=78.79: 100%|██████████| 98/98 [00:15<00:00,  6.18it/s]\n"
          ]
        },
        {
          "output_type": "stream",
          "name": "stdout",
          "text": [
            "\n",
            "Test set: Average loss: 0.6897, Accuracy: 7652/10000 (76.52%)\n",
            "\n",
            "EPOCH: 54\n"
          ]
        },
        {
          "output_type": "stream",
          "name": "stderr",
          "text": [
            "Loss=0.5968473553657532 Batch_id=97 Accuracy=78.90: 100%|██████████| 98/98 [00:16<00:00,  5.89it/s]\n"
          ]
        },
        {
          "output_type": "stream",
          "name": "stdout",
          "text": [
            "\n",
            "Test set: Average loss: 0.6512, Accuracy: 7800/10000 (78.00%)\n",
            "\n",
            "EPOCH: 55\n"
          ]
        },
        {
          "output_type": "stream",
          "name": "stderr",
          "text": [
            "Loss=0.5978857278823853 Batch_id=97 Accuracy=79.42: 100%|██████████| 98/98 [00:16<00:00,  6.11it/s]\n"
          ]
        },
        {
          "output_type": "stream",
          "name": "stdout",
          "text": [
            "\n",
            "Test set: Average loss: 0.6726, Accuracy: 7729/10000 (77.29%)\n",
            "\n",
            "EPOCH: 56\n"
          ]
        },
        {
          "output_type": "stream",
          "name": "stderr",
          "text": [
            "Loss=0.5313359498977661 Batch_id=97 Accuracy=79.42: 100%|██████████| 98/98 [00:15<00:00,  6.25it/s]\n"
          ]
        },
        {
          "output_type": "stream",
          "name": "stdout",
          "text": [
            "\n",
            "Test set: Average loss: 0.6708, Accuracy: 7715/10000 (77.15%)\n",
            "\n",
            "EPOCH: 57\n"
          ]
        },
        {
          "output_type": "stream",
          "name": "stderr",
          "text": [
            "Loss=0.5855317115783691 Batch_id=97 Accuracy=79.64: 100%|██████████| 98/98 [00:15<00:00,  6.43it/s]\n"
          ]
        },
        {
          "output_type": "stream",
          "name": "stdout",
          "text": [
            "\n",
            "Test set: Average loss: 0.6690, Accuracy: 7741/10000 (77.41%)\n",
            "\n",
            "EPOCH: 58\n"
          ]
        },
        {
          "output_type": "stream",
          "name": "stderr",
          "text": [
            "Loss=0.6892649531364441 Batch_id=97 Accuracy=79.46: 100%|██████████| 98/98 [00:16<00:00,  5.96it/s]\n"
          ]
        },
        {
          "output_type": "stream",
          "name": "stdout",
          "text": [
            "\n",
            "Test set: Average loss: 0.6606, Accuracy: 7737/10000 (77.37%)\n",
            "\n",
            "EPOCH: 59\n"
          ]
        },
        {
          "output_type": "stream",
          "name": "stderr",
          "text": [
            "Loss=0.551240086555481 Batch_id=97 Accuracy=79.73: 100%|██████████| 98/98 [00:15<00:00,  6.25it/s]\n"
          ]
        },
        {
          "output_type": "stream",
          "name": "stdout",
          "text": [
            "\n",
            "Test set: Average loss: 0.6713, Accuracy: 7733/10000 (77.33%)\n",
            "\n",
            "EPOCH: 60\n"
          ]
        },
        {
          "output_type": "stream",
          "name": "stderr",
          "text": [
            "Loss=0.5954095721244812 Batch_id=97 Accuracy=79.73: 100%|██████████| 98/98 [00:14<00:00,  6.54it/s]\n"
          ]
        },
        {
          "output_type": "stream",
          "name": "stdout",
          "text": [
            "\n",
            "Test set: Average loss: 0.6603, Accuracy: 7748/10000 (77.48%)\n",
            "\n",
            "EPOCH: 61\n"
          ]
        },
        {
          "output_type": "stream",
          "name": "stderr",
          "text": [
            "Loss=0.5443644523620605 Batch_id=97 Accuracy=79.65: 100%|██████████| 98/98 [00:15<00:00,  6.51it/s]\n"
          ]
        },
        {
          "output_type": "stream",
          "name": "stdout",
          "text": [
            "\n",
            "Test set: Average loss: 0.6710, Accuracy: 7693/10000 (76.93%)\n",
            "\n",
            "EPOCH: 62\n"
          ]
        },
        {
          "output_type": "stream",
          "name": "stderr",
          "text": [
            "Loss=0.5225254893302917 Batch_id=97 Accuracy=79.94: 100%|██████████| 98/98 [00:15<00:00,  6.42it/s]\n"
          ]
        },
        {
          "output_type": "stream",
          "name": "stdout",
          "text": [
            "\n",
            "Test set: Average loss: 0.6491, Accuracy: 7794/10000 (77.94%)\n",
            "\n",
            "EPOCH: 63\n"
          ]
        },
        {
          "output_type": "stream",
          "name": "stderr",
          "text": [
            "Loss=0.5843309760093689 Batch_id=97 Accuracy=80.18: 100%|██████████| 98/98 [00:14<00:00,  6.64it/s]\n"
          ]
        },
        {
          "output_type": "stream",
          "name": "stdout",
          "text": [
            "\n",
            "Test set: Average loss: 0.6509, Accuracy: 7805/10000 (78.05%)\n",
            "\n",
            "EPOCH: 64\n"
          ]
        },
        {
          "output_type": "stream",
          "name": "stderr",
          "text": [
            "Loss=0.630469799041748 Batch_id=97 Accuracy=80.51: 100%|██████████| 98/98 [00:15<00:00,  6.51it/s]\n"
          ]
        },
        {
          "output_type": "stream",
          "name": "stdout",
          "text": [
            "\n",
            "Test set: Average loss: 0.6360, Accuracy: 7832/10000 (78.32%)\n",
            "\n",
            "EPOCH: 65\n"
          ]
        },
        {
          "output_type": "stream",
          "name": "stderr",
          "text": [
            "Loss=0.5445153117179871 Batch_id=97 Accuracy=80.26: 100%|██████████| 98/98 [00:15<00:00,  6.50it/s]\n"
          ]
        },
        {
          "output_type": "stream",
          "name": "stdout",
          "text": [
            "\n",
            "Test set: Average loss: 0.6456, Accuracy: 7818/10000 (78.18%)\n",
            "\n",
            "EPOCH: 66\n"
          ]
        },
        {
          "output_type": "stream",
          "name": "stderr",
          "text": [
            "Loss=0.5243894457817078 Batch_id=97 Accuracy=80.25: 100%|██████████| 98/98 [00:14<00:00,  6.60it/s]\n"
          ]
        },
        {
          "output_type": "stream",
          "name": "stdout",
          "text": [
            "\n",
            "Test set: Average loss: 0.6457, Accuracy: 7814/10000 (78.14%)\n",
            "\n",
            "EPOCH: 67\n"
          ]
        },
        {
          "output_type": "stream",
          "name": "stderr",
          "text": [
            "Loss=0.5451947450637817 Batch_id=97 Accuracy=80.59: 100%|██████████| 98/98 [00:15<00:00,  6.24it/s]\n"
          ]
        },
        {
          "output_type": "stream",
          "name": "stdout",
          "text": [
            "\n",
            "Test set: Average loss: 0.6381, Accuracy: 7852/10000 (78.52%)\n",
            "\n",
            "EPOCH: 68\n"
          ]
        },
        {
          "output_type": "stream",
          "name": "stderr",
          "text": [
            "Loss=0.543708086013794 Batch_id=97 Accuracy=80.63: 100%|██████████| 98/98 [00:14<00:00,  6.54it/s]\n"
          ]
        },
        {
          "output_type": "stream",
          "name": "stdout",
          "text": [
            "\n",
            "Test set: Average loss: 0.6577, Accuracy: 7791/10000 (77.91%)\n",
            "\n",
            "EPOCH: 69\n"
          ]
        },
        {
          "output_type": "stream",
          "name": "stderr",
          "text": [
            "Loss=0.5466058850288391 Batch_id=97 Accuracy=80.69: 100%|██████████| 98/98 [00:14<00:00,  6.56it/s]\n"
          ]
        },
        {
          "output_type": "stream",
          "name": "stdout",
          "text": [
            "\n",
            "Test set: Average loss: 0.6371, Accuracy: 7865/10000 (78.65%)\n",
            "\n"
          ]
        }
      ]
    },
    {
      "cell_type": "markdown",
      "source": [
        "## Accuracy and Loss curves"
      ],
      "metadata": {
        "id": "xpdcETT0-Mjb"
      }
    },
    {
      "cell_type": "code",
      "source": [
        "t = [t_items.item() for t_items in train_losses]\n",
        "%matplotlib inline\n",
        "import matplotlib.pyplot as plt\n",
        "fig, axs = plt.subplots(2,2,figsize=(15,10))\n",
        "axs[0, 0].plot(t)\n",
        "axs[0, 0].set_title(\"Training Loss\")\n",
        "axs[1, 0].plot(train_acc)\n",
        "axs[1, 0].set_title(\"Training Accuracy\")\n",
        "axs[0, 1].plot(test_losses)\n",
        "axs[0, 1].set_title(\"Test Loss\")\n",
        "axs[1, 1].plot(test_acc)\n",
        "axs[1, 1].set_title(\"Test Accuracy\")"
      ],
      "metadata": {
        "id": "Szd8q0v6-OhD"
      },
      "execution_count": null,
      "outputs": []
    },
    {
      "cell_type": "markdown",
      "source": [],
      "metadata": {
        "id": "VC-3NhFPCAnX"
      }
    }
  ]
}