{
  "cells": [
    {
      "cell_type": "markdown",
      "metadata": {
        "id": "view-in-github",
        "colab_type": "text"
      },
      "source": [
        "<a href=\"https://colab.research.google.com/github/smitasasindran/era4/blob/session5/Session5/ERA4_Session_5_Iteration4.ipynb\" target=\"_parent\"><img src=\"https://colab.research.google.com/assets/colab-badge.svg\" alt=\"Open In Colab\"/></a>"
      ]
    },
    {
      "cell_type": "markdown",
      "metadata": {
        "id": "vvXev9Nmx-4Y"
      },
      "source": [
        "1. Import libraries"
      ]
    },
    {
      "cell_type": "code",
      "execution_count": 45,
      "metadata": {
        "id": "SNdwG3ChxnGl"
      },
      "outputs": [],
      "source": [
        "import torch\n",
        "import torch.nn as nn\n",
        "import torch.nn.functional as F\n",
        "import torch.optim as optim\n",
        "from torchvision import datasets, transforms"
      ]
    },
    {
      "cell_type": "markdown",
      "metadata": {
        "id": "v4QwlnK6x359"
      },
      "source": [
        "2. Check GPU"
      ]
    },
    {
      "cell_type": "code",
      "execution_count": 46,
      "metadata": {
        "colab": {
          "base_uri": "https://localhost:8080/"
        },
        "id": "CSHB9P21yIiG",
        "outputId": "fcca990f-6870-4bc3-c086-433c6cff49ec"
      },
      "outputs": [
        {
          "output_type": "stream",
          "name": "stdout",
          "text": [
            "CUDA Available: True\n"
          ]
        }
      ],
      "source": [
        "cuda = torch.cuda.is_available()\n",
        "print(f\"CUDA Available: {cuda}\")\n",
        "\n",
        "random_seed = 21\n",
        "torch.manual_seed(random_seed)\n",
        "if cuda:\n",
        "    torch.cuda.manual_seed(random_seed)"
      ]
    },
    {
      "cell_type": "markdown",
      "metadata": {
        "id": "mV85SyJlySMO"
      },
      "source": [
        "3. Create transformations"
      ]
    },
    {
      "cell_type": "code",
      "execution_count": 47,
      "metadata": {
        "id": "LG_lQdNwyWAS"
      },
      "outputs": [],
      "source": [
        "# Train data transformations\n",
        "train_transforms = transforms.Compose([\n",
        "    transforms.RandomApply([transforms.CenterCrop(22), ], p=0.1),\n",
        "    transforms.Resize((28, 28)),\n",
        "    transforms.RandomRotation((-15., 15.), fill=0),\n",
        "    transforms.ToTensor(),\n",
        "    transforms.Normalize((0.1307,), (0.3081,)),\n",
        "])\n",
        "\n",
        "# Test data transformations. Use same mean and std as train set\n",
        "test_transforms = transforms.Compose([\n",
        "    transforms.ToTensor(),\n",
        "    # transforms.Normalize((0.1407,), (0.4081,))\n",
        "    transforms.Normalize((0.1307,), (0.3081,)),\n",
        "])"
      ]
    },
    {
      "cell_type": "markdown",
      "metadata": {
        "id": "_6KNIhHKzTth"
      },
      "source": [
        "4. Get train and test data"
      ]
    },
    {
      "cell_type": "code",
      "execution_count": 48,
      "metadata": {
        "id": "5U70eOtvzbGC"
      },
      "outputs": [],
      "source": [
        "train_data = datasets.MNIST('../data', train=True, download=True, transform=train_transforms)\n",
        "test_data = datasets.MNIST('../data', train=False, download=True, transform=test_transforms)"
      ]
    },
    {
      "cell_type": "markdown",
      "metadata": {
        "id": "fXSbXAMaztu3"
      },
      "source": [
        "5. Create data loaders"
      ]
    },
    {
      "cell_type": "code",
      "execution_count": 49,
      "metadata": {
        "id": "bV_fV3zqzvf8"
      },
      "outputs": [],
      "source": [
        "batch_size = 128\n",
        "# batch_size=256\n",
        "# kwargs = {'batch_size': batch_size, 'shuffle': False, 'num_workers': 2, 'pin_memory': True}\n",
        "kwargs = {'batch_size': batch_size, 'shuffle': False, 'num_workers': 2, 'pin_memory': True}\n",
        "\n",
        "train_loader = torch.utils.data.DataLoader(train_data, **kwargs)\n",
        "test_loader = torch.utils.data.DataLoader(test_data, **kwargs)"
      ]
    },
    {
      "cell_type": "markdown",
      "metadata": {
        "id": "zSysAPrC0GKA"
      },
      "source": [
        "6. Plot some data"
      ]
    },
    {
      "cell_type": "code",
      "execution_count": 50,
      "metadata": {
        "colab": {
          "base_uri": "https://localhost:8080/",
          "height": 463
        },
        "id": "fqIeDHji0Ijs",
        "outputId": "7755c168-8a4e-42ec-855b-61bd9d4a1124"
      },
      "outputs": [
        {
          "output_type": "display_data",
          "data": {
            "text/plain": [
              "<Figure size 640x480 with 12 Axes>"
            ],
            "image/png": "[encoded data removed]"
          },
          "metadata": {}
        }
      ],
      "source": [
        "import matplotlib.pyplot as plt\n",
        "\n",
        "batch_data, batch_label = next(iter(train_loader))\n",
        "\n",
        "fig = plt.figure()\n",
        "\n",
        "for i in range(12):\n",
        "  plt.subplot(3,4,i+1)\n",
        "  plt.tight_layout()\n",
        "  plt.imshow(batch_data[i].squeeze(0), cmap='gray')\n",
        "  plt.title(batch_label[i].item())\n",
        "  plt.xticks([])\n",
        "  plt.yticks([])\n"
      ]
    },
    {
      "cell_type": "markdown",
      "metadata": {
        "id": "00o3FZun0dRo"
      },
      "source": [
        "7. Create the model"
      ]
    },
    {
      "cell_type": "code",
      "source": [
        "# class Net(nn.Module):\n",
        "#     # Define the structure of the NN\n",
        "\n",
        "#     def __init__(self):\n",
        "#         super(Net, self).__init__()\n",
        "#         self.conv1 = nn.Conv2d(1, 8, kernel_size=3)\n",
        "#         self.bn1 = nn.BatchNorm2d(num_features=8) # num_features should match previous layer out channels\n",
        "#         self.conv2 = nn.Conv2d(8, 16, kernel_size=3)\n",
        "#         self.bn2 = nn.BatchNorm2d(num_features=16)\n",
        "#         self.conv3 = nn.Conv2d(16, 32, kernel_size=3)\n",
        "#         self.dropout1 = nn.Dropout(p=0.05)\n",
        "#         self.bn3 = nn.BatchNorm2d(num_features=32)\n",
        "#         self.conv4 = nn.Conv2d(32, 8, kernel_size=1)\n",
        "#         # -> maxpooling\n",
        "#         self.conv5 = nn.Conv2d(8, 16, kernel_size=3)\n",
        "#         self.bn5 = nn.BatchNorm2d(num_features=16)\n",
        "#         self.conv6 = nn.Conv2d(16, 16, kernel_size=3)\n",
        "#         self.bn6 = nn.BatchNorm2d(num_features=16)\n",
        "#         self.fc1 = nn.Linear(784, 10)\n",
        "#         self.dropout2 = nn.Dropout(p=0.05)\n",
        "\n",
        "#     def forward(self, x):\n",
        "#         # 1 x 1 should be before maxpooling, not after -- compress original features better\n",
        "#         # relu after maxpooling, or relu before maxpooling have same output\n",
        "\n",
        "#         x = F.relu(self.conv1(x), 2)    # 512 x 8 x 26 x 26\n",
        "#         x = self.bn1(x)\n",
        "#         x = F.relu(self.conv2(x), 2)    # 512 x 16 x 24 x 24\n",
        "#         x = self.bn2(x)\n",
        "#         x = F.relu(self.conv3(x))       # 512 x 32 x 22 x 22\n",
        "#         x = self.bn3(x)\n",
        "#         x = self.dropout1(x)\n",
        "#         x = self.conv4(x)               # 512 x 8 x 22 x 22\n",
        "#         x = F.relu(F.max_pool2d(x, 2))  # 512 x 8 x 11 x 11\n",
        "\n",
        "#         x = F.relu(self.conv5(x))  # 512 x 16 x 9 x 9\n",
        "#         x = self.bn5(x)\n",
        "#         x = F.relu(self.conv6(x))  # 512 x 32 x 7 x 7\n",
        "#         x = self.bn6(x)\n",
        "#         x = x.view(-1, 784)\n",
        "#         x = self.dropout2(x)\n",
        "#         x = self.fc1(x)\n",
        "#         return x\n"
      ],
      "metadata": {
        "id": "qLU-potH5w9V"
      },
      "execution_count": 51,
      "outputs": []
    },
    {
      "cell_type": "code",
      "source": [
        "class Net(nn.Module):\n",
        "    # Define the structure of the NN\n",
        "\n",
        "    def __init__(self):\n",
        "        super(Net, self).__init__()\n",
        "        self.conv1 = nn.Conv2d(1, 8, kernel_size=3)\n",
        "        self.bn1 = nn.BatchNorm2d(num_features=8) # num_features should match previous layer out channels\n",
        "        self.conv2 = nn.Conv2d(8, 16, kernel_size=3)\n",
        "        self.bn2 = nn.BatchNorm2d(num_features=16)\n",
        "        self.conv3 = nn.Conv2d(16, 32, kernel_size=3)\n",
        "        self.dropout1 = nn.Dropout(p=0.05)\n",
        "        self.bn3 = nn.BatchNorm2d(num_features=32)\n",
        "        self.conv4 = nn.Conv2d(32, 8, kernel_size=1)\n",
        "        # -> maxpooling\n",
        "        self.conv5 = nn.Conv2d(8, 16, kernel_size=3)\n",
        "        self.bn5 = nn.BatchNorm2d(num_features=16)\n",
        "        self.conv6 = nn.Conv2d(16, 16, kernel_size=3)\n",
        "        self.bn6 = nn.BatchNorm2d(num_features=16)\n",
        "        self.fc1 = nn.Linear(784, 10)\n",
        "\n",
        "    def forward(self, x):\n",
        "        # 1 x 1 should be before maxpooling, not after -- compress original features better\n",
        "        # relu after maxpooling, or relu before maxpooling have same output\n",
        "\n",
        "        x = F.relu(self.conv1(x), 2)    # 512 x 8 x 26 x 26\n",
        "        x = self.bn1(x)\n",
        "        x = F.relu(self.conv2(x), 2)    # 512 x 16 x 24 x 24\n",
        "        x = self.bn2(x)\n",
        "        x = F.relu(self.conv3(x))       # 512 x 32 x 22 x 22\n",
        "        x = self.bn3(x)\n",
        "        # print(f\"Before dropout1: {x.shape}\")\n",
        "        x = self.dropout1(x)\n",
        "        x = self.conv4(x)               # 512 x 8 x 22 x 22\n",
        "        # print(f\"After conv4: {x.shape}\")\n",
        "        x = F.relu(F.max_pool2d(x, 2))  # 512 x 8 x 11 x 11\n",
        "\n",
        "        x = F.relu(self.conv5(x))  # 512 x 16 x 9 x 9\n",
        "        x = self.bn5(x)\n",
        "        x = F.relu(self.conv6(x))  # 512 x 32 x 7 x 7\n",
        "        x = self.bn6(x)\n",
        "        x = x.view(-1, 784)\n",
        "        x = self.fc1(x)\n",
        "        return x\n"
      ],
      "metadata": {
        "id": "H_dYGuedGFIL"
      },
      "execution_count": 52,
      "outputs": []
    },
    {
      "cell_type": "markdown",
      "source": [
        "8. Model Summary"
      ],
      "metadata": {
        "id": "-ulChzuCos6j"
      }
    },
    {
      "cell_type": "code",
      "execution_count": 53,
      "metadata": {
        "colab": {
          "base_uri": "https://localhost:8080/"
        },
        "id": "drQGGSxMKDu_",
        "outputId": "383c630f-0b5f-4897-c209-4bfbea42675e"
      },
      "outputs": [
        {
          "output_type": "stream",
          "name": "stdout",
          "text": [
            "----------------------------------------------------------------\n",
            "        Layer (type)               Output Shape         Param #\n",
            "================================================================\n",
            "            Conv2d-1            [-1, 8, 26, 26]              80\n",
            "       BatchNorm2d-2            [-1, 8, 26, 26]              16\n",
            "            Conv2d-3           [-1, 16, 24, 24]           1,168\n",
            "       BatchNorm2d-4           [-1, 16, 24, 24]              32\n",
            "            Conv2d-5           [-1, 32, 22, 22]           4,640\n",
            "       BatchNorm2d-6           [-1, 32, 22, 22]              64\n",
            "           Dropout-7           [-1, 32, 22, 22]               0\n",
            "            Conv2d-8            [-1, 8, 22, 22]             264\n",
            "            Conv2d-9             [-1, 16, 9, 9]           1,168\n",
            "      BatchNorm2d-10             [-1, 16, 9, 9]              32\n",
            "           Conv2d-11             [-1, 16, 7, 7]           2,320\n",
            "      BatchNorm2d-12             [-1, 16, 7, 7]              32\n",
            "           Linear-13                   [-1, 10]           7,850\n",
            "================================================================\n",
            "Total params: 17,666\n",
            "Trainable params: 17,666\n",
            "Non-trainable params: 0\n",
            "----------------------------------------------------------------\n",
            "Input size (MB): 0.00\n",
            "Forward/backward pass size (MB): 0.64\n",
            "Params size (MB): 0.07\n",
            "Estimated Total Size (MB): 0.71\n",
            "----------------------------------------------------------------\n"
          ]
        }
      ],
      "source": [
        "from torchsummary import summary\n",
        "\n",
        "device = \"cuda\" if cuda else \"cpu\"\n",
        "model = Net().to(device)\n",
        "\n",
        "summary(model, input_size=(1, 28, 28))\n"
      ]
    },
    {
      "cell_type": "markdown",
      "metadata": {
        "id": "__jQaA-R3E0j"
      },
      "source": [
        "9. Initializing variables"
      ]
    },
    {
      "cell_type": "code",
      "execution_count": 54,
      "metadata": {
        "id": "YeSnMoy_3OUz"
      },
      "outputs": [],
      "source": [
        "# Data to plot accuracy and loss graphs\n",
        "train_losses = []\n",
        "test_losses = []\n",
        "train_acc = []\n",
        "test_acc = []\n",
        "\n",
        "test_incorrect_pred = {'images': [], 'ground_truths': [], 'predicted_vals': []}"
      ]
    },
    {
      "cell_type": "markdown",
      "metadata": {
        "id": "XG7RiWey3Utr"
      },
      "source": [
        "10. Train and test functions"
      ]
    },
    {
      "cell_type": "code",
      "execution_count": 55,
      "metadata": {
        "id": "H9MOz8nx3XTh"
      },
      "outputs": [],
      "source": [
        "from tqdm import tqdm\n",
        "\n",
        "def GetCorrectPredCount(pPrediction, pLabels):\n",
        "  return pPrediction.argmax(dim=1).eq(pLabels).sum().item()\n",
        "\n",
        "def train(model, device, train_loader, optimizer, criterion):\n",
        "    model.train()\n",
        "    pbar = tqdm(train_loader)\n",
        "\n",
        "    train_loss = 0\n",
        "    correct = 0\n",
        "    processed = 0\n",
        "\n",
        "    for batch_idx, (data, target) in enumerate(pbar):\n",
        "        data, target = data.to(device), target.to(device)\n",
        "\n",
        "        optimizer.zero_grad()\n",
        "\n",
        "        # Predict\n",
        "        pred = model(data)\n",
        "\n",
        "        # Calculate loss\n",
        "        # print(f\"Prediction: {pred}, target={target}\")\n",
        "        loss = criterion(pred, target)\n",
        "        train_loss += loss.item()\n",
        "\n",
        "        # Backpropagation\n",
        "        loss.backward()\n",
        "        optimizer.step()\n",
        "\n",
        "        correct += GetCorrectPredCount(pred, target)\n",
        "        processed += len(data)\n",
        "\n",
        "        pbar.set_description(desc= f'Train: Loss={loss.item():0.4f} Batch_id={batch_idx} Accuracy={100*correct/processed:0.2f}')\n",
        "\n",
        "    train_acc.append(100 * correct / processed)\n",
        "    train_losses.append(train_loss / len(train_loader))\n",
        "\n",
        "\n",
        "def test(model, device, test_loader, criterion):\n",
        "    model.eval()\n",
        "\n",
        "    test_loss = 0\n",
        "    correct = 0\n",
        "\n",
        "    with torch.no_grad():\n",
        "        for batch_idx, (data, target) in enumerate(test_loader):\n",
        "            data, target = data.to(device), target.to(device)\n",
        "\n",
        "            output = model(data)\n",
        "            # test_loss += criterion(output, target, reduction='sum').item() # Sum up batch loss\n",
        "            test_loss += criterion(output, target).item() # Sum up batch loss\n",
        "\n",
        "            correct += GetCorrectPredCount(output, target)\n",
        "\n",
        "    test_loss /= len(test_loader.dataset)\n",
        "    test_acc.append(100. * correct / len(test_loader.dataset))\n",
        "    test_losses.append(test_loss)\n",
        "\n",
        "    print('Test set: Average loss: {:.4f}, Accuracy: {}/{} ({:.2f}%)\\n'.format(\n",
        "        test_loss, correct, len(test_loader.dataset),\n",
        "        100. * correct / len(test_loader.dataset)))\n"
      ]
    },
    {
      "cell_type": "markdown",
      "metadata": {
        "id": "l1nQ8xhz5NXg"
      },
      "source": [
        "11. Train the model"
      ]
    },
    {
      "cell_type": "code",
      "execution_count": 56,
      "metadata": {
        "colab": {
          "base_uri": "https://localhost:8080/"
        },
        "id": "OARPW4Yj5QrG",
        "outputId": "74d243d6-80b3-4572-d6cc-53248ff94736"
      },
      "outputs": [
        {
          "output_type": "stream",
          "name": "stdout",
          "text": [
            "Epoch 1\n"
          ]
        },
        {
          "output_type": "stream",
          "name": "stderr",
          "text": [
            "Train: Loss=0.1598 Batch_id=468 Accuracy=94.83: 100%|██████████████████████████████████████████████████████████████████████████████████████████| 469/469 [00:05<00:00, 85.91it/s]\n"
          ]
        },
        {
          "output_type": "stream",
          "name": "stdout",
          "text": [
            "Test set: Average loss: 0.0004, Accuracy: 9851/10000 (98.51%)\n",
            "\n",
            "Epoch 2\n"
          ]
        },
        {
          "output_type": "stream",
          "name": "stderr",
          "text": [
            "Train: Loss=0.2243 Batch_id=468 Accuracy=98.02: 100%|██████████████████████████████████████████████████████████████████████████████████████████| 469/469 [00:05<00:00, 87.54it/s]\n"
          ]
        },
        {
          "output_type": "stream",
          "name": "stdout",
          "text": [
            "Test set: Average loss: 0.0003, Accuracy: 9886/10000 (98.86%)\n",
            "\n",
            "Epoch 3\n"
          ]
        },
        {
          "output_type": "stream",
          "name": "stderr",
          "text": [
            "Train: Loss=0.2203 Batch_id=468 Accuracy=98.34: 100%|██████████████████████████████████████████████████████████████████████████████████████████| 469/469 [00:05<00:00, 87.61it/s]\n"
          ]
        },
        {
          "output_type": "stream",
          "name": "stdout",
          "text": [
            "Test set: Average loss: 0.0002, Accuracy: 9904/10000 (99.04%)\n",
            "\n",
            "Epoch 4\n"
          ]
        },
        {
          "output_type": "stream",
          "name": "stderr",
          "text": [
            "Train: Loss=0.2139 Batch_id=468 Accuracy=98.58: 100%|██████████████████████████████████████████████████████████████████████████████████████████| 469/469 [00:05<00:00, 85.36it/s]\n"
          ]
        },
        {
          "output_type": "stream",
          "name": "stdout",
          "text": [
            "Test set: Average loss: 0.0002, Accuracy: 9903/10000 (99.03%)\n",
            "\n",
            "Epoch 5\n"
          ]
        },
        {
          "output_type": "stream",
          "name": "stderr",
          "text": [
            "Train: Loss=0.2030 Batch_id=468 Accuracy=98.74: 100%|██████████████████████████████████████████████████████████████████████████████████████████| 469/469 [00:05<00:00, 86.44it/s]\n"
          ]
        },
        {
          "output_type": "stream",
          "name": "stdout",
          "text": [
            "Test set: Average loss: 0.0002, Accuracy: 9913/10000 (99.13%)\n",
            "\n",
            "Epoch 6\n"
          ]
        },
        {
          "output_type": "stream",
          "name": "stderr",
          "text": [
            "Train: Loss=0.1995 Batch_id=468 Accuracy=98.78: 100%|██████████████████████████████████████████████████████████████████████████████████████████| 469/469 [00:05<00:00, 88.37it/s]\n"
          ]
        },
        {
          "output_type": "stream",
          "name": "stdout",
          "text": [
            "Test set: Average loss: 0.0002, Accuracy: 9919/10000 (99.19%)\n",
            "\n",
            "Epoch 7\n"
          ]
        },
        {
          "output_type": "stream",
          "name": "stderr",
          "text": [
            "Train: Loss=0.1864 Batch_id=468 Accuracy=98.87: 100%|██████████████████████████████████████████████████████████████████████████████████████████| 469/469 [00:05<00:00, 88.24it/s]\n"
          ]
        },
        {
          "output_type": "stream",
          "name": "stdout",
          "text": [
            "Test set: Average loss: 0.0002, Accuracy: 9909/10000 (99.09%)\n",
            "\n",
            "Epoch 8\n"
          ]
        },
        {
          "output_type": "stream",
          "name": "stderr",
          "text": [
            "Train: Loss=0.2215 Batch_id=468 Accuracy=98.93: 100%|██████████████████████████████████████████████████████████████████████████████████████████| 469/469 [00:05<00:00, 85.19it/s]\n"
          ]
        },
        {
          "output_type": "stream",
          "name": "stdout",
          "text": [
            "Test set: Average loss: 0.0002, Accuracy: 9916/10000 (99.16%)\n",
            "\n",
            "Epoch 9\n"
          ]
        },
        {
          "output_type": "stream",
          "name": "stderr",
          "text": [
            "Train: Loss=0.1539 Batch_id=468 Accuracy=99.00: 100%|██████████████████████████████████████████████████████████████████████████████████████████| 469/469 [00:05<00:00, 83.52it/s]\n"
          ]
        },
        {
          "output_type": "stream",
          "name": "stdout",
          "text": [
            "Test set: Average loss: 0.0002, Accuracy: 9914/10000 (99.14%)\n",
            "\n",
            "Epoch 10\n"
          ]
        },
        {
          "output_type": "stream",
          "name": "stderr",
          "text": [
            "Train: Loss=0.1625 Batch_id=468 Accuracy=99.06: 100%|██████████████████████████████████████████████████████████████████████████████████████████| 469/469 [00:05<00:00, 91.70it/s]\n"
          ]
        },
        {
          "output_type": "stream",
          "name": "stdout",
          "text": [
            "Test set: Average loss: 0.0002, Accuracy: 9925/10000 (99.25%)\n",
            "\n",
            "Epoch 11\n"
          ]
        },
        {
          "output_type": "stream",
          "name": "stderr",
          "text": [
            "Train: Loss=0.1669 Batch_id=468 Accuracy=99.09: 100%|██████████████████████████████████████████████████████████████████████████████████████████| 469/469 [00:05<00:00, 90.00it/s]\n"
          ]
        },
        {
          "output_type": "stream",
          "name": "stdout",
          "text": [
            "Test set: Average loss: 0.0002, Accuracy: 9923/10000 (99.23%)\n",
            "\n",
            "Epoch 12\n"
          ]
        },
        {
          "output_type": "stream",
          "name": "stderr",
          "text": [
            "Train: Loss=0.1708 Batch_id=468 Accuracy=99.11: 100%|██████████████████████████████████████████████████████████████████████████████████████████| 469/469 [00:05<00:00, 83.56it/s]\n"
          ]
        },
        {
          "output_type": "stream",
          "name": "stdout",
          "text": [
            "Test set: Average loss: 0.0002, Accuracy: 9929/10000 (99.29%)\n",
            "\n",
            "Epoch 13\n"
          ]
        },
        {
          "output_type": "stream",
          "name": "stderr",
          "text": [
            "Train: Loss=0.1609 Batch_id=468 Accuracy=99.16: 100%|██████████████████████████████████████████████████████████████████████████████████████████| 469/469 [00:05<00:00, 82.92it/s]\n"
          ]
        },
        {
          "output_type": "stream",
          "name": "stdout",
          "text": [
            "Test set: Average loss: 0.0002, Accuracy: 9941/10000 (99.41%)\n",
            "\n",
            "Epoch 14\n"
          ]
        },
        {
          "output_type": "stream",
          "name": "stderr",
          "text": [
            "Train: Loss=0.1567 Batch_id=468 Accuracy=99.09: 100%|██████████████████████████████████████████████████████████████████████████████████████████| 469/469 [00:05<00:00, 82.09it/s]\n"
          ]
        },
        {
          "output_type": "stream",
          "name": "stdout",
          "text": [
            "Test set: Average loss: 0.0002, Accuracy: 9935/10000 (99.35%)\n",
            "\n",
            "Epoch 15\n"
          ]
        },
        {
          "output_type": "stream",
          "name": "stderr",
          "text": [
            "Train: Loss=0.1518 Batch_id=468 Accuracy=99.17: 100%|██████████████████████████████████████████████████████████████████████████████████████████| 469/469 [00:05<00:00, 92.04it/s]\n"
          ]
        },
        {
          "output_type": "stream",
          "name": "stdout",
          "text": [
            "Test set: Average loss: 0.0002, Accuracy: 9932/10000 (99.32%)\n",
            "\n",
            "Epoch 16\n"
          ]
        },
        {
          "output_type": "stream",
          "name": "stderr",
          "text": [
            "Train: Loss=0.1504 Batch_id=468 Accuracy=99.38: 100%|██████████████████████████████████████████████████████████████████████████████████████████| 469/469 [00:05<00:00, 83.53it/s]\n"
          ]
        },
        {
          "output_type": "stream",
          "name": "stdout",
          "text": [
            "Test set: Average loss: 0.0001, Accuracy: 9943/10000 (99.43%)\n",
            "\n",
            "Epoch 17\n"
          ]
        },
        {
          "output_type": "stream",
          "name": "stderr",
          "text": [
            "Train: Loss=0.1424 Batch_id=468 Accuracy=99.42: 100%|██████████████████████████████████████████████████████████████████████████████████████████| 469/469 [00:05<00:00, 83.43it/s]\n"
          ]
        },
        {
          "output_type": "stream",
          "name": "stdout",
          "text": [
            "Test set: Average loss: 0.0001, Accuracy: 9945/10000 (99.45%)\n",
            "\n",
            "Epoch 18\n"
          ]
        },
        {
          "output_type": "stream",
          "name": "stderr",
          "text": [
            "Train: Loss=0.1595 Batch_id=468 Accuracy=99.44: 100%|██████████████████████████████████████████████████████████████████████████████████████████| 469/469 [00:05<00:00, 83.14it/s]\n"
          ]
        },
        {
          "output_type": "stream",
          "name": "stdout",
          "text": [
            "Test set: Average loss: 0.0001, Accuracy: 9945/10000 (99.45%)\n",
            "\n",
            "Epoch 19\n"
          ]
        },
        {
          "output_type": "stream",
          "name": "stderr",
          "text": [
            "Train: Loss=0.1543 Batch_id=468 Accuracy=99.52: 100%|██████████████████████████████████████████████████████████████████████████████████████████| 469/469 [00:05<00:00, 82.47it/s]\n"
          ]
        },
        {
          "output_type": "stream",
          "name": "stdout",
          "text": [
            "Test set: Average loss: 0.0001, Accuracy: 9948/10000 (99.48%)\n",
            "\n",
            "Epoch 20\n"
          ]
        },
        {
          "output_type": "stream",
          "name": "stderr",
          "text": [
            "Train: Loss=0.1313 Batch_id=468 Accuracy=99.40: 100%|██████████████████████████████████████████████████████████████████████████████████████████| 469/469 [00:05<00:00, 82.82it/s]\n"
          ]
        },
        {
          "output_type": "stream",
          "name": "stdout",
          "text": [
            "Test set: Average loss: 0.0001, Accuracy: 9947/10000 (99.47%)\n",
            "\n"
          ]
        }
      ],
      "source": [
        "device = \"cuda\" if cuda else \"cpu\"\n",
        "model = Net().to(device)\n",
        "# optimizer = optim.Adam(model.parameters(), lr=0.01)\n",
        "optimizer = optim.SGD(model.parameters(), lr=0.01, momentum=0.9)\n",
        "scheduler = optim.lr_scheduler.StepLR(optimizer, step_size=15, gamma=0.1)\n",
        "\n",
        "criterion = nn.CrossEntropyLoss(reduction='mean')\n",
        "num_epochs = 20\n",
        "\n",
        "for epoch in range(1, num_epochs+1):\n",
        "    print(f\"Epoch {epoch}\")\n",
        "    train(model, device, train_loader, optimizer, criterion)\n",
        "    test(model, device, test_loader, criterion)\n",
        "    scheduler.step()"
      ]
    },
    {
      "cell_type": "markdown",
      "source": [
        "12. Train/Test loss and accuracy plots"
      ],
      "metadata": {
        "id": "dDwm2NRuUv3-"
      }
    },
    {
      "cell_type": "code",
      "execution_count": 58,
      "metadata": {
        "id": "pkiUEX4z-01K",
        "colab": {
          "base_uri": "https://localhost:8080/",
          "height": 871
        },
        "outputId": "3ff8a2c5-3218-41f7-98b4-6be980b963a1"
      },
      "outputs": [
        {
          "output_type": "execute_result",
          "data": {
            "text/plain": [
              "Text(0.5, 1.0, 'Test Accuracy')"
            ]
          },
          "metadata": {},
          "execution_count": 58
        },
        {
          "output_type": "display_data",
          "data": {
            "text/plain": [
              "<Figure size 1500x1000 with 4 Axes>"
            ],
            "image/png": "[encoded data removed]"
          },
          "metadata": {}
        }
      ],
      "source": [
        "fig, axs = plt.subplots(2,2,figsize=(15,10))\n",
        "axs[0, 0].plot(train_losses)\n",
        "axs[0, 0].set_title(\"Training Loss\")\n",
        "axs[1, 0].plot(train_acc)\n",
        "axs[1, 0].set_title(\"Training Accuracy\")\n",
        "axs[0, 1].plot(test_losses)\n",
        "axs[0, 1].set_title(\"Test Loss\")\n",
        "axs[1, 1].plot(test_acc)\n",
        "axs[1, 1].set_title(\"Test Accuracy\")"
      ]
    }
  ],
  "metadata": {
    "accelerator": "GPU",
    "colab": {
      "gpuType": "T4",
      "provenance": [],
      "authorship_tag": "ABX9TyPGTMIA12brLYIH0hYJwGSl",
      "include_colab_link": true
    },
    "kernelspec": {
      "display_name": "Python 3",
      "name": "python3"
    },
    "language_info": {
      "name": "python"
    }
  },
  "nbformat": 4,
  "nbformat_minor": 0
}