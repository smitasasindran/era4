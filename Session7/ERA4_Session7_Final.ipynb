{
  "nbformat": 4,
  "nbformat_minor": 0,
  "metadata": {
    "colab": {
      "provenance": [],
      "gpuType": "T4",
      "authorship_tag": "ABX9TyO0+72nbH8ht7YqC52g4JyM",
      "include_colab_link": true
    },
    "kernelspec": {
      "name": "python3",
      "display_name": "Python 3"
    },
    "language_info": {
      "name": "python"
    },
    "accelerator": "GPU"
  },
  "cells": [
    {
      "cell_type": "markdown",
      "metadata": {
        "id": "view-in-github",
        "colab_type": "text"
      },
      "source": [
        "<a href=\"https://colab.research.google.com/github/smitasasindran/era4/blob/session7/Session7/ERA4_Session7_Final.ipynb\" target=\"_parent\"><img src=\"https://colab.research.google.com/assets/colab-badge.svg\" alt=\"Open In Colab\"/></a>"
      ]
    },
    {
      "cell_type": "markdown",
      "source": [
        "## Notes:\n",
        "\n",
        "This iteration converts to modular code. There are three files:\n",
        "1. model.py - contains the model  \n",
        "2. datasets_transforms.py - contains transformations with albumentations, and datasets/dataloaders\n",
        "3. utils.py - contains helper functions + train and test loops   \n",
        "\n",
        "Model architecture is C1C2C3C40, with no Maxpooling.   \n",
        " * Total params:    \n",
        " * Total epochs:100    \n",
        " * Final Test Accuracy:     \n",
        "\n",
        "[ToDo: figure out how to use Dilated kernels instead of strided convolution in conv block1 ]"
      ],
      "metadata": {
        "id": "rsCOzvCUVMZ4"
      }
    },
    {
      "cell_type": "markdown",
      "source": [
        "## Import Libraries"
      ],
      "metadata": {
        "id": "pK5d6qRLiTCW"
      }
    },
    {
      "cell_type": "code",
      "execution_count": 12,
      "metadata": {
        "id": "fO1P1pMj_25I"
      },
      "outputs": [],
      "source": [
        "from __future__ import print_function\n",
        "import torch\n",
        "import torch.optim as optim\n",
        "import torchvision\n",
        "import numpy as np\n",
        "\n",
        "import utils\n",
        "import dataset_transforms\n",
        "from model import Net\n"
      ]
    },
    {
      "cell_type": "code",
      "source": [
        "!pip install torchsummary\n",
        "!pip install albumentations"
      ],
      "metadata": {
        "colab": {
          "base_uri": "https://localhost:8080/"
        },
        "id": "ZfJHewqf1cf2",
        "outputId": "45c5b703-dcc3-4d80-eb28-cf6d2d80e229"
      },
      "execution_count": 13,
      "outputs": [
        {
          "output_type": "stream",
          "name": "stdout",
          "text": [
            "Requirement already satisfied: torchsummary in /usr/local/lib/python3.12/dist-packages (1.5.1)\n",
            "Requirement already satisfied: albumentations in /usr/local/lib/python3.12/dist-packages (2.0.8)\n",
            "Requirement already satisfied: numpy>=1.24.4 in /usr/local/lib/python3.12/dist-packages (from albumentations) (2.0.2)\n",
            "Requirement already satisfied: scipy>=1.10.0 in /usr/local/lib/python3.12/dist-packages (from albumentations) (1.16.2)\n",
            "Requirement already satisfied: PyYAML in /usr/local/lib/python3.12/dist-packages (from albumentations) (6.0.3)\n",
            "Requirement already satisfied: pydantic>=2.9.2 in /usr/local/lib/python3.12/dist-packages (from albumentations) (2.11.9)\n",
            "Requirement already satisfied: albucore==0.0.24 in /usr/local/lib/python3.12/dist-packages (from albumentations) (0.0.24)\n",
            "Requirement already satisfied: opencv-python-headless>=4.9.0.80 in /usr/local/lib/python3.12/dist-packages (from albumentations) (4.12.0.88)\n",
            "Requirement already satisfied: stringzilla>=3.10.4 in /usr/local/lib/python3.12/dist-packages (from albucore==0.0.24->albumentations) (4.0.15)\n",
            "Requirement already satisfied: simsimd>=5.9.2 in /usr/local/lib/python3.12/dist-packages (from albucore==0.0.24->albumentations) (6.5.3)\n",
            "Requirement already satisfied: annotated-types>=0.6.0 in /usr/local/lib/python3.12/dist-packages (from pydantic>=2.9.2->albumentations) (0.7.0)\n",
            "Requirement already satisfied: pydantic-core==2.33.2 in /usr/local/lib/python3.12/dist-packages (from pydantic>=2.9.2->albumentations) (2.33.2)\n",
            "Requirement already satisfied: typing-extensions>=4.12.2 in /usr/local/lib/python3.12/dist-packages (from pydantic>=2.9.2->albumentations) (4.15.0)\n",
            "Requirement already satisfied: typing-inspection>=0.4.0 in /usr/local/lib/python3.12/dist-packages (from pydantic>=2.9.2->albumentations) (0.4.2)\n"
          ]
        }
      ]
    },
    {
      "cell_type": "markdown",
      "source": [
        "### Create transforms and Dataloaders\n",
        "\n"
      ],
      "metadata": {
        "id": "iaa0I3sLiZ7Z"
      }
    },
    {
      "cell_type": "code",
      "source": [
        "# Create albumentations transforms\n",
        "train_transforms, test_transforms = dataset_transforms.create_albumentations_transforms()\n",
        "\n",
        "# Create Train/Test split\n",
        "train, test = dataset_transforms.load_albumentations_dataset(train_transforms, test_transforms)\n",
        "\n",
        "# Set random seed and batch size\n",
        "use_cuda = utils.init_setup()\n",
        "batch_size = 512#256\n",
        "\n",
        "# Create data loaders\n",
        "train_loader, test_loader = utils.get_dataloaders(train, test, use_cuda, batch_size)\n"
      ],
      "metadata": {
        "id": "8VChR1PSitvl",
        "colab": {
          "base_uri": "https://localhost:8080/"
        },
        "outputId": "9380ad7e-4492-4747-e9b6-38e294e1bf00"
      },
      "execution_count": 14,
      "outputs": [
        {
          "output_type": "stream",
          "name": "stderr",
          "text": [
            "/usr/local/lib/python3.12/dist-packages/albumentations/core/validation.py:114: UserWarning: ShiftScaleRotate is a special case of Affine transform. Please use Affine transform instead.\n",
            "  original_init(self, **validated_kwargs)\n",
            "/content/dataset_transforms.py:50: UserWarning: Argument(s) 'max_holes, max_height, max_width, min_holes, min_height, min_width, fill_value, mask_fill_value' are not valid for transform CoarseDropout\n",
            "  A.CoarseDropout(p=0.5, max_holes=1, max_height=16, max_width=16, min_holes=1, min_height=16, min_width=16,\n"
          ]
        },
        {
          "output_type": "stream",
          "name": "stdout",
          "text": [
            "CUDA Available? True\n"
          ]
        }
      ]
    },
    {
      "cell_type": "markdown",
      "source": [
        "## Data Statistics"
      ],
      "metadata": {
        "id": "h4hB7FDaju3h"
      }
    },
    {
      "cell_type": "code",
      "source": [
        "# Check some images\n",
        "\n",
        "dataiter = iter(train_loader)\n",
        "images, labels = next(dataiter)\n",
        "\n",
        "print(images.shape)\n",
        "print(labels.shape)\n",
        "\n",
        "# Let's visualize some of the images\n",
        "%matplotlib inline\n",
        "import matplotlib.pyplot as plt\n",
        "\n",
        "# img = np.moveaxis(images[0].numpy(), 0, -1)\n",
        "# plt.imshow(img)\n",
        "\n",
        "def imshow(img):\n",
        "        img = img / 2 + 0.5  # Unnormalize\n",
        "        npimg = img.numpy()\n",
        "        plt.imshow(np.transpose(npimg, (1, 2, 0)))\n",
        "        plt.show()\n",
        "\n",
        "\n",
        "classes = ('plane', 'car', 'bird', 'cat', 'deer', 'dog', 'frog', 'horse', 'ship', 'truck')\n",
        "\n",
        "# Show images\n",
        "imshow(torchvision.utils.make_grid(images))\n",
        "\n",
        "# Print labels\n",
        "print(' '.join(f'{classes[labels[j]]:5s}' for j in range(len(labels))))\n"
      ],
      "metadata": {
        "colab": {
          "base_uri": "https://localhost:8080/",
          "height": 527
        },
        "id": "Kt0N6RASjwdX",
        "outputId": "0f82d4e5-6745-451b-a31e-6e52ac25b1e3"
      },
      "execution_count": 15,
      "outputs": [
        {
          "output_type": "stream",
          "name": "stdout",
          "text": [
            "torch.Size([512, 3, 32, 32])\n",
            "torch.Size([512])\n"
          ]
        },
        {
          "output_type": "stream",
          "name": "stderr",
          "text": [
            "WARNING:matplotlib.image:Clipping input data to the valid range for imshow with RGB data ([0..1] for floats or [0..255] for integers). Got range [-0.49433434..1.5632445].\n"
          ]
        },
        {
          "output_type": "display_data",
          "data": {
            "text/plain": [
              "<Figure size 640x480 with 1 Axes>"
            ],
            "image/png": "[encoded data removed]"
          },
          "metadata": {}
        },
        {
          "output_type": "stream",
          "name": "stdout",
          "text": [
            "ship  bird  cat   dog   bird  truck truck plane plane ship  truck frog  bird  bird  dog   frog  ship  deer  horse truck horse horse dog   cat   cat   truck ship  plane car   truck frog  frog  bird  deer  frog  plane deer  truck car   car   horse cat   deer  ship  truck plane frog  ship  plane cat   bird  bird  frog  frog  plane truck cat   bird  ship  bird  bird  deer  bird  frog  ship  deer  deer  truck truck deer  horse cat   dog   truck truck dog   deer  car   dog   car   dog   dog   deer  truck bird  frog  ship  dog   ship  dog   frog  ship  car   dog   car   horse ship  frog  deer  deer  ship  cat   cat   frog  horse ship  horse car   car   truck bird  bird  dog   ship  truck cat   ship  deer  deer  dog   car   ship  dog   horse deer  cat   deer  car   dog   plane bird  truck cat   cat   cat   ship  horse frog  plane dog   bird  truck frog  dog   car   car   horse plane truck cat   bird  car   cat   car   deer  car   ship  horse plane frog  dog   truck deer  bird  car   deer  horse dog   horse frog  frog  car   car   dog   horse bird  horse ship  car   cat   truck horse car   ship  dog   car   frog  dog   cat   ship  bird  horse deer  plane car   horse plane dog   bird  bird  deer  cat   truck truck deer  car   frog  truck car   plane bird  horse frog  deer  dog   plane ship  plane frog  truck horse truck dog   plane ship  ship  cat   bird  dog   bird  deer  bird  truck dog   plane car   plane bird  car   horse car   dog   car   deer  bird  frog  deer  cat   deer  cat   bird  horse plane deer  deer  bird  horse ship  plane truck bird  car   bird  bird  truck dog   deer  bird  frog  cat   ship  bird  dog   ship  plane horse frog  dog   cat   cat   horse cat   deer  dog   frog  horse truck bird  deer  plane horse bird  horse deer  car   bird  bird  deer  truck deer  plane plane horse car   dog   deer  frog  horse deer  car   plane ship  horse ship  frog  cat   ship  frog  deer  plane horse deer  deer  deer  ship  plane plane car   truck cat   frog  plane ship  car   deer  horse horse car   frog  deer  bird  ship  horse horse plane truck cat   frog  ship  car   truck ship  dog   horse deer  frog  car   cat   deer  frog  deer  ship  frog  deer  ship  ship  cat   plane bird  horse frog  ship  dog   cat   truck bird  cat   truck horse bird  plane car   frog  plane car   plane horse frog  horse cat   frog  car   ship  frog  bird  deer  bird  car   frog  frog  car   car   car   plane bird  ship  cat   cat   horse deer  plane ship  dog   horse car   truck deer  deer  horse plane cat   horse horse bird  car   truck ship  deer  bird  frog  frog  plane truck bird  truck truck car   deer  cat   cat   bird  frog  deer  dog   truck horse deer  car   bird  truck plane dog   truck ship  frog  horse plane dog   frog  bird  truck car   dog   ship  car   bird  car   horse dog   car   horse frog  frog  cat   horse bird  ship  deer  bird  truck plane deer  horse deer  frog  deer  dog   bird  frog  cat   ship  horse dog   bird  truck dog   deer  truck horse deer  dog   cat   ship  plane truck frog  dog   frog  cat   dog   deer  ship \n"
          ]
        }
      ]
    },
    {
      "cell_type": "markdown",
      "source": [
        "## Model Summary"
      ],
      "metadata": {
        "id": "rBIyNSoH9VFC"
      }
    },
    {
      "cell_type": "code",
      "source": [
        "device = torch.device(\"cuda\" if use_cuda else \"cpu\")\n",
        "model_cifar = Net().to(device)\n",
        "utils.model_summary(model_cifar)"
      ],
      "metadata": {
        "colab": {
          "base_uri": "https://localhost:8080/"
        },
        "id": "tQSCBU4F9WoN",
        "outputId": "3991f6b6-cae0-4c37-fd10-dce2c3d3736a"
      },
      "execution_count": 16,
      "outputs": [
        {
          "output_type": "stream",
          "name": "stdout",
          "text": [
            "----------------------------------------------------------------\n",
            "        Layer (type)               Output Shape         Param #\n",
            "================================================================\n",
            "            Conv2d-1           [-1, 16, 32, 32]             432\n",
            "              ReLU-2           [-1, 16, 32, 32]               0\n",
            "       BatchNorm2d-3           [-1, 16, 32, 32]              32\n",
            "           Dropout-4           [-1, 16, 32, 32]               0\n",
            "            Conv2d-5           [-1, 32, 32, 32]           4,608\n",
            "              ReLU-6           [-1, 32, 32, 32]               0\n",
            "       BatchNorm2d-7           [-1, 32, 32, 32]              64\n",
            "           Dropout-8           [-1, 32, 32, 32]               0\n",
            "            Conv2d-9           [-1, 32, 32, 32]           9,216\n",
            "             ReLU-10           [-1, 32, 32, 32]               0\n",
            "      BatchNorm2d-11           [-1, 32, 32, 32]              64\n",
            "          Dropout-12           [-1, 32, 32, 32]               0\n",
            "           Conv2d-13           [-1, 64, 15, 15]          18,432\n",
            "             ReLU-14           [-1, 64, 15, 15]               0\n",
            "      BatchNorm2d-15           [-1, 64, 15, 15]             128\n",
            "          Dropout-16           [-1, 64, 15, 15]               0\n",
            "           Conv2d-17           [-1, 16, 15, 15]           1,024\n",
            "             ReLU-18           [-1, 16, 15, 15]               0\n",
            "      BatchNorm2d-19           [-1, 16, 15, 15]              32\n",
            "          Dropout-20           [-1, 16, 15, 15]               0\n",
            "           Conv2d-21           [-1, 32, 15, 15]           4,608\n",
            "             ReLU-22           [-1, 32, 15, 15]               0\n",
            "      BatchNorm2d-23           [-1, 32, 15, 15]              64\n",
            "          Dropout-24           [-1, 32, 15, 15]               0\n",
            "           Conv2d-25           [-1, 32, 15, 15]           9,216\n",
            "             ReLU-26           [-1, 32, 15, 15]               0\n",
            "      BatchNorm2d-27           [-1, 32, 15, 15]              64\n",
            "          Dropout-28           [-1, 32, 15, 15]               0\n",
            "           Conv2d-29           [-1, 64, 15, 15]          18,432\n",
            "             ReLU-30           [-1, 64, 15, 15]               0\n",
            "      BatchNorm2d-31           [-1, 64, 15, 15]             128\n",
            "          Dropout-32           [-1, 64, 15, 15]               0\n",
            "           Conv2d-33           [-1, 16, 15, 15]           1,024\n",
            "             ReLU-34           [-1, 16, 15, 15]               0\n",
            "      BatchNorm2d-35           [-1, 16, 15, 15]              32\n",
            "          Dropout-36           [-1, 16, 15, 15]               0\n",
            "           Conv2d-37           [-1, 32, 15, 15]           4,608\n",
            "             ReLU-38           [-1, 32, 15, 15]               0\n",
            "      BatchNorm2d-39           [-1, 32, 15, 15]              64\n",
            "          Dropout-40           [-1, 32, 15, 15]               0\n",
            "           Conv2d-41           [-1, 32, 13, 13]           9,216\n",
            "             ReLU-42           [-1, 32, 13, 13]               0\n",
            "      BatchNorm2d-43           [-1, 32, 13, 13]              64\n",
            "          Dropout-44           [-1, 32, 13, 13]               0\n",
            "           Conv2d-45           [-1, 32, 11, 11]             288\n",
            "             ReLU-46           [-1, 32, 11, 11]               0\n",
            "      BatchNorm2d-47           [-1, 32, 11, 11]              64\n",
            "          Dropout-48           [-1, 32, 11, 11]               0\n",
            "           Conv2d-49           [-1, 64, 11, 11]           2,048\n",
            "             ReLU-50           [-1, 64, 11, 11]               0\n",
            "      BatchNorm2d-51           [-1, 64, 11, 11]             128\n",
            "          Dropout-52           [-1, 64, 11, 11]               0\n",
            "           Conv2d-53           [-1, 16, 11, 11]           1,024\n",
            "             ReLU-54           [-1, 16, 11, 11]               0\n",
            "      BatchNorm2d-55           [-1, 16, 11, 11]              32\n",
            "          Dropout-56           [-1, 16, 11, 11]               0\n",
            "           Conv2d-57             [-1, 32, 7, 7]           4,608\n",
            "             ReLU-58             [-1, 32, 7, 7]               0\n",
            "      BatchNorm2d-59             [-1, 32, 7, 7]              64\n",
            "          Dropout-60             [-1, 32, 7, 7]               0\n",
            "           Conv2d-61             [-1, 32, 5, 5]           9,216\n",
            "             ReLU-62             [-1, 32, 5, 5]               0\n",
            "      BatchNorm2d-63             [-1, 32, 5, 5]              64\n",
            "          Dropout-64             [-1, 32, 5, 5]               0\n",
            "        AvgPool2d-65             [-1, 32, 1, 1]               0\n",
            "           Conv2d-66             [-1, 10, 1, 1]             320\n",
            "================================================================\n",
            "Total params: 99,408\n",
            "Trainable params: 99,408\n",
            "Non-trainable params: 0\n",
            "----------------------------------------------------------------\n",
            "Input size (MB): 0.01\n",
            "Forward/backward pass size (MB): 4.91\n",
            "Params size (MB): 0.38\n",
            "Estimated Total Size (MB): 5.30\n",
            "----------------------------------------------------------------\n"
          ]
        }
      ]
    },
    {
      "cell_type": "markdown",
      "source": [
        "## Train and Test accumulator variables"
      ],
      "metadata": {
        "id": "L_N1u-0o95pj"
      }
    },
    {
      "cell_type": "code",
      "source": [
        "train_losses = []\n",
        "test_losses = []\n",
        "train_acc = []\n",
        "test_acc = []\n"
      ],
      "metadata": {
        "id": "CVbf46QZ98AN"
      },
      "execution_count": 17,
      "outputs": []
    },
    {
      "cell_type": "markdown",
      "source": [
        "## Training"
      ],
      "metadata": {
        "id": "RIpVScWe-CG2"
      }
    },
    {
      "cell_type": "code",
      "source": [
        "model_cifar = Net().to(device)\n",
        "optimizer = optim.SGD(model_cifar.parameters(), lr=0.01, momentum=0.9)\n",
        "EPOCHS = 100\n",
        "\n",
        "for epoch in range(EPOCHS):\n",
        "    print(\"EPOCH:\", epoch)\n",
        "    utils.train(model_cifar, device, train_loader, optimizer, epoch, train_losses, train_acc)\n",
        "    utils.test(model_cifar, device, test_loader, test_losses, test_acc)"
      ],
      "metadata": {
        "colab": {
          "base_uri": "https://localhost:8080/"
        },
        "id": "J2DhJyWj-HHh",
        "outputId": "08230231-ff5c-447c-fc62-b1d3f422a37a"
      },
      "execution_count": 18,
      "outputs": [
        {
          "metadata": {
            "tags": null
          },
          "name": "stdout",
          "output_type": "stream",
          "text": [
            "EPOCH: 0\n"
          ]
        },
        {
          "metadata": {
            "tags": null
          },
          "name": "stderr",
          "output_type": "stream",
          "text": [
            "Loss=1.7413620948791504 Batch_id=97 Accuracy=23.62: 100%|██████████| 98/98 [00:28<00:00,  3.50it/s]\n"
          ]
        },
        {
          "metadata": {
            "tags": null
          },
          "name": "stdout",
          "output_type": "stream",
          "text": [
            "\n",
            "Test set: Average loss: 1.8059, Accuracy: 3200/10000 (32.00%)\n",
            "\n",
            "EPOCH: 1\n"
          ]
        },
        {
          "metadata": {
            "tags": null
          },
          "name": "stderr",
          "output_type": "stream",
          "text": [
            "Loss=1.5378060340881348 Batch_id=97 Accuracy=38.06: 100%|██████████| 98/98 [00:22<00:00,  4.41it/s]\n"
          ]
        },
        {
          "metadata": {
            "tags": null
          },
          "name": "stdout",
          "output_type": "stream",
          "text": [
            "\n",
            "Test set: Average loss: 1.5283, Accuracy: 4294/10000 (42.94%)\n",
            "\n",
            "EPOCH: 2\n"
          ]
        },
        {
          "metadata": {
            "tags": null
          },
          "name": "stderr",
          "output_type": "stream",
          "text": [
            "Loss=1.3950903415679932 Batch_id=97 Accuracy=45.26: 100%|██████████| 98/98 [00:22<00:00,  4.45it/s]\n"
          ]
        },
        {
          "metadata": {
            "tags": null
          },
          "name": "stdout",
          "output_type": "stream",
          "text": [
            "\n",
            "Test set: Average loss: 1.4391, Accuracy: 4735/10000 (47.35%)\n",
            "\n",
            "EPOCH: 3\n"
          ]
        },
        {
          "metadata": {
            "tags": null
          },
          "name": "stderr",
          "output_type": "stream",
          "text": [
            "Loss=1.3774116039276123 Batch_id=97 Accuracy=50.14: 100%|██████████| 98/98 [00:22<00:00,  4.31it/s]\n"
          ]
        },
        {
          "metadata": {
            "tags": null
          },
          "name": "stdout",
          "output_type": "stream",
          "text": [
            "\n",
            "Test set: Average loss: 1.3148, Accuracy: 5267/10000 (52.67%)\n",
            "\n",
            "EPOCH: 4\n"
          ]
        },
        {
          "metadata": {
            "tags": null
          },
          "name": "stderr",
          "output_type": "stream",
          "text": [
            "Loss=1.3260515928268433 Batch_id=97 Accuracy=53.42: 100%|██████████| 98/98 [00:23<00:00,  4.11it/s]\n"
          ]
        },
        {
          "metadata": {
            "tags": null
          },
          "name": "stdout",
          "output_type": "stream",
          "text": [
            "\n",
            "Test set: Average loss: 1.5098, Accuracy: 4912/10000 (49.12%)\n",
            "\n",
            "EPOCH: 5\n"
          ]
        },
        {
          "metadata": {
            "tags": null
          },
          "name": "stderr",
          "output_type": "stream",
          "text": [
            "Loss=1.158794641494751 Batch_id=97 Accuracy=56.31: 100%|██████████| 98/98 [00:24<00:00,  3.98it/s]\n"
          ]
        },
        {
          "metadata": {
            "tags": null
          },
          "name": "stdout",
          "output_type": "stream",
          "text": [
            "\n",
            "Test set: Average loss: 1.1059, Accuracy: 6051/10000 (60.51%)\n",
            "\n",
            "EPOCH: 6\n"
          ]
        },
        {
          "metadata": {
            "tags": null
          },
          "name": "stderr",
          "output_type": "stream",
          "text": [
            "Loss=1.035172462463379 Batch_id=97 Accuracy=58.84: 100%|██████████| 98/98 [00:23<00:00,  4.15it/s]\n"
          ]
        },
        {
          "metadata": {
            "tags": null
          },
          "name": "stdout",
          "output_type": "stream",
          "text": [
            "\n",
            "Test set: Average loss: 1.0677, Accuracy: 6165/10000 (61.65%)\n",
            "\n",
            "EPOCH: 7\n"
          ]
        },
        {
          "metadata": {
            "tags": null
          },
          "name": "stderr",
          "output_type": "stream",
          "text": [
            "Loss=0.8948017358779907 Batch_id=97 Accuracy=60.87: 100%|██████████| 98/98 [00:23<00:00,  4.19it/s]\n"
          ]
        },
        {
          "metadata": {
            "tags": null
          },
          "name": "stdout",
          "output_type": "stream",
          "text": [
            "\n",
            "Test set: Average loss: 1.0046, Accuracy: 6431/10000 (64.31%)\n",
            "\n",
            "EPOCH: 8\n"
          ]
        },
        {
          "metadata": {
            "tags": null
          },
          "name": "stderr",
          "output_type": "stream",
          "text": [
            "Loss=0.9927759766578674 Batch_id=97 Accuracy=62.71: 100%|██████████| 98/98 [00:23<00:00,  4.21it/s]\n"
          ]
        },
        {
          "metadata": {
            "tags": null
          },
          "name": "stdout",
          "output_type": "stream",
          "text": [
            "\n",
            "Test set: Average loss: 0.9495, Accuracy: 6584/10000 (65.84%)\n",
            "\n",
            "EPOCH: 9\n"
          ]
        },
        {
          "metadata": {
            "tags": null
          },
          "name": "stderr",
          "output_type": "stream",
          "text": [
            "Loss=0.9967424273490906 Batch_id=97 Accuracy=64.34: 100%|██████████| 98/98 [00:23<00:00,  4.16it/s]\n"
          ]
        },
        {
          "metadata": {
            "tags": null
          },
          "name": "stdout",
          "output_type": "stream",
          "text": [
            "\n",
            "Test set: Average loss: 0.9260, Accuracy: 6644/10000 (66.44%)\n",
            "\n",
            "EPOCH: 10\n"
          ]
        },
        {
          "metadata": {
            "tags": null
          },
          "name": "stderr",
          "output_type": "stream",
          "text": [
            "Loss=1.005213737487793 Batch_id=97 Accuracy=65.68: 100%|██████████| 98/98 [00:23<00:00,  4.17it/s]\n"
          ]
        },
        {
          "metadata": {
            "tags": null
          },
          "name": "stdout",
          "output_type": "stream",
          "text": [
            "\n",
            "Test set: Average loss: 0.8887, Accuracy: 6824/10000 (68.24%)\n",
            "\n",
            "EPOCH: 11\n"
          ]
        },
        {
          "metadata": {
            "tags": null
          },
          "name": "stderr",
          "output_type": "stream",
          "text": [
            "Loss=0.8990916013717651 Batch_id=97 Accuracy=67.26: 100%|██████████| 98/98 [00:22<00:00,  4.35it/s]\n"
          ]
        },
        {
          "metadata": {
            "tags": null
          },
          "name": "stdout",
          "output_type": "stream",
          "text": [
            "\n",
            "Test set: Average loss: 0.8569, Accuracy: 6975/10000 (69.75%)\n",
            "\n",
            "EPOCH: 12\n"
          ]
        },
        {
          "metadata": {
            "tags": null
          },
          "name": "stderr",
          "output_type": "stream",
          "text": [
            "Loss=0.8488578796386719 Batch_id=97 Accuracy=68.11: 100%|██████████| 98/98 [00:23<00:00,  4.15it/s]\n"
          ]
        },
        {
          "metadata": {
            "tags": null
          },
          "name": "stdout",
          "output_type": "stream",
          "text": [
            "\n",
            "Test set: Average loss: 0.8573, Accuracy: 7029/10000 (70.29%)\n",
            "\n",
            "EPOCH: 13\n"
          ]
        },
        {
          "metadata": {
            "tags": null
          },
          "name": "stderr",
          "output_type": "stream",
          "text": [
            "Loss=0.8634069561958313 Batch_id=97 Accuracy=69.14: 100%|██████████| 98/98 [00:22<00:00,  4.43it/s]\n"
          ]
        },
        {
          "metadata": {
            "tags": null
          },
          "name": "stdout",
          "output_type": "stream",
          "text": [
            "\n",
            "Test set: Average loss: 0.7791, Accuracy: 7285/10000 (72.85%)\n",
            "\n",
            "EPOCH: 14\n"
          ]
        },
        {
          "metadata": {
            "tags": null
          },
          "name": "stderr",
          "output_type": "stream",
          "text": [
            "Loss=0.8017274737358093 Batch_id=97 Accuracy=70.16: 100%|██████████| 98/98 [00:22<00:00,  4.40it/s]\n"
          ]
        },
        {
          "metadata": {
            "tags": null
          },
          "name": "stdout",
          "output_type": "stream",
          "text": [
            "\n",
            "Test set: Average loss: 0.7556, Accuracy: 7321/10000 (73.21%)\n",
            "\n",
            "EPOCH: 15\n"
          ]
        },
        {
          "metadata": {
            "tags": null
          },
          "name": "stderr",
          "output_type": "stream",
          "text": [
            "Loss=0.7759255170822144 Batch_id=97 Accuracy=70.71: 100%|██████████| 98/98 [00:23<00:00,  4.18it/s]\n"
          ]
        },
        {
          "metadata": {
            "tags": null
          },
          "name": "stdout",
          "output_type": "stream",
          "text": [
            "\n",
            "Test set: Average loss: 0.7442, Accuracy: 7399/10000 (73.99%)\n",
            "\n",
            "EPOCH: 16\n"
          ]
        },
        {
          "metadata": {
            "tags": null
          },
          "name": "stderr",
          "output_type": "stream",
          "text": [
            "Loss=0.8279566168785095 Batch_id=97 Accuracy=71.30: 100%|██████████| 98/98 [00:23<00:00,  4.19it/s]\n"
          ]
        },
        {
          "metadata": {
            "tags": null
          },
          "name": "stdout",
          "output_type": "stream",
          "text": [
            "\n",
            "Test set: Average loss: 0.7219, Accuracy: 7484/10000 (74.84%)\n",
            "\n",
            "EPOCH: 17\n"
          ]
        },
        {
          "metadata": {
            "tags": null
          },
          "name": "stderr",
          "output_type": "stream",
          "text": [
            "Loss=0.7839778661727905 Batch_id=97 Accuracy=72.18: 100%|██████████| 98/98 [00:23<00:00,  4.23it/s]\n"
          ]
        },
        {
          "metadata": {
            "tags": null
          },
          "name": "stdout",
          "output_type": "stream",
          "text": [
            "\n",
            "Test set: Average loss: 0.7170, Accuracy: 7530/10000 (75.30%)\n",
            "\n",
            "EPOCH: 18\n"
          ]
        },
        {
          "metadata": {
            "tags": null
          },
          "name": "stderr",
          "output_type": "stream",
          "text": [
            "Loss=0.7035858631134033 Batch_id=97 Accuracy=72.87: 100%|██████████| 98/98 [00:21<00:00,  4.50it/s]\n"
          ]
        },
        {
          "metadata": {
            "tags": null
          },
          "name": "stdout",
          "output_type": "stream",
          "text": [
            "\n",
            "Test set: Average loss: 0.7022, Accuracy: 7573/10000 (75.73%)\n",
            "\n",
            "EPOCH: 19\n"
          ]
        },
        {
          "metadata": {
            "tags": null
          },
          "name": "stderr",
          "output_type": "stream",
          "text": [
            "Loss=0.8342922925949097 Batch_id=97 Accuracy=73.27: 100%|██████████| 98/98 [00:23<00:00,  4.20it/s]\n"
          ]
        },
        {
          "metadata": {
            "tags": null
          },
          "name": "stdout",
          "output_type": "stream",
          "text": [
            "\n",
            "Test set: Average loss: 0.7035, Accuracy: 7555/10000 (75.55%)\n",
            "\n",
            "EPOCH: 20\n"
          ]
        },
        {
          "metadata": {
            "tags": null
          },
          "name": "stderr",
          "output_type": "stream",
          "text": [
            "Loss=0.7316886186599731 Batch_id=97 Accuracy=73.48: 100%|██████████| 98/98 [00:23<00:00,  4.21it/s]\n"
          ]
        },
        {
          "metadata": {
            "tags": null
          },
          "name": "stdout",
          "output_type": "stream",
          "text": [
            "\n",
            "Test set: Average loss: 0.7166, Accuracy: 7533/10000 (75.33%)\n",
            "\n",
            "EPOCH: 21\n"
          ]
        },
        {
          "metadata": {
            "tags": null
          },
          "name": "stderr",
          "output_type": "stream",
          "text": [
            "Loss=0.6941269636154175 Batch_id=97 Accuracy=74.40: 100%|██████████| 98/98 [00:23<00:00,  4.20it/s]\n"
          ]
        },
        {
          "metadata": {
            "tags": null
          },
          "name": "stdout",
          "output_type": "stream",
          "text": [
            "\n",
            "Test set: Average loss: 0.6844, Accuracy: 7614/10000 (76.14%)\n",
            "\n",
            "EPOCH: 22\n"
          ]
        },
        {
          "metadata": {
            "tags": null
          },
          "name": "stderr",
          "output_type": "stream",
          "text": [
            "Loss=0.7504563331604004 Batch_id=97 Accuracy=74.67: 100%|██████████| 98/98 [00:23<00:00,  4.22it/s]\n"
          ]
        },
        {
          "metadata": {
            "tags": null
          },
          "name": "stdout",
          "output_type": "stream",
          "text": [
            "\n",
            "Test set: Average loss: 0.6409, Accuracy: 7795/10000 (77.95%)\n",
            "\n",
            "EPOCH: 23\n"
          ]
        },
        {
          "metadata": {
            "tags": null
          },
          "name": "stderr",
          "output_type": "stream",
          "text": [
            "Loss=0.7254207730293274 Batch_id=97 Accuracy=74.64: 100%|██████████| 98/98 [00:22<00:00,  4.45it/s]\n"
          ]
        },
        {
          "metadata": {
            "tags": null
          },
          "name": "stdout",
          "output_type": "stream",
          "text": [
            "\n",
            "Test set: Average loss: 0.6443, Accuracy: 7779/10000 (77.79%)\n",
            "\n",
            "EPOCH: 24\n"
          ]
        },
        {
          "metadata": {
            "tags": null
          },
          "name": "stderr",
          "output_type": "stream",
          "text": [
            "Loss=0.7240443229675293 Batch_id=97 Accuracy=75.15: 100%|██████████| 98/98 [00:21<00:00,  4.62it/s]\n"
          ]
        },
        {
          "metadata": {
            "tags": null
          },
          "name": "stdout",
          "output_type": "stream",
          "text": [
            "\n",
            "Test set: Average loss: 0.6314, Accuracy: 7808/10000 (78.08%)\n",
            "\n",
            "EPOCH: 25\n"
          ]
        },
        {
          "metadata": {
            "tags": null
          },
          "name": "stderr",
          "output_type": "stream",
          "text": [
            "Loss=0.7353869676589966 Batch_id=97 Accuracy=75.53: 100%|██████████| 98/98 [00:22<00:00,  4.38it/s]\n"
          ]
        },
        {
          "metadata": {
            "tags": null
          },
          "name": "stdout",
          "output_type": "stream",
          "text": [
            "\n",
            "Test set: Average loss: 0.6803, Accuracy: 7701/10000 (77.01%)\n",
            "\n",
            "EPOCH: 26\n"
          ]
        },
        {
          "metadata": {
            "tags": null
          },
          "name": "stderr",
          "output_type": "stream",
          "text": [
            "Loss=0.6813313961029053 Batch_id=97 Accuracy=75.88: 100%|██████████| 98/98 [00:23<00:00,  4.09it/s]\n"
          ]
        },
        {
          "metadata": {
            "tags": null
          },
          "name": "stdout",
          "output_type": "stream",
          "text": [
            "\n",
            "Test set: Average loss: 0.6320, Accuracy: 7792/10000 (77.92%)\n",
            "\n",
            "EPOCH: 27\n"
          ]
        },
        {
          "metadata": {
            "tags": null
          },
          "name": "stderr",
          "output_type": "stream",
          "text": [
            "Loss=0.7100039124488831 Batch_id=97 Accuracy=76.26: 100%|██████████| 98/98 [00:22<00:00,  4.30it/s]\n"
          ]
        },
        {
          "metadata": {
            "tags": null
          },
          "name": "stdout",
          "output_type": "stream",
          "text": [
            "\n",
            "Test set: Average loss: 0.6260, Accuracy: 7781/10000 (77.81%)\n",
            "\n",
            "EPOCH: 28\n"
          ]
        },
        {
          "metadata": {
            "tags": null
          },
          "name": "stderr",
          "output_type": "stream",
          "text": [
            "Loss=0.7028106451034546 Batch_id=97 Accuracy=76.64: 100%|██████████| 98/98 [00:22<00:00,  4.32it/s]\n"
          ]
        },
        {
          "metadata": {
            "tags": null
          },
          "name": "stdout",
          "output_type": "stream",
          "text": [
            "\n",
            "Test set: Average loss: 0.6066, Accuracy: 7911/10000 (79.11%)\n",
            "\n",
            "EPOCH: 29\n"
          ]
        },
        {
          "metadata": {
            "tags": null
          },
          "name": "stderr",
          "output_type": "stream",
          "text": [
            "Loss=0.6336072087287903 Batch_id=97 Accuracy=76.90: 100%|██████████| 98/98 [00:22<00:00,  4.41it/s]\n"
          ]
        },
        {
          "metadata": {
            "tags": null
          },
          "name": "stdout",
          "output_type": "stream",
          "text": [
            "\n",
            "Test set: Average loss: 0.6153, Accuracy: 7904/10000 (79.04%)\n",
            "\n",
            "EPOCH: 30\n"
          ]
        },
        {
          "metadata": {
            "tags": null
          },
          "name": "stderr",
          "output_type": "stream",
          "text": [
            "Loss=0.6580600738525391 Batch_id=97 Accuracy=77.11: 100%|██████████| 98/98 [00:21<00:00,  4.50it/s]\n"
          ]
        },
        {
          "metadata": {
            "tags": null
          },
          "name": "stdout",
          "output_type": "stream",
          "text": [
            "\n",
            "Test set: Average loss: 0.5973, Accuracy: 7974/10000 (79.74%)\n",
            "\n",
            "EPOCH: 31\n"
          ]
        },
        {
          "metadata": {
            "tags": null
          },
          "name": "stderr",
          "output_type": "stream",
          "text": [
            "Loss=0.6905443072319031 Batch_id=97 Accuracy=77.30: 100%|██████████| 98/98 [00:21<00:00,  4.55it/s]\n"
          ]
        },
        {
          "metadata": {
            "tags": null
          },
          "name": "stdout",
          "output_type": "stream",
          "text": [
            "\n",
            "Test set: Average loss: 0.5990, Accuracy: 7930/10000 (79.30%)\n",
            "\n",
            "EPOCH: 32\n"
          ]
        },
        {
          "metadata": {
            "tags": null
          },
          "name": "stderr",
          "output_type": "stream",
          "text": [
            "Loss=0.6357857584953308 Batch_id=97 Accuracy=77.59: 100%|██████████| 98/98 [00:22<00:00,  4.37it/s]\n"
          ]
        },
        {
          "metadata": {
            "tags": null
          },
          "name": "stdout",
          "output_type": "stream",
          "text": [
            "\n",
            "Test set: Average loss: 0.5773, Accuracy: 8008/10000 (80.08%)\n",
            "\n",
            "EPOCH: 33\n"
          ]
        },
        {
          "metadata": {
            "tags": null
          },
          "name": "stderr",
          "output_type": "stream",
          "text": [
            "Loss=0.7395530939102173 Batch_id=97 Accuracy=77.61: 100%|██████████| 98/98 [00:22<00:00,  4.31it/s]\n"
          ]
        },
        {
          "metadata": {
            "tags": null
          },
          "name": "stdout",
          "output_type": "stream",
          "text": [
            "\n",
            "Test set: Average loss: 0.5801, Accuracy: 7998/10000 (79.98%)\n",
            "\n",
            "EPOCH: 34\n"
          ]
        },
        {
          "metadata": {
            "tags": null
          },
          "name": "stderr",
          "output_type": "stream",
          "text": [
            "Loss=0.6075975298881531 Batch_id=97 Accuracy=78.16: 100%|██████████| 98/98 [00:23<00:00,  4.13it/s]\n"
          ]
        },
        {
          "metadata": {
            "tags": null
          },
          "name": "stdout",
          "output_type": "stream",
          "text": [
            "\n",
            "Test set: Average loss: 0.5704, Accuracy: 7992/10000 (79.92%)\n",
            "\n",
            "EPOCH: 35\n"
          ]
        },
        {
          "metadata": {
            "tags": null
          },
          "name": "stderr",
          "output_type": "stream",
          "text": [
            "Loss=0.6757559776306152 Batch_id=97 Accuracy=78.53: 100%|██████████| 98/98 [00:22<00:00,  4.30it/s]\n"
          ]
        },
        {
          "metadata": {
            "tags": null
          },
          "name": "stdout",
          "output_type": "stream",
          "text": [
            "\n",
            "Test set: Average loss: 0.5793, Accuracy: 8044/10000 (80.44%)\n",
            "\n",
            "EPOCH: 36\n"
          ]
        },
        {
          "metadata": {
            "tags": null
          },
          "name": "stderr",
          "output_type": "stream",
          "text": [
            "Loss=0.6212174296379089 Batch_id=97 Accuracy=78.67: 100%|██████████| 98/98 [00:22<00:00,  4.33it/s]\n"
          ]
        },
        {
          "metadata": {
            "tags": null
          },
          "name": "stdout",
          "output_type": "stream",
          "text": [
            "\n",
            "Test set: Average loss: 0.5602, Accuracy: 8067/10000 (80.67%)\n",
            "\n",
            "EPOCH: 37\n"
          ]
        },
        {
          "metadata": {
            "tags": null
          },
          "name": "stderr",
          "output_type": "stream",
          "text": [
            "Loss=0.6535847783088684 Batch_id=97 Accuracy=78.64: 100%|██████████| 98/98 [00:21<00:00,  4.50it/s]\n"
          ]
        },
        {
          "metadata": {
            "tags": null
          },
          "name": "stdout",
          "output_type": "stream",
          "text": [
            "\n",
            "Test set: Average loss: 0.5526, Accuracy: 8060/10000 (80.60%)\n",
            "\n",
            "EPOCH: 38\n"
          ]
        },
        {
          "metadata": {
            "tags": null
          },
          "name": "stderr",
          "output_type": "stream",
          "text": [
            "Loss=0.5778596997261047 Batch_id=97 Accuracy=78.73: 100%|██████████| 98/98 [00:21<00:00,  4.53it/s]\n"
          ]
        },
        {
          "metadata": {
            "tags": null
          },
          "name": "stdout",
          "output_type": "stream",
          "text": [
            "\n",
            "Test set: Average loss: 0.5632, Accuracy: 8105/10000 (81.05%)\n",
            "\n",
            "EPOCH: 39\n"
          ]
        },
        {
          "metadata": {
            "tags": null
          },
          "name": "stderr",
          "output_type": "stream",
          "text": [
            "Loss=0.5344620943069458 Batch_id=97 Accuracy=79.07: 100%|██████████| 98/98 [00:22<00:00,  4.35it/s]\n"
          ]
        },
        {
          "metadata": {
            "tags": null
          },
          "name": "stdout",
          "output_type": "stream",
          "text": [
            "\n",
            "Test set: Average loss: 0.5475, Accuracy: 8123/10000 (81.23%)\n",
            "\n",
            "EPOCH: 40\n"
          ]
        },
        {
          "metadata": {
            "tags": null
          },
          "name": "stderr",
          "output_type": "stream",
          "text": [
            "Loss=0.6843263506889343 Batch_id=97 Accuracy=79.13: 100%|██████████| 98/98 [00:22<00:00,  4.27it/s]\n"
          ]
        },
        {
          "metadata": {
            "tags": null
          },
          "name": "stdout",
          "output_type": "stream",
          "text": [
            "\n",
            "Test set: Average loss: 0.5391, Accuracy: 8164/10000 (81.64%)\n",
            "\n",
            "EPOCH: 41\n"
          ]
        },
        {
          "metadata": {
            "tags": null
          },
          "name": "stderr",
          "output_type": "stream",
          "text": [
            "Loss=0.508983314037323 Batch_id=97 Accuracy=79.14: 100%|██████████| 98/98 [00:24<00:00,  4.04it/s]\n"
          ]
        },
        {
          "metadata": {
            "tags": null
          },
          "name": "stdout",
          "output_type": "stream",
          "text": [
            "\n",
            "Test set: Average loss: 0.5662, Accuracy: 8072/10000 (80.72%)\n",
            "\n",
            "EPOCH: 42\n"
          ]
        },
        {
          "metadata": {
            "tags": null
          },
          "name": "stderr",
          "output_type": "stream",
          "text": [
            "Loss=0.7779150605201721 Batch_id=97 Accuracy=79.56: 100%|██████████| 98/98 [00:22<00:00,  4.34it/s]\n"
          ]
        },
        {
          "metadata": {
            "tags": null
          },
          "name": "stdout",
          "output_type": "stream",
          "text": [
            "\n",
            "Test set: Average loss: 0.5577, Accuracy: 8109/10000 (81.09%)\n",
            "\n",
            "EPOCH: 43\n"
          ]
        },
        {
          "metadata": {
            "tags": null
          },
          "name": "stderr",
          "output_type": "stream",
          "text": [
            "Loss=0.5177450776100159 Batch_id=97 Accuracy=79.47: 100%|██████████| 98/98 [00:22<00:00,  4.37it/s]\n"
          ]
        },
        {
          "metadata": {
            "tags": null
          },
          "name": "stdout",
          "output_type": "stream",
          "text": [
            "\n",
            "Test set: Average loss: 0.5434, Accuracy: 8188/10000 (81.88%)\n",
            "\n",
            "EPOCH: 44\n"
          ]
        },
        {
          "metadata": {
            "tags": null
          },
          "name": "stderr",
          "output_type": "stream",
          "text": [
            "Loss=0.6000171899795532 Batch_id=97 Accuracy=79.72: 100%|██████████| 98/98 [00:22<00:00,  4.45it/s]\n"
          ]
        },
        {
          "metadata": {
            "tags": null
          },
          "name": "stdout",
          "output_type": "stream",
          "text": [
            "\n",
            "Test set: Average loss: 0.5206, Accuracy: 8232/10000 (82.32%)\n",
            "\n",
            "EPOCH: 45\n"
          ]
        },
        {
          "metadata": {
            "tags": null
          },
          "name": "stderr",
          "output_type": "stream",
          "text": [
            "Loss=0.5468059778213501 Batch_id=97 Accuracy=79.99: 100%|██████████| 98/98 [00:21<00:00,  4.48it/s]\n"
          ]
        },
        {
          "metadata": {
            "tags": null
          },
          "name": "stdout",
          "output_type": "stream",
          "text": [
            "\n",
            "Test set: Average loss: 0.5248, Accuracy: 8214/10000 (82.14%)\n",
            "\n",
            "EPOCH: 46\n"
          ]
        },
        {
          "metadata": {
            "tags": null
          },
          "name": "stderr",
          "output_type": "stream",
          "text": [
            "Loss=0.5861441493034363 Batch_id=97 Accuracy=79.97: 100%|██████████| 98/98 [00:22<00:00,  4.41it/s]\n"
          ]
        },
        {
          "metadata": {
            "tags": null
          },
          "name": "stdout",
          "output_type": "stream",
          "text": [
            "\n",
            "Test set: Average loss: 0.5145, Accuracy: 8239/10000 (82.39%)\n",
            "\n",
            "EPOCH: 47\n"
          ]
        },
        {
          "metadata": {
            "tags": null
          },
          "name": "stderr",
          "output_type": "stream",
          "text": [
            "Loss=0.5960364937782288 Batch_id=97 Accuracy=80.43: 100%|██████████| 98/98 [00:22<00:00,  4.27it/s]\n"
          ]
        },
        {
          "metadata": {
            "tags": null
          },
          "name": "stdout",
          "output_type": "stream",
          "text": [
            "\n",
            "Test set: Average loss: 0.5319, Accuracy: 8186/10000 (81.86%)\n",
            "\n",
            "EPOCH: 48\n"
          ]
        },
        {
          "metadata": {
            "tags": null
          },
          "name": "stderr",
          "output_type": "stream",
          "text": [
            "Loss=0.6651081442832947 Batch_id=97 Accuracy=80.42: 100%|██████████| 98/98 [00:24<00:00,  4.05it/s]\n"
          ]
        },
        {
          "metadata": {
            "tags": null
          },
          "name": "stdout",
          "output_type": "stream",
          "text": [
            "\n",
            "Test set: Average loss: 0.5207, Accuracy: 8250/10000 (82.50%)\n",
            "\n",
            "EPOCH: 49\n"
          ]
        },
        {
          "metadata": {
            "tags": null
          },
          "name": "stderr",
          "output_type": "stream",
          "text": [
            "Loss=0.5649245381355286 Batch_id=97 Accuracy=80.49: 100%|██████████| 98/98 [00:23<00:00,  4.23it/s]\n"
          ]
        },
        {
          "metadata": {
            "tags": null
          },
          "name": "stdout",
          "output_type": "stream",
          "text": [
            "\n",
            "Test set: Average loss: 0.5312, Accuracy: 8195/10000 (81.95%)\n",
            "\n",
            "EPOCH: 50\n"
          ]
        },
        {
          "metadata": {
            "tags": null
          },
          "name": "stderr",
          "output_type": "stream",
          "text": [
            "Loss=0.5595096349716187 Batch_id=97 Accuracy=80.44: 100%|██████████| 98/98 [00:23<00:00,  4.22it/s]\n"
          ]
        },
        {
          "metadata": {
            "tags": null
          },
          "name": "stdout",
          "output_type": "stream",
          "text": [
            "\n",
            "Test set: Average loss: 0.5099, Accuracy: 8277/10000 (82.77%)\n",
            "\n",
            "EPOCH: 51\n"
          ]
        },
        {
          "metadata": {
            "tags": null
          },
          "name": "stderr",
          "output_type": "stream",
          "text": [
            "Loss=0.5570975542068481 Batch_id=97 Accuracy=80.48: 100%|██████████| 98/98 [00:23<00:00,  4.19it/s]\n"
          ]
        },
        {
          "metadata": {
            "tags": null
          },
          "name": "stdout",
          "output_type": "stream",
          "text": [
            "\n",
            "Test set: Average loss: 0.5199, Accuracy: 8241/10000 (82.41%)\n",
            "\n",
            "EPOCH: 52\n"
          ]
        },
        {
          "metadata": {
            "tags": null
          },
          "name": "stderr",
          "output_type": "stream",
          "text": [
            "Loss=0.5109407305717468 Batch_id=97 Accuracy=80.65: 100%|██████████| 98/98 [00:23<00:00,  4.23it/s]\n"
          ]
        },
        {
          "metadata": {
            "tags": null
          },
          "name": "stdout",
          "output_type": "stream",
          "text": [
            "\n",
            "Test set: Average loss: 0.5111, Accuracy: 8240/10000 (82.40%)\n",
            "\n",
            "EPOCH: 53\n"
          ]
        },
        {
          "metadata": {
            "tags": null
          },
          "name": "stderr",
          "output_type": "stream",
          "text": [
            "Loss=0.5995852947235107 Batch_id=97 Accuracy=80.85: 100%|██████████| 98/98 [00:21<00:00,  4.47it/s]\n"
          ]
        },
        {
          "metadata": {
            "tags": null
          },
          "name": "stdout",
          "output_type": "stream",
          "text": [
            "\n",
            "Test set: Average loss: 0.5032, Accuracy: 8225/10000 (82.25%)\n",
            "\n",
            "EPOCH: 54\n"
          ]
        },
        {
          "output_type": "stream",
          "name": "stderr",
          "text": [
            "Loss=0.5758377909660339 Batch_id=97 Accuracy=80.91: 100%|██████████| 98/98 [00:21<00:00,  4.53it/s]\n"
          ]
        },
        {
          "output_type": "stream",
          "name": "stdout",
          "text": [
            "\n",
            "Test set: Average loss: 0.5185, Accuracy: 8243/10000 (82.43%)\n",
            "\n",
            "EPOCH: 55\n"
          ]
        },
        {
          "output_type": "stream",
          "name": "stderr",
          "text": [
            "Loss=0.6161870360374451 Batch_id=97 Accuracy=80.97: 100%|██████████| 98/98 [00:23<00:00,  4.21it/s]\n"
          ]
        },
        {
          "output_type": "stream",
          "name": "stdout",
          "text": [
            "\n",
            "Test set: Average loss: 0.5025, Accuracy: 8321/10000 (83.21%)\n",
            "\n",
            "EPOCH: 56\n"
          ]
        },
        {
          "output_type": "stream",
          "name": "stderr",
          "text": [
            "Loss=0.6617281436920166 Batch_id=97 Accuracy=81.30: 100%|██████████| 98/98 [00:23<00:00,  4.26it/s]\n"
          ]
        },
        {
          "output_type": "stream",
          "name": "stdout",
          "text": [
            "\n",
            "Test set: Average loss: 0.4957, Accuracy: 8312/10000 (83.12%)\n",
            "\n",
            "EPOCH: 57\n"
          ]
        },
        {
          "output_type": "stream",
          "name": "stderr",
          "text": [
            "Loss=0.5906693339347839 Batch_id=97 Accuracy=81.34: 100%|██████████| 98/98 [00:23<00:00,  4.20it/s]\n"
          ]
        },
        {
          "output_type": "stream",
          "name": "stdout",
          "text": [
            "\n",
            "Test set: Average loss: 0.5036, Accuracy: 8279/10000 (82.79%)\n",
            "\n",
            "EPOCH: 58\n"
          ]
        },
        {
          "output_type": "stream",
          "name": "stderr",
          "text": [
            "Loss=0.6120377779006958 Batch_id=97 Accuracy=81.34: 100%|██████████| 98/98 [00:22<00:00,  4.27it/s]\n"
          ]
        },
        {
          "output_type": "stream",
          "name": "stdout",
          "text": [
            "\n",
            "Test set: Average loss: 0.5020, Accuracy: 8317/10000 (83.17%)\n",
            "\n",
            "EPOCH: 59\n"
          ]
        },
        {
          "output_type": "stream",
          "name": "stderr",
          "text": [
            "Loss=0.5648664832115173 Batch_id=97 Accuracy=81.48: 100%|██████████| 98/98 [00:22<00:00,  4.32it/s]\n"
          ]
        },
        {
          "output_type": "stream",
          "name": "stdout",
          "text": [
            "\n",
            "Test set: Average loss: 0.4931, Accuracy: 8292/10000 (82.92%)\n",
            "\n",
            "EPOCH: 60\n"
          ]
        },
        {
          "output_type": "stream",
          "name": "stderr",
          "text": [
            "Loss=0.5225988030433655 Batch_id=97 Accuracy=81.64: 100%|██████████| 98/98 [00:22<00:00,  4.28it/s]\n"
          ]
        },
        {
          "output_type": "stream",
          "name": "stdout",
          "text": [
            "\n",
            "Test set: Average loss: 0.4915, Accuracy: 8328/10000 (83.28%)\n",
            "\n",
            "EPOCH: 61\n"
          ]
        },
        {
          "output_type": "stream",
          "name": "stderr",
          "text": [
            "Loss=0.5421410202980042 Batch_id=97 Accuracy=81.50: 100%|██████████| 98/98 [00:21<00:00,  4.49it/s]\n"
          ]
        },
        {
          "output_type": "stream",
          "name": "stdout",
          "text": [
            "\n",
            "Test set: Average loss: 0.4857, Accuracy: 8343/10000 (83.43%)\n",
            "\n",
            "EPOCH: 62\n"
          ]
        },
        {
          "output_type": "stream",
          "name": "stderr",
          "text": [
            "Loss=0.5343368649482727 Batch_id=97 Accuracy=81.80: 100%|██████████| 98/98 [00:21<00:00,  4.52it/s]\n"
          ]
        },
        {
          "output_type": "stream",
          "name": "stdout",
          "text": [
            "\n",
            "Test set: Average loss: 0.4960, Accuracy: 8315/10000 (83.15%)\n",
            "\n",
            "EPOCH: 63\n"
          ]
        },
        {
          "output_type": "stream",
          "name": "stderr",
          "text": [
            "Loss=0.5248463749885559 Batch_id=97 Accuracy=81.86: 100%|██████████| 98/98 [00:23<00:00,  4.16it/s]\n"
          ]
        },
        {
          "output_type": "stream",
          "name": "stdout",
          "text": [
            "\n",
            "Test set: Average loss: 0.4920, Accuracy: 8307/10000 (83.07%)\n",
            "\n",
            "EPOCH: 64\n"
          ]
        },
        {
          "output_type": "stream",
          "name": "stderr",
          "text": [
            "Loss=0.5641595125198364 Batch_id=97 Accuracy=81.50: 100%|██████████| 98/98 [00:22<00:00,  4.33it/s]\n"
          ]
        },
        {
          "output_type": "stream",
          "name": "stdout",
          "text": [
            "\n",
            "Test set: Average loss: 0.4812, Accuracy: 8351/10000 (83.51%)\n",
            "\n",
            "EPOCH: 65\n"
          ]
        },
        {
          "output_type": "stream",
          "name": "stderr",
          "text": [
            "Loss=0.6071019768714905 Batch_id=97 Accuracy=81.91: 100%|██████████| 98/98 [00:22<00:00,  4.34it/s]\n"
          ]
        },
        {
          "output_type": "stream",
          "name": "stdout",
          "text": [
            "\n",
            "Test set: Average loss: 0.4789, Accuracy: 8379/10000 (83.79%)\n",
            "\n",
            "EPOCH: 66\n"
          ]
        },
        {
          "output_type": "stream",
          "name": "stderr",
          "text": [
            "Loss=0.49431827664375305 Batch_id=97 Accuracy=82.02: 100%|██████████| 98/98 [00:23<00:00,  4.22it/s]\n"
          ]
        },
        {
          "output_type": "stream",
          "name": "stdout",
          "text": [
            "\n",
            "Test set: Average loss: 0.4787, Accuracy: 8397/10000 (83.97%)\n",
            "\n",
            "EPOCH: 67\n"
          ]
        },
        {
          "output_type": "stream",
          "name": "stderr",
          "text": [
            "Loss=0.5231242775917053 Batch_id=97 Accuracy=81.99: 100%|██████████| 98/98 [00:24<00:00,  4.06it/s]\n"
          ]
        },
        {
          "output_type": "stream",
          "name": "stdout",
          "text": [
            "\n",
            "Test set: Average loss: 0.4874, Accuracy: 8355/10000 (83.55%)\n",
            "\n",
            "EPOCH: 68\n"
          ]
        },
        {
          "output_type": "stream",
          "name": "stderr",
          "text": [
            "Loss=0.49724769592285156 Batch_id=97 Accuracy=82.17: 100%|██████████| 98/98 [00:24<00:00,  4.08it/s]\n"
          ]
        },
        {
          "output_type": "stream",
          "name": "stdout",
          "text": [
            "\n",
            "Test set: Average loss: 0.4790, Accuracy: 8389/10000 (83.89%)\n",
            "\n",
            "EPOCH: 69\n"
          ]
        },
        {
          "output_type": "stream",
          "name": "stderr",
          "text": [
            "Loss=0.5409156084060669 Batch_id=97 Accuracy=82.08: 100%|██████████| 98/98 [00:24<00:00,  3.96it/s]\n"
          ]
        },
        {
          "output_type": "stream",
          "name": "stdout",
          "text": [
            "\n",
            "Test set: Average loss: 0.4698, Accuracy: 8386/10000 (83.86%)\n",
            "\n",
            "EPOCH: 70\n"
          ]
        },
        {
          "output_type": "stream",
          "name": "stderr",
          "text": [
            "Loss=0.5387476086616516 Batch_id=97 Accuracy=82.42: 100%|██████████| 98/98 [00:24<00:00,  4.07it/s]\n"
          ]
        },
        {
          "output_type": "stream",
          "name": "stdout",
          "text": [
            "\n",
            "Test set: Average loss: 0.4541, Accuracy: 8468/10000 (84.68%)\n",
            "\n",
            "EPOCH: 71\n"
          ]
        },
        {
          "output_type": "stream",
          "name": "stderr",
          "text": [
            "Loss=0.5469912886619568 Batch_id=97 Accuracy=82.33: 100%|██████████| 98/98 [00:21<00:00,  4.64it/s]\n"
          ]
        },
        {
          "output_type": "stream",
          "name": "stdout",
          "text": [
            "\n",
            "Test set: Average loss: 0.4742, Accuracy: 8397/10000 (83.97%)\n",
            "\n",
            "EPOCH: 72\n"
          ]
        },
        {
          "output_type": "stream",
          "name": "stderr",
          "text": [
            "Loss=0.4674704372882843 Batch_id=97 Accuracy=82.53: 100%|██████████| 98/98 [00:22<00:00,  4.38it/s]\n"
          ]
        },
        {
          "output_type": "stream",
          "name": "stdout",
          "text": [
            "\n",
            "Test set: Average loss: 0.4601, Accuracy: 8407/10000 (84.07%)\n",
            "\n",
            "EPOCH: 73\n"
          ]
        },
        {
          "output_type": "stream",
          "name": "stderr",
          "text": [
            "Loss=0.496325820684433 Batch_id=97 Accuracy=82.53: 100%|██████████| 98/98 [00:22<00:00,  4.28it/s]\n"
          ]
        },
        {
          "output_type": "stream",
          "name": "stdout",
          "text": [
            "\n",
            "Test set: Average loss: 0.4740, Accuracy: 8396/10000 (83.96%)\n",
            "\n",
            "EPOCH: 74\n"
          ]
        },
        {
          "output_type": "stream",
          "name": "stderr",
          "text": [
            "Loss=0.4943588674068451 Batch_id=97 Accuracy=82.61: 100%|██████████| 98/98 [00:22<00:00,  4.35it/s]\n"
          ]
        },
        {
          "output_type": "stream",
          "name": "stdout",
          "text": [
            "\n",
            "Test set: Average loss: 0.4756, Accuracy: 8400/10000 (84.00%)\n",
            "\n",
            "EPOCH: 75\n"
          ]
        },
        {
          "output_type": "stream",
          "name": "stderr",
          "text": [
            "Loss=0.5091111063957214 Batch_id=97 Accuracy=82.72: 100%|██████████| 98/98 [00:23<00:00,  4.23it/s]\n"
          ]
        },
        {
          "output_type": "stream",
          "name": "stdout",
          "text": [
            "\n",
            "Test set: Average loss: 0.4693, Accuracy: 8399/10000 (83.99%)\n",
            "\n",
            "EPOCH: 76\n"
          ]
        },
        {
          "output_type": "stream",
          "name": "stderr",
          "text": [
            "Loss=0.47624701261520386 Batch_id=97 Accuracy=82.57: 100%|██████████| 98/98 [00:22<00:00,  4.33it/s]\n"
          ]
        },
        {
          "output_type": "stream",
          "name": "stdout",
          "text": [
            "\n",
            "Test set: Average loss: 0.4774, Accuracy: 8403/10000 (84.03%)\n",
            "\n",
            "EPOCH: 77\n"
          ]
        },
        {
          "output_type": "stream",
          "name": "stderr",
          "text": [
            "Loss=0.4503154754638672 Batch_id=97 Accuracy=82.75: 100%|██████████| 98/98 [00:23<00:00,  4.19it/s]\n"
          ]
        },
        {
          "output_type": "stream",
          "name": "stdout",
          "text": [
            "\n",
            "Test set: Average loss: 0.4604, Accuracy: 8437/10000 (84.37%)\n",
            "\n",
            "EPOCH: 78\n"
          ]
        },
        {
          "output_type": "stream",
          "name": "stderr",
          "text": [
            "Loss=0.49407094717025757 Batch_id=97 Accuracy=82.80: 100%|██████████| 98/98 [00:21<00:00,  4.50it/s]\n"
          ]
        },
        {
          "output_type": "stream",
          "name": "stdout",
          "text": [
            "\n",
            "Test set: Average loss: 0.4584, Accuracy: 8473/10000 (84.73%)\n",
            "\n",
            "EPOCH: 79\n"
          ]
        },
        {
          "output_type": "stream",
          "name": "stderr",
          "text": [
            "Loss=0.44101279973983765 Batch_id=97 Accuracy=82.56: 100%|██████████| 98/98 [00:21<00:00,  4.47it/s]\n"
          ]
        },
        {
          "output_type": "stream",
          "name": "stdout",
          "text": [
            "\n",
            "Test set: Average loss: 0.4686, Accuracy: 8417/10000 (84.17%)\n",
            "\n",
            "EPOCH: 80\n"
          ]
        },
        {
          "output_type": "stream",
          "name": "stderr",
          "text": [
            "Loss=0.5591083765029907 Batch_id=97 Accuracy=82.91: 100%|██████████| 98/98 [00:22<00:00,  4.29it/s]\n"
          ]
        },
        {
          "output_type": "stream",
          "name": "stdout",
          "text": [
            "\n",
            "Test set: Average loss: 0.4584, Accuracy: 8444/10000 (84.44%)\n",
            "\n",
            "EPOCH: 81\n"
          ]
        },
        {
          "output_type": "stream",
          "name": "stderr",
          "text": [
            "Loss=0.5680042505264282 Batch_id=97 Accuracy=82.99: 100%|██████████| 98/98 [00:23<00:00,  4.26it/s]\n"
          ]
        },
        {
          "output_type": "stream",
          "name": "stdout",
          "text": [
            "\n",
            "Test set: Average loss: 0.4672, Accuracy: 8448/10000 (84.48%)\n",
            "\n",
            "EPOCH: 82\n"
          ]
        },
        {
          "output_type": "stream",
          "name": "stderr",
          "text": [
            "Loss=0.5072068572044373 Batch_id=97 Accuracy=82.87: 100%|██████████| 98/98 [00:23<00:00,  4.23it/s]\n"
          ]
        },
        {
          "output_type": "stream",
          "name": "stdout",
          "text": [
            "\n",
            "Test set: Average loss: 0.4625, Accuracy: 8437/10000 (84.37%)\n",
            "\n",
            "EPOCH: 83\n"
          ]
        },
        {
          "output_type": "stream",
          "name": "stderr",
          "text": [
            "Loss=0.4438026547431946 Batch_id=97 Accuracy=82.77: 100%|██████████| 98/98 [00:22<00:00,  4.29it/s]\n"
          ]
        },
        {
          "output_type": "stream",
          "name": "stdout",
          "text": [
            "\n",
            "Test set: Average loss: 0.4566, Accuracy: 8448/10000 (84.48%)\n",
            "\n",
            "EPOCH: 84\n"
          ]
        },
        {
          "output_type": "stream",
          "name": "stderr",
          "text": [
            "Loss=0.5343326330184937 Batch_id=97 Accuracy=83.27: 100%|██████████| 98/98 [00:22<00:00,  4.44it/s]\n"
          ]
        },
        {
          "output_type": "stream",
          "name": "stdout",
          "text": [
            "\n",
            "Test set: Average loss: 0.4571, Accuracy: 8444/10000 (84.44%)\n",
            "\n",
            "EPOCH: 85\n"
          ]
        },
        {
          "output_type": "stream",
          "name": "stderr",
          "text": [
            "Loss=0.4479149281978607 Batch_id=97 Accuracy=83.17: 100%|██████████| 98/98 [00:22<00:00,  4.43it/s]\n"
          ]
        },
        {
          "output_type": "stream",
          "name": "stdout",
          "text": [
            "\n",
            "Test set: Average loss: 0.4559, Accuracy: 8455/10000 (84.55%)\n",
            "\n",
            "EPOCH: 86\n"
          ]
        },
        {
          "output_type": "stream",
          "name": "stderr",
          "text": [
            "Loss=0.4800570011138916 Batch_id=97 Accuracy=83.03: 100%|██████████| 98/98 [00:22<00:00,  4.30it/s]\n"
          ]
        },
        {
          "output_type": "stream",
          "name": "stdout",
          "text": [
            "\n",
            "Test set: Average loss: 0.4442, Accuracy: 8494/10000 (84.94%)\n",
            "\n",
            "EPOCH: 87\n"
          ]
        },
        {
          "output_type": "stream",
          "name": "stderr",
          "text": [
            "Loss=0.5229472517967224 Batch_id=97 Accuracy=83.10: 100%|██████████| 98/98 [00:22<00:00,  4.29it/s]\n"
          ]
        },
        {
          "output_type": "stream",
          "name": "stdout",
          "text": [
            "\n",
            "Test set: Average loss: 0.4485, Accuracy: 8447/10000 (84.47%)\n",
            "\n",
            "EPOCH: 88\n"
          ]
        },
        {
          "output_type": "stream",
          "name": "stderr",
          "text": [
            "Loss=0.42676815390586853 Batch_id=97 Accuracy=83.17: 100%|██████████| 98/98 [00:22<00:00,  4.27it/s]\n"
          ]
        },
        {
          "output_type": "stream",
          "name": "stdout",
          "text": [
            "\n",
            "Test set: Average loss: 0.4670, Accuracy: 8440/10000 (84.40%)\n",
            "\n",
            "EPOCH: 89\n"
          ]
        },
        {
          "output_type": "stream",
          "name": "stderr",
          "text": [
            "Loss=0.4619333744049072 Batch_id=97 Accuracy=83.47: 100%|██████████| 98/98 [00:23<00:00,  4.26it/s]\n"
          ]
        },
        {
          "output_type": "stream",
          "name": "stdout",
          "text": [
            "\n",
            "Test set: Average loss: 0.4483, Accuracy: 8493/10000 (84.93%)\n",
            "\n",
            "EPOCH: 90\n"
          ]
        },
        {
          "output_type": "stream",
          "name": "stderr",
          "text": [
            "Loss=0.43984875082969666 Batch_id=97 Accuracy=83.43: 100%|██████████| 98/98 [00:22<00:00,  4.29it/s]\n"
          ]
        },
        {
          "output_type": "stream",
          "name": "stdout",
          "text": [
            "\n",
            "Test set: Average loss: 0.4502, Accuracy: 8463/10000 (84.63%)\n",
            "\n",
            "EPOCH: 91\n"
          ]
        },
        {
          "output_type": "stream",
          "name": "stderr",
          "text": [
            "Loss=0.5051495432853699 Batch_id=97 Accuracy=83.39: 100%|██████████| 98/98 [00:22<00:00,  4.43it/s]\n"
          ]
        },
        {
          "output_type": "stream",
          "name": "stdout",
          "text": [
            "\n",
            "Test set: Average loss: 0.4472, Accuracy: 8496/10000 (84.96%)\n",
            "\n",
            "EPOCH: 92\n"
          ]
        },
        {
          "output_type": "stream",
          "name": "stderr",
          "text": [
            "Loss=0.44006478786468506 Batch_id=97 Accuracy=83.43: 100%|██████████| 98/98 [00:22<00:00,  4.34it/s]\n"
          ]
        },
        {
          "output_type": "stream",
          "name": "stdout",
          "text": [
            "\n",
            "Test set: Average loss: 0.4545, Accuracy: 8454/10000 (84.54%)\n",
            "\n",
            "EPOCH: 93\n"
          ]
        },
        {
          "output_type": "stream",
          "name": "stderr",
          "text": [
            "Loss=0.48896679282188416 Batch_id=97 Accuracy=83.44: 100%|██████████| 98/98 [00:21<00:00,  4.54it/s]\n"
          ]
        },
        {
          "output_type": "stream",
          "name": "stdout",
          "text": [
            "\n",
            "Test set: Average loss: 0.4435, Accuracy: 8500/10000 (85.00%)\n",
            "\n",
            "EPOCH: 94\n"
          ]
        },
        {
          "output_type": "stream",
          "name": "stderr",
          "text": [
            "Loss=0.4491724371910095 Batch_id=97 Accuracy=83.67: 100%|██████████| 98/98 [00:22<00:00,  4.41it/s]\n"
          ]
        },
        {
          "output_type": "stream",
          "name": "stdout",
          "text": [
            "\n",
            "Test set: Average loss: 0.4561, Accuracy: 8457/10000 (84.57%)\n",
            "\n",
            "EPOCH: 95\n"
          ]
        },
        {
          "output_type": "stream",
          "name": "stderr",
          "text": [
            "Loss=0.5385348200798035 Batch_id=97 Accuracy=83.58: 100%|██████████| 98/98 [00:22<00:00,  4.29it/s]\n"
          ]
        },
        {
          "output_type": "stream",
          "name": "stdout",
          "text": [
            "\n",
            "Test set: Average loss: 0.4525, Accuracy: 8449/10000 (84.49%)\n",
            "\n",
            "EPOCH: 96\n"
          ]
        },
        {
          "output_type": "stream",
          "name": "stderr",
          "text": [
            "Loss=0.4645453989505768 Batch_id=97 Accuracy=83.56: 100%|██████████| 98/98 [00:22<00:00,  4.29it/s]\n"
          ]
        },
        {
          "output_type": "stream",
          "name": "stdout",
          "text": [
            "\n",
            "Test set: Average loss: 0.4443, Accuracy: 8511/10000 (85.11%)\n",
            "\n",
            "EPOCH: 97\n"
          ]
        },
        {
          "output_type": "stream",
          "name": "stderr",
          "text": [
            "Loss=0.49928173422813416 Batch_id=97 Accuracy=83.55: 100%|██████████| 98/98 [00:22<00:00,  4.33it/s]\n"
          ]
        },
        {
          "output_type": "stream",
          "name": "stdout",
          "text": [
            "\n",
            "Test set: Average loss: 0.4389, Accuracy: 8512/10000 (85.12%)\n",
            "\n",
            "EPOCH: 98\n"
          ]
        },
        {
          "output_type": "stream",
          "name": "stderr",
          "text": [
            "Loss=0.5388821959495544 Batch_id=97 Accuracy=83.47: 100%|██████████| 98/98 [00:22<00:00,  4.45it/s]\n"
          ]
        },
        {
          "output_type": "stream",
          "name": "stdout",
          "text": [
            "\n",
            "Test set: Average loss: 0.4435, Accuracy: 8522/10000 (85.22%)\n",
            "\n",
            "EPOCH: 99\n"
          ]
        },
        {
          "output_type": "stream",
          "name": "stderr",
          "text": [
            "Loss=0.5077497363090515 Batch_id=97 Accuracy=83.70: 100%|██████████| 98/98 [00:22<00:00,  4.28it/s]\n"
          ]
        },
        {
          "output_type": "stream",
          "name": "stdout",
          "text": [
            "\n",
            "Test set: Average loss: 0.4417, Accuracy: 8503/10000 (85.03%)\n",
            "\n"
          ]
        }
      ]
    },
    {
      "cell_type": "markdown",
      "source": [
        "## Accuracy and Loss curves"
      ],
      "metadata": {
        "id": "xpdcETT0-Mjb"
      }
    },
    {
      "cell_type": "code",
      "source": [
        "t = [t_items.item() for t_items in train_losses]\n",
        "%matplotlib inline\n",
        "import matplotlib.pyplot as plt\n",
        "fig, axs = plt.subplots(2,2,figsize=(15,10))\n",
        "axs[0, 0].plot(t)\n",
        "axs[0, 0].set_title(\"Training Loss\")\n",
        "axs[1, 0].plot(train_acc)\n",
        "axs[1, 0].set_title(\"Training Accuracy\")\n",
        "axs[0, 1].plot(test_losses)\n",
        "axs[0, 1].set_title(\"Test Loss\")\n",
        "axs[1, 1].plot(test_acc)\n",
        "axs[1, 1].set_title(\"Test Accuracy\")"
      ],
      "metadata": {
        "id": "Szd8q0v6-OhD",
        "colab": {
          "base_uri": "https://localhost:8080/",
          "height": 811
        },
        "outputId": "9a3c6286-75b4-4f7d-f7b8-74d76971a088"
      },
      "execution_count": 19,
      "outputs": [
        {
          "output_type": "execute_result",
          "data": {
            "text/plain": [
              "Text(0.5, 1.0, 'Test Accuracy')"
            ]
          },
          "metadata": {},
          "execution_count": 19
        },
        {
          "output_type": "display_data",
          "data": {
            "text/plain": [
              "<Figure size 1500x1000 with 4 Axes>"
            ],
            "image/png": "[encoded data removed]"
          },
          "metadata": {}
        }
      ]
    },
    {
      "cell_type": "markdown",
      "source": [],
      "metadata": {
        "id": "VC-3NhFPCAnX"
      }
    }
  ]
}