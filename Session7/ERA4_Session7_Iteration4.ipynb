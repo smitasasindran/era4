{
  "nbformat": 4,
  "nbformat_minor": 0,
  "metadata": {
    "colab": {
      "provenance": [],
      "gpuType": "T4",
      "authorship_tag": "ABX9TyNZBbFkIfLBm2Rj59JOA9N0",
      "include_colab_link": true
    },
    "kernelspec": {
      "name": "python3",
      "display_name": "Python 3"
    },
    "language_info": {
      "name": "python"
    },
    "accelerator": "GPU"
  },
  "cells": [
    {
      "cell_type": "markdown",
      "metadata": {
        "id": "view-in-github",
        "colab_type": "text"
      },
      "source": [
        "<a href=\"https://colab.research.google.com/github/smitasasindran/era4/blob/session7/Session7/ERA4_Session7_Iteration4.ipynb\" target=\"_parent\"><img src=\"https://colab.research.google.com/assets/colab-badge.svg\" alt=\"Open In Colab\"/></a>"
      ]
    },
    {
      "cell_type": "markdown",
      "source": [
        "Adding albumentations transformations\n",
        "\n",
        "\n",
        "\n"
      ],
      "metadata": {
        "id": "rsCOzvCUVMZ4"
      }
    },
    {
      "cell_type": "markdown",
      "source": [
        "## Import Libraries"
      ],
      "metadata": {
        "id": "pK5d6qRLiTCW"
      }
    },
    {
      "cell_type": "code",
      "execution_count": null,
      "metadata": {
        "id": "fO1P1pMj_25I"
      },
      "outputs": [],
      "source": [
        "from __future__ import print_function\n",
        "import torch\n",
        "import torch.nn as nn\n",
        "import torch.nn.functional as F\n",
        "import torch.optim as optim\n",
        "import torchvision\n",
        "from torchvision import datasets, transforms\n",
        "import numpy as np\n"
      ]
    },
    {
      "cell_type": "code",
      "source": [
        "!pip install albumentations\n",
        "import albumentations as A\n",
        "from albumentations.pytorch import ToTensorV2"
      ],
      "metadata": {
        "colab": {
          "base_uri": "https://localhost:8080/"
        },
        "id": "ZfJHewqf1cf2",
        "outputId": "7c03445f-b6b5-442e-e027-4bbc77563e05"
      },
      "execution_count": null,
      "outputs": [
        {
          "output_type": "stream",
          "name": "stdout",
          "text": [
            "Requirement already satisfied: albumentations in /usr/local/lib/python3.12/dist-packages (2.0.8)\n",
            "Requirement already satisfied: numpy>=1.24.4 in /usr/local/lib/python3.12/dist-packages (from albumentations) (2.0.2)\n",
            "Requirement already satisfied: scipy>=1.10.0 in /usr/local/lib/python3.12/dist-packages (from albumentations) (1.16.2)\n",
            "Requirement already satisfied: PyYAML in /usr/local/lib/python3.12/dist-packages (from albumentations) (6.0.3)\n",
            "Requirement already satisfied: pydantic>=2.9.2 in /usr/local/lib/python3.12/dist-packages (from albumentations) (2.11.9)\n",
            "Requirement already satisfied: albucore==0.0.24 in /usr/local/lib/python3.12/dist-packages (from albumentations) (0.0.24)\n",
            "Requirement already satisfied: opencv-python-headless>=4.9.0.80 in /usr/local/lib/python3.12/dist-packages (from albumentations) (4.12.0.88)\n",
            "Requirement already satisfied: stringzilla>=3.10.4 in /usr/local/lib/python3.12/dist-packages (from albucore==0.0.24->albumentations) (4.0.15)\n",
            "Requirement already satisfied: simsimd>=5.9.2 in /usr/local/lib/python3.12/dist-packages (from albucore==0.0.24->albumentations) (6.5.3)\n",
            "Requirement already satisfied: annotated-types>=0.6.0 in /usr/local/lib/python3.12/dist-packages (from pydantic>=2.9.2->albumentations) (0.7.0)\n",
            "Requirement already satisfied: pydantic-core==2.33.2 in /usr/local/lib/python3.12/dist-packages (from pydantic>=2.9.2->albumentations) (2.33.2)\n",
            "Requirement already satisfied: typing-extensions>=4.12.2 in /usr/local/lib/python3.12/dist-packages (from pydantic>=2.9.2->albumentations) (4.15.0)\n",
            "Requirement already satisfied: typing-inspection>=0.4.0 in /usr/local/lib/python3.12/dist-packages (from pydantic>=2.9.2->albumentations) (0.4.2)\n"
          ]
        }
      ]
    },
    {
      "cell_type": "markdown",
      "source": [
        "## Data Transformations"
      ],
      "metadata": {
        "id": "iaa0I3sLiZ7Z"
      }
    },
    {
      "cell_type": "code",
      "source": [
        "\n",
        "train_transforms = A.Compose([\n",
        "        A.HorizontalFlip(p=0.5),\n",
        "        A.ShiftScaleRotate(shift_limit=0.0625, scale_limit=0.1, rotate_limit=10, p=0.5),\n",
        "        # A.RandomBrightnessContrast(p=0.5),\n",
        "        A.CoarseDropout(p=0.5, max_holes=1, max_height=16, max_width=16, min_holes=1, min_height=16, min_width=16,\n",
        "                        fill_value=(0.4914, 0.4822, 0.4465), mask_fill_value = None),\n",
        "        A.Normalize(mean=(0.4914, 0.4822, 0.4465), std=(0.2471, 0.2435, 0.2616)), # CIFAR-10 mean/std\n",
        "        ToTensorV2(),\n",
        "    ])\n",
        "\n",
        "test_transforms = A.Compose([\n",
        "    A.Normalize(mean=(0.4914, 0.4822, 0.4465), std=(0.2471, 0.2435, 0.2616)),\n",
        "    ToTensorV2(),\n",
        "])\n"
      ],
      "metadata": {
        "id": "agpFOdEpieW-",
        "colab": {
          "base_uri": "https://localhost:8080/"
        },
        "outputId": "7d3664ba-6e5c-4652-f29c-81d76957cc9d"
      },
      "execution_count": null,
      "outputs": [
        {
          "output_type": "stream",
          "name": "stderr",
          "text": [
            "/usr/local/lib/python3.12/dist-packages/albumentations/core/validation.py:114: UserWarning: ShiftScaleRotate is a special case of Affine transform. Please use Affine transform instead.\n",
            "  original_init(self, **validated_kwargs)\n",
            "/tmp/ipython-input-4017075348.py:5: UserWarning: Argument(s) 'max_holes, max_height, max_width, min_holes, min_height, min_width, fill_value, mask_fill_value' are not valid for transform CoarseDropout\n",
            "  A.CoarseDropout(p=0.5, max_holes=1, max_height=16, max_width=16, min_holes=1, min_height=16, min_width=16,\n"
          ]
        }
      ]
    },
    {
      "cell_type": "markdown",
      "source": [
        "## Creating new dataset class"
      ],
      "metadata": {
        "id": "x7LnExbAa5iN"
      }
    },
    {
      "cell_type": "code",
      "source": [
        "from torch.utils.data import Dataset\n",
        "\n",
        "class CIFAR10Albumentations(Dataset):\n",
        "    def __init__(self, root, train=True, download=True, transform=None):\n",
        "        self.cifar10 = datasets.CIFAR10(root=root, train=train, download=download)\n",
        "        self.transform = transform\n",
        "\n",
        "    def __len__(self):\n",
        "        return len(self.cifar10)\n",
        "\n",
        "    def __getitem__(self, idx):\n",
        "        image, label = self.cifar10[idx]\n",
        "        # Albumentations expects NumPy arrays, so convert PIL Image\n",
        "        image = np.array(image)\n",
        "\n",
        "        if self.transform:\n",
        "            augmented = self.transform(image=image)\n",
        "            image = augmented['image']\n",
        "\n",
        "        return image, label"
      ],
      "metadata": {
        "id": "h9pBfhPta7-E"
      },
      "execution_count": null,
      "outputs": []
    },
    {
      "cell_type": "markdown",
      "source": [
        "## Dataset and Creating Train/Test Split\n"
      ],
      "metadata": {
        "id": "BoPZ5M41im-n"
      }
    },
    {
      "cell_type": "code",
      "source": [
        "# train = datasets.CIFAR10('./data', train=True, download=True, transform=train_transforms)\n",
        "# test = datasets.CIFAR10('./data', train=False, download=True, transform=test_transforms)\n",
        "\n",
        "train = CIFAR10Albumentations(root='./data', train=True, download=True, transform=train_transforms)\n",
        "test = CIFAR10Albumentations(root='./data', train=False, download=True, transform=test_transforms)"
      ],
      "metadata": {
        "id": "8VChR1PSitvl",
        "colab": {
          "base_uri": "https://localhost:8080/"
        },
        "outputId": "0056ce01-9359-4a13-9ee4-fa23a4652179"
      },
      "execution_count": null,
      "outputs": [
        {
          "output_type": "stream",
          "name": "stderr",
          "text": [
            "100%|██████████| 170M/170M [00:02<00:00, 70.4MB/s]\n"
          ]
        }
      ]
    },
    {
      "cell_type": "markdown",
      "source": [
        "# Dataloader Arguments & Test/Train Dataloaders"
      ],
      "metadata": {
        "id": "hf8l8lYtjZbZ"
      }
    },
    {
      "cell_type": "code",
      "source": [
        "SEED = 1\n",
        "\n",
        "# CUDA?\n",
        "cuda = torch.cuda.is_available()\n",
        "print(\"CUDA Available?\", cuda)\n",
        "\n",
        "# For reproducibility\n",
        "torch.manual_seed(SEED)\n",
        "\n",
        "if cuda:\n",
        "    torch.cuda.manual_seed(SEED)\n",
        "\n",
        "batch_size = 512#256\n",
        "cpu_batch_size = 128#64\n",
        "# dataloader arguments - something you'll fetch these from cmdprmt\n",
        "dataloader_args = dict(shuffle=True, batch_size=batch_size, num_workers=4, pin_memory=True) if cuda else dict(shuffle=True, batch_size=cpu_batch_size)\n",
        "\n",
        "# train dataloader\n",
        "train_loader = torch.utils.data.DataLoader(train, **dataloader_args)\n",
        "\n",
        "# test dataloader\n",
        "test_loader = torch.utils.data.DataLoader(test, **dataloader_args)"
      ],
      "metadata": {
        "colab": {
          "base_uri": "https://localhost:8080/"
        },
        "id": "JP3hQ7S4jfwp",
        "outputId": "9ed03181-a279-4ace-c804-cb8413c57002"
      },
      "execution_count": null,
      "outputs": [
        {
          "output_type": "stream",
          "name": "stdout",
          "text": [
            "CUDA Available? True\n"
          ]
        },
        {
          "output_type": "stream",
          "name": "stderr",
          "text": [
            "/usr/local/lib/python3.12/dist-packages/torch/utils/data/dataloader.py:627: UserWarning: This DataLoader will create 4 worker processes in total. Our suggested max number of worker in current system is 2, which is smaller than what this DataLoader is going to create. Please be aware that excessive worker creation might get DataLoader running slow or even freeze, lower the worker number to avoid potential slowness/freeze if necessary.\n",
            "  warnings.warn(\n"
          ]
        }
      ]
    },
    {
      "cell_type": "markdown",
      "source": [
        "## Data Statistics"
      ],
      "metadata": {
        "id": "h4hB7FDaju3h"
      }
    },
    {
      "cell_type": "code",
      "source": [
        "# Check some images\n",
        "\n",
        "dataiter = iter(train_loader)\n",
        "images, labels = next(dataiter)\n",
        "\n",
        "print(images.shape)\n",
        "print(labels.shape)\n",
        "\n",
        "# Let's visualize some of the images\n",
        "%matplotlib inline\n",
        "import matplotlib.pyplot as plt\n",
        "\n",
        "# img = np.moveaxis(images[0].numpy(), 0, -1)\n",
        "# plt.imshow(img)\n",
        "\n",
        "def imshow(img):\n",
        "        img = img / 2 + 0.5  # Unnormalize\n",
        "        npimg = img.numpy()\n",
        "        plt.imshow(np.transpose(npimg, (1, 2, 0)))\n",
        "        plt.show()\n",
        "\n",
        "\n",
        "classes = ('plane', 'car', 'bird', 'cat', 'deer', 'dog', 'frog', 'horse', 'ship', 'truck')\n",
        "\n",
        "# Show images\n",
        "imshow(torchvision.utils.make_grid(images))\n",
        "\n",
        "# Print labels\n",
        "print(' '.join(f'{classes[labels[j]]:5s}' for j in range(len(labels))))\n",
        "\n",
        "\n",
        "\n",
        "# figure = plt.figure()\n",
        "# num_of_images = 60\n",
        "# for index in range(1, num_of_images + 1):\n",
        "#     plt.subplot(6, 10, index)\n",
        "#     plt.axis('off')\n",
        "#     plt.imshow(images[index].numpy().squeeze(), cmap='gray_r')"
      ],
      "metadata": {
        "colab": {
          "base_uri": "https://localhost:8080/",
          "height": 527
        },
        "id": "Kt0N6RASjwdX",
        "outputId": "97694371-bb04-4e78-a2f2-6140c62ffdce"
      },
      "execution_count": null,
      "outputs": [
        {
          "output_type": "stream",
          "name": "stdout",
          "text": [
            "torch.Size([512, 3, 32, 32])\n",
            "torch.Size([512])\n"
          ]
        },
        {
          "output_type": "stream",
          "name": "stderr",
          "text": [
            "WARNING:matplotlib.image:Clipping input data to the valid range for imshow with RGB data ([0..1] for floats or [0..255] for integers). Got range [-0.49433434..1.5632445].\n"
          ]
        },
        {
          "output_type": "display_data",
          "data": {
            "text/plain": [
              "<Figure size 640x480 with 1 Axes>"
            ],
            "image/png": "[encoded data removed]"
          },
          "metadata": {}
        },
        {
          "output_type": "stream",
          "name": "stdout",
          "text": [
            "ship  bird  cat   dog   bird  truck truck plane plane ship  truck frog  bird  bird  dog   frog  ship  deer  horse truck horse horse dog   cat   cat   truck ship  plane car   truck frog  frog  bird  deer  frog  plane deer  truck car   car   horse cat   deer  ship  truck plane frog  ship  plane cat   bird  bird  frog  frog  plane truck cat   bird  ship  bird  bird  deer  bird  frog  ship  deer  deer  truck truck deer  horse cat   dog   truck truck dog   deer  car   dog   car   dog   dog   deer  truck bird  frog  ship  dog   ship  dog   frog  ship  car   dog   car   horse ship  frog  deer  deer  ship  cat   cat   frog  horse ship  horse car   car   truck bird  bird  dog   ship  truck cat   ship  deer  deer  dog   car   ship  dog   horse deer  cat   deer  car   dog   plane bird  truck cat   cat   cat   ship  horse frog  plane dog   bird  truck frog  dog   car   car   horse plane truck cat   bird  car   cat   car   deer  car   ship  horse plane frog  dog   truck deer  bird  car   deer  horse dog   horse frog  frog  car   car   dog   horse bird  horse ship  car   cat   truck horse car   ship  dog   car   frog  dog   cat   ship  bird  horse deer  plane car   horse plane dog   bird  bird  deer  cat   truck truck deer  car   frog  truck car   plane bird  horse frog  deer  dog   plane ship  plane frog  truck horse truck dog   plane ship  ship  cat   bird  dog   bird  deer  bird  truck dog   plane car   plane bird  car   horse car   dog   car   deer  bird  frog  deer  cat   deer  cat   bird  horse plane deer  deer  bird  horse ship  plane truck bird  car   bird  bird  truck dog   deer  bird  frog  cat   ship  bird  dog   ship  plane horse frog  dog   cat   cat   horse cat   deer  dog   frog  horse truck bird  deer  plane horse bird  horse deer  car   bird  bird  deer  truck deer  plane plane horse car   dog   deer  frog  horse deer  car   plane ship  horse ship  frog  cat   ship  frog  deer  plane horse deer  deer  deer  ship  plane plane car   truck cat   frog  plane ship  car   deer  horse horse car   frog  deer  bird  ship  horse horse plane truck cat   frog  ship  car   truck ship  dog   horse deer  frog  car   cat   deer  frog  deer  ship  frog  deer  ship  ship  cat   plane bird  horse frog  ship  dog   cat   truck bird  cat   truck horse bird  plane car   frog  plane car   plane horse frog  horse cat   frog  car   ship  frog  bird  deer  bird  car   frog  frog  car   car   car   plane bird  ship  cat   cat   horse deer  plane ship  dog   horse car   truck deer  deer  horse plane cat   horse horse bird  car   truck ship  deer  bird  frog  frog  plane truck bird  truck truck car   deer  cat   cat   bird  frog  deer  dog   truck horse deer  car   bird  truck plane dog   truck ship  frog  horse plane dog   frog  bird  truck car   dog   ship  car   bird  car   horse dog   car   horse frog  frog  cat   horse bird  ship  deer  bird  truck plane deer  horse deer  frog  deer  dog   bird  frog  cat   ship  horse dog   bird  truck dog   deer  truck horse deer  dog   cat   ship  plane truck frog  dog   frog  cat   dog   deer  ship \n"
          ]
        }
      ]
    },
    {
      "cell_type": "markdown",
      "source": [
        "## Define the model"
      ],
      "metadata": {
        "id": "DXhsTL8EvUSk"
      }
    },
    {
      "cell_type": "code",
      "source": [
        "#https://github.com/seungjunlee96/Depthwise-Separable-Convolution_Pytorch\n",
        "def depthwise_separable_layer(nin, nout, dropout_value, padding=0):\n",
        "    depthwise = nn.Conv2d(nin, nin, kernel_size=3, padding=padding, groups=nin, bias=False)\n",
        "    pointwise = nn.Conv2d(nin, nout, kernel_size=1, bias=False)\n",
        "\n",
        "    depthwise_separable = nn.Sequential(\n",
        "        depthwise,\n",
        "        nn.ReLU(),\n",
        "        nn.BatchNorm2d(nin),\n",
        "        nn.Dropout(dropout_value),\n",
        "        pointwise,\n",
        "        nn.ReLU(),\n",
        "        nn.BatchNorm2d(nout),\n",
        "        nn.Dropout(dropout_value)\n",
        "    )\n",
        "    return depthwise_separable\n"
      ],
      "metadata": {
        "id": "2tW240dvgurU"
      },
      "execution_count": null,
      "outputs": []
    },
    {
      "cell_type": "code",
      "source": [
        "# updated -- more kernels\n",
        "\n",
        "dropout_value = 0.1\n",
        "\n",
        "class Net(nn.Module):\n",
        "\n",
        "    def __init__(self):\n",
        "        super(Net, self).__init__()\n",
        "\n",
        "        # Conv Block 1\n",
        "        self.conv1 = nn.Sequential(\n",
        "            nn.Conv2d(in_channels=3, out_channels=16, kernel_size=(3, 3), padding=1, bias=False),\n",
        "            nn.ReLU(),\n",
        "            nn.BatchNorm2d(16),\n",
        "            nn.Dropout(dropout_value)\n",
        "        ) # output_size = 32, rf=3\n",
        "\n",
        "        self.conv2 = nn.Sequential(\n",
        "            nn.Conv2d(in_channels=16, out_channels=32, kernel_size=(3, 3), padding=1, bias=False),\n",
        "            nn.ReLU(),\n",
        "            nn.BatchNorm2d(32),\n",
        "            nn.Dropout(dropout_value)\n",
        "        ) # output_size = 32, rf=5\n",
        "\n",
        "        self.conv3 = nn.Sequential(\n",
        "            nn.Conv2d(in_channels=32, out_channels=32, kernel_size=(3, 3), padding=1, bias=False),\n",
        "            nn.ReLU(),\n",
        "            nn.BatchNorm2d(32),\n",
        "            nn.Dropout(dropout_value)\n",
        "        ) # output_size = 32, rf=7\n",
        "\n",
        "        # transition 1 - use stride2 instead of MP\n",
        "        self.conv4 = nn.Sequential(\n",
        "            nn.Conv2d(in_channels=32, out_channels=64, kernel_size=(3, 3), padding=0, stride=2, bias=False),\n",
        "            nn.ReLU(),\n",
        "            nn.BatchNorm2d(64),\n",
        "            nn.Dropout(dropout_value)\n",
        "        ) # output_size = 15, rf=9\n",
        "        self.conv5 = nn.Sequential(\n",
        "            nn.Conv2d(in_channels=64, out_channels=16, kernel_size=(1, 1), padding=0, bias=False),\n",
        "            nn.ReLU(),\n",
        "            nn.BatchNorm2d(16),\n",
        "            nn.Dropout(dropout_value)\n",
        "        ) # output_size = 15, rf=9\n",
        "\n",
        "        # Conv Block 2 -------------------\n",
        "        self.conv6 = nn.Sequential( # padding\n",
        "            nn.Conv2d(in_channels=16, out_channels=32, kernel_size=(3, 3), padding=1, bias=False),\n",
        "            nn.ReLU(),\n",
        "            nn.BatchNorm2d(32),\n",
        "            nn.Dropout(dropout_value)\n",
        "        ) # output_size = 15, rf=13 (jump2)\n",
        "\n",
        "        self.conv7 = nn.Sequential(\n",
        "            nn.Conv2d(in_channels=32, out_channels=32, kernel_size=(3, 3), padding=1, bias=False),\n",
        "            nn.ReLU(),\n",
        "            nn.BatchNorm2d(32),\n",
        "            nn.Dropout(dropout_value)\n",
        "        ) # output_size = 15, rf=17\n",
        "\n",
        "        self.conv8 = nn.Sequential(\n",
        "            nn.Conv2d(in_channels=32, out_channels=64, kernel_size=(3, 3), padding=1, bias=False),\n",
        "            nn.ReLU(),\n",
        "            nn.BatchNorm2d(64),\n",
        "            nn.Dropout(dropout_value)\n",
        "        ) # output_size = 15, rf=21\n",
        "\n",
        "        # Transition 2 --\n",
        "        self.conv9 = nn.Sequential(\n",
        "            nn.Conv2d(in_channels=64, out_channels=16, kernel_size=(1, 1), padding=0, bias=False),\n",
        "            nn.ReLU(),\n",
        "            nn.BatchNorm2d(16),\n",
        "            nn.Dropout(dropout_value)\n",
        "        ) # output_size = 15, rf=21\n",
        "\n",
        "\n",
        "        # Conv Block 3 ---------------------\n",
        "        self.conv10 = nn.Sequential( # padding\n",
        "            nn.Conv2d(in_channels=16, out_channels=32, kernel_size=(3, 3), padding=1, bias=False),\n",
        "            nn.ReLU(),\n",
        "            nn.BatchNorm2d(32),\n",
        "            nn.Dropout(dropout_value)\n",
        "        ) # output_size = 15, rf=25\n",
        "\n",
        "        self.conv11 = nn.Sequential(\n",
        "            nn.Conv2d(in_channels=32, out_channels=32, kernel_size=(3, 3), padding=0, bias=False),\n",
        "            nn.ReLU(),\n",
        "            nn.BatchNorm2d(32),\n",
        "            nn.Dropout(dropout_value)\n",
        "        ) # output_size = 13, rf=29\n",
        "\n",
        "        # self.conv12 = nn.Sequential(\n",
        "        #     nn.Conv2d(in_channels=32, out_channels=32, kernel_size=(3, 3), padding=0, bias=False),\n",
        "        #     nn.ReLU(),\n",
        "        #     nn.BatchNorm2d(32),\n",
        "        #     nn.Dropout(dropout_value)\n",
        "        # ) # output_size = 11, rf=33\n",
        "        self.conv12 = depthwise_separable_layer(32, 64, dropout_value, padding=0) # output_size=11, rf=33\n",
        "\n",
        "        # transition 3\n",
        "        self.conv13 = nn.Sequential(\n",
        "            nn.Conv2d(in_channels=64, out_channels=16, kernel_size=(1, 1), padding=0, bias=False),\n",
        "            nn.ReLU(),\n",
        "            nn.BatchNorm2d(16),\n",
        "            nn.Dropout(dropout_value)\n",
        "        ) # output_size = 11, rf=33\n",
        "\n",
        "        # Conv Block 4 - with dilation\n",
        "        self.conv14 = nn.Sequential( # Dilation\n",
        "            nn.Conv2d(in_channels=16, out_channels=32, kernel_size=(3, 3), padding=0, dilation=2, bias=False),\n",
        "            nn.ReLU(),\n",
        "            nn.BatchNorm2d(32),\n",
        "            nn.Dropout(dropout_value)\n",
        "        ) # output_size = 7, rf=41 # dilation\n",
        "\n",
        "        self.conv15 = nn.Sequential(\n",
        "            nn.Conv2d(in_channels=32, out_channels=32, kernel_size=(3, 3), padding=0, bias=False),\n",
        "            nn.ReLU(),\n",
        "            nn.BatchNorm2d(32),\n",
        "            nn.Dropout(dropout_value)\n",
        "        ) # output_size = 5, rf=45\n",
        "\n",
        "        # self.conv16 = nn.Sequential(\n",
        "        #     nn.Conv2d(in_channels=32, out_channels=64, kernel_size=(3, 3), padding=0, bias=False),\n",
        "        #     nn.ReLU(),\n",
        "        #     nn.BatchNorm2d(64),\n",
        "        #     nn.Dropout(dropout_value)\n",
        "        # ) # output_size = 6\n",
        "\n",
        "\n",
        "        # Output\n",
        "        self.gap = nn.Sequential(\n",
        "            nn.AvgPool2d(kernel_size=5)\n",
        "        ) # output_size = 5\n",
        "\n",
        "        self.conv17 = nn.Sequential(\n",
        "            nn.Conv2d(in_channels=32, out_channels=10, kernel_size=(1, 1), padding=0, bias=False),\n",
        "            # nn.BatchNorm2d(10),\n",
        "            # nn.Dropout(dropout_value)\n",
        "            # nn.ReLU()\n",
        "        ) # output_size = 10, rf=45\n",
        "\n",
        "\n",
        "\n",
        "    def forward(self, x):\n",
        "        # block1\n",
        "        x = self.conv1(x)\n",
        "        x = self.conv2(x)\n",
        "        x = self.conv3(x)\n",
        "        x = self.conv4(x) # stride 2\n",
        "        # print(f\"conv4 out: {x.shape}\")\n",
        "\n",
        "        # block2\n",
        "        x = self.conv5(x)\n",
        "        x = self.conv6(x)\n",
        "        x = self.conv7(x)\n",
        "        x = self.conv8(x)\n",
        "\n",
        "        # block3\n",
        "        x = self.conv9(x)\n",
        "        x = self.conv10(x)\n",
        "        x = self.conv11(x)\n",
        "        x = self.conv12(x)\n",
        "\n",
        "        # block4\n",
        "        x = self.conv13(x)\n",
        "        x = self.conv14(x)\n",
        "        x = self.conv15(x)\n",
        "        # x = self.conv16(x)\n",
        "        # print(f\"conv15 out: {x.shape}\")\n",
        "\n",
        "        # Output\n",
        "        x = self.gap(x)\n",
        "        x = self.conv17(x)\n",
        "        x = x.view(-1, 10)\n",
        "\n",
        "        return F.log_softmax(x, dim=-1)\n",
        "\n",
        "\n"
      ],
      "metadata": {
        "id": "oVfXfnOopeAB"
      },
      "execution_count": null,
      "outputs": []
    },
    {
      "cell_type": "markdown",
      "source": [
        "## Model Summary"
      ],
      "metadata": {
        "id": "rBIyNSoH9VFC"
      }
    },
    {
      "cell_type": "code",
      "source": [
        "!pip install torchsummary\n",
        "from torchsummary import summary\n",
        "use_cuda = torch.cuda.is_available()\n",
        "device = torch.device(\"cuda\" if use_cuda else \"cpu\")\n",
        "print(device)\n",
        "model = Net().to(device)\n",
        "summary(model, input_size=(3, 32, 32))"
      ],
      "metadata": {
        "colab": {
          "base_uri": "https://localhost:8080/"
        },
        "id": "tQSCBU4F9WoN",
        "outputId": "985d5243-f9e9-4b87-d9c3-176e4130162d"
      },
      "execution_count": null,
      "outputs": [
        {
          "output_type": "stream",
          "name": "stdout",
          "text": [
            "Requirement already satisfied: torchsummary in /usr/local/lib/python3.12/dist-packages (1.5.1)\n",
            "cuda\n",
            "----------------------------------------------------------------\n",
            "        Layer (type)               Output Shape         Param #\n",
            "================================================================\n",
            "            Conv2d-1           [-1, 16, 32, 32]             432\n",
            "              ReLU-2           [-1, 16, 32, 32]               0\n",
            "       BatchNorm2d-3           [-1, 16, 32, 32]              32\n",
            "           Dropout-4           [-1, 16, 32, 32]               0\n",
            "            Conv2d-5           [-1, 32, 32, 32]           4,608\n",
            "              ReLU-6           [-1, 32, 32, 32]               0\n",
            "       BatchNorm2d-7           [-1, 32, 32, 32]              64\n",
            "           Dropout-8           [-1, 32, 32, 32]               0\n",
            "            Conv2d-9           [-1, 32, 32, 32]           9,216\n",
            "             ReLU-10           [-1, 32, 32, 32]               0\n",
            "      BatchNorm2d-11           [-1, 32, 32, 32]              64\n",
            "          Dropout-12           [-1, 32, 32, 32]               0\n",
            "           Conv2d-13           [-1, 64, 15, 15]          18,432\n",
            "             ReLU-14           [-1, 64, 15, 15]               0\n",
            "      BatchNorm2d-15           [-1, 64, 15, 15]             128\n",
            "          Dropout-16           [-1, 64, 15, 15]               0\n",
            "           Conv2d-17           [-1, 16, 15, 15]           1,024\n",
            "             ReLU-18           [-1, 16, 15, 15]               0\n",
            "      BatchNorm2d-19           [-1, 16, 15, 15]              32\n",
            "          Dropout-20           [-1, 16, 15, 15]               0\n",
            "           Conv2d-21           [-1, 32, 15, 15]           4,608\n",
            "             ReLU-22           [-1, 32, 15, 15]               0\n",
            "      BatchNorm2d-23           [-1, 32, 15, 15]              64\n",
            "          Dropout-24           [-1, 32, 15, 15]               0\n",
            "           Conv2d-25           [-1, 32, 15, 15]           9,216\n",
            "             ReLU-26           [-1, 32, 15, 15]               0\n",
            "      BatchNorm2d-27           [-1, 32, 15, 15]              64\n",
            "          Dropout-28           [-1, 32, 15, 15]               0\n",
            "           Conv2d-29           [-1, 64, 15, 15]          18,432\n",
            "             ReLU-30           [-1, 64, 15, 15]               0\n",
            "      BatchNorm2d-31           [-1, 64, 15, 15]             128\n",
            "          Dropout-32           [-1, 64, 15, 15]               0\n",
            "           Conv2d-33           [-1, 16, 15, 15]           1,024\n",
            "             ReLU-34           [-1, 16, 15, 15]               0\n",
            "      BatchNorm2d-35           [-1, 16, 15, 15]              32\n",
            "          Dropout-36           [-1, 16, 15, 15]               0\n",
            "           Conv2d-37           [-1, 32, 15, 15]           4,608\n",
            "             ReLU-38           [-1, 32, 15, 15]               0\n",
            "      BatchNorm2d-39           [-1, 32, 15, 15]              64\n",
            "          Dropout-40           [-1, 32, 15, 15]               0\n",
            "           Conv2d-41           [-1, 32, 13, 13]           9,216\n",
            "             ReLU-42           [-1, 32, 13, 13]               0\n",
            "      BatchNorm2d-43           [-1, 32, 13, 13]              64\n",
            "          Dropout-44           [-1, 32, 13, 13]               0\n",
            "           Conv2d-45           [-1, 32, 11, 11]             288\n",
            "             ReLU-46           [-1, 32, 11, 11]               0\n",
            "      BatchNorm2d-47           [-1, 32, 11, 11]              64\n",
            "          Dropout-48           [-1, 32, 11, 11]               0\n",
            "           Conv2d-49           [-1, 64, 11, 11]           2,048\n",
            "             ReLU-50           [-1, 64, 11, 11]               0\n",
            "      BatchNorm2d-51           [-1, 64, 11, 11]             128\n",
            "          Dropout-52           [-1, 64, 11, 11]               0\n",
            "           Conv2d-53           [-1, 16, 11, 11]           1,024\n",
            "             ReLU-54           [-1, 16, 11, 11]               0\n",
            "      BatchNorm2d-55           [-1, 16, 11, 11]              32\n",
            "          Dropout-56           [-1, 16, 11, 11]               0\n",
            "           Conv2d-57             [-1, 32, 7, 7]           4,608\n",
            "             ReLU-58             [-1, 32, 7, 7]               0\n",
            "      BatchNorm2d-59             [-1, 32, 7, 7]              64\n",
            "          Dropout-60             [-1, 32, 7, 7]               0\n",
            "           Conv2d-61             [-1, 32, 5, 5]           9,216\n",
            "             ReLU-62             [-1, 32, 5, 5]               0\n",
            "      BatchNorm2d-63             [-1, 32, 5, 5]              64\n",
            "          Dropout-64             [-1, 32, 5, 5]               0\n",
            "        AvgPool2d-65             [-1, 32, 1, 1]               0\n",
            "           Conv2d-66             [-1, 10, 1, 1]             320\n",
            "================================================================\n",
            "Total params: 99,408\n",
            "Trainable params: 99,408\n",
            "Non-trainable params: 0\n",
            "----------------------------------------------------------------\n",
            "Input size (MB): 0.01\n",
            "Forward/backward pass size (MB): 4.91\n",
            "Params size (MB): 0.38\n",
            "Estimated Total Size (MB): 5.30\n",
            "----------------------------------------------------------------\n"
          ]
        }
      ]
    },
    {
      "cell_type": "markdown",
      "source": [
        "## Train and Test loops"
      ],
      "metadata": {
        "id": "L_N1u-0o95pj"
      }
    },
    {
      "cell_type": "code",
      "source": [
        "from tqdm import tqdm\n",
        "\n",
        "train_losses = []\n",
        "test_losses = []\n",
        "train_acc = []\n",
        "test_acc = []\n",
        "\n",
        "def train(model, device, train_loader, optimizer, epoch):\n",
        "  model.train()\n",
        "  pbar = tqdm(train_loader)\n",
        "  correct = 0\n",
        "  processed = 0\n",
        "  for batch_idx, (data, target) in enumerate(pbar):\n",
        "    # get samples\n",
        "    data, target = data.to(device), target.to(device)\n",
        "\n",
        "    # Init\n",
        "    optimizer.zero_grad()\n",
        "    # In PyTorch, we need to set the gradients to zero before starting to do backpropragation because PyTorch accumulates the gradients on subsequent backward passes.\n",
        "    # Because of this, when you start your training loop, ideally you should zero out the gradients so that you do the parameter update correctly.\n",
        "\n",
        "    # Predict\n",
        "    y_pred = model(data)\n",
        "\n",
        "    # Calculate loss\n",
        "    loss = F.nll_loss(y_pred, target)\n",
        "    train_losses.append(loss)\n",
        "\n",
        "    # Backpropagation\n",
        "    loss.backward()\n",
        "    optimizer.step()\n",
        "\n",
        "    # Update pbar-tqdm\n",
        "\n",
        "    pred = y_pred.argmax(dim=1, keepdim=True)  # get the index of the max log-probability\n",
        "    correct += pred.eq(target.view_as(pred)).sum().item()\n",
        "    processed += len(data)\n",
        "\n",
        "    pbar.set_description(desc= f'Loss={loss.item()} Batch_id={batch_idx} Accuracy={100*correct/processed:0.2f}')\n",
        "    train_acc.append(100*correct/processed)\n",
        "\n",
        "def test(model, device, test_loader):\n",
        "    model.eval()\n",
        "    test_loss = 0\n",
        "    correct = 0\n",
        "    with torch.no_grad():\n",
        "        for data, target in test_loader:\n",
        "            data, target = data.to(device), target.to(device)\n",
        "            output = model(data)\n",
        "            test_loss += F.nll_loss(output, target, reduction='sum').item()  # sum up batch loss\n",
        "            pred = output.argmax(dim=1, keepdim=True)  # get the index of the max log-probability\n",
        "            correct += pred.eq(target.view_as(pred)).sum().item()\n",
        "\n",
        "    test_loss /= len(test_loader.dataset)\n",
        "    test_losses.append(test_loss)\n",
        "\n",
        "    print('\\nTest set: Average loss: {:.4f}, Accuracy: {}/{} ({:.2f}%)\\n'.format(\n",
        "        test_loss, correct, len(test_loader.dataset),\n",
        "        100. * correct / len(test_loader.dataset)))\n",
        "\n",
        "    test_acc.append(100. * correct / len(test_loader.dataset))"
      ],
      "metadata": {
        "id": "CVbf46QZ98AN"
      },
      "execution_count": null,
      "outputs": []
    },
    {
      "cell_type": "markdown",
      "source": [
        "## Training"
      ],
      "metadata": {
        "id": "RIpVScWe-CG2"
      }
    },
    {
      "cell_type": "code",
      "source": [
        "model =  Net().to(device)\n",
        "optimizer = optim.SGD(model.parameters(), lr=0.01, momentum=0.9)\n",
        "EPOCHS = 100\n",
        "for epoch in range(EPOCHS):\n",
        "    print(\"EPOCH:\", epoch)\n",
        "    train(model, device, train_loader, optimizer, epoch)\n",
        "    test(model, device, test_loader)"
      ],
      "metadata": {
        "colab": {
          "base_uri": "https://localhost:8080/"
        },
        "id": "J2DhJyWj-HHh",
        "outputId": "923c0524-1010-4068-fcd9-5b1f0edb81de"
      },
      "execution_count": null,
      "outputs": [
        {
          "output_type": "stream",
          "name": "stdout",
          "text": [
            "EPOCH: 0\n"
          ]
        },
        {
          "output_type": "stream",
          "name": "stderr",
          "text": [
            "Loss=1.753972053527832 Batch_id=97 Accuracy=23.86: 100%|██████████| 98/98 [00:28<00:00,  3.43it/s]\n"
          ]
        },
        {
          "output_type": "stream",
          "name": "stdout",
          "text": [
            "\n",
            "Test set: Average loss: 1.9009, Accuracy: 2927/10000 (29.27%)\n",
            "\n",
            "EPOCH: 1\n"
          ]
        },
        {
          "output_type": "stream",
          "name": "stderr",
          "text": [
            "Loss=1.5241597890853882 Batch_id=97 Accuracy=38.33: 100%|██████████| 98/98 [00:19<00:00,  4.93it/s]\n"
          ]
        },
        {
          "output_type": "stream",
          "name": "stdout",
          "text": [
            "\n",
            "Test set: Average loss: 1.4756, Accuracy: 4529/10000 (45.29%)\n",
            "\n",
            "EPOCH: 2\n"
          ]
        },
        {
          "output_type": "stream",
          "name": "stderr",
          "text": [
            "Loss=1.3967534303665161 Batch_id=97 Accuracy=46.10: 100%|██████████| 98/98 [00:21<00:00,  4.50it/s]\n"
          ]
        },
        {
          "output_type": "stream",
          "name": "stdout",
          "text": [
            "\n",
            "Test set: Average loss: 1.3916, Accuracy: 4877/10000 (48.77%)\n",
            "\n",
            "EPOCH: 3\n"
          ]
        },
        {
          "output_type": "stream",
          "name": "stderr",
          "text": [
            "Loss=1.2786712646484375 Batch_id=97 Accuracy=50.95: 100%|██████████| 98/98 [00:19<00:00,  5.02it/s]\n"
          ]
        },
        {
          "output_type": "stream",
          "name": "stdout",
          "text": [
            "\n",
            "Test set: Average loss: 1.3257, Accuracy: 5195/10000 (51.95%)\n",
            "\n",
            "EPOCH: 4\n"
          ]
        },
        {
          "output_type": "stream",
          "name": "stderr",
          "text": [
            "Loss=1.3564571142196655 Batch_id=97 Accuracy=54.62: 100%|██████████| 98/98 [00:19<00:00,  4.99it/s]\n"
          ]
        },
        {
          "output_type": "stream",
          "name": "stdout",
          "text": [
            "\n",
            "Test set: Average loss: 1.1884, Accuracy: 5688/10000 (56.88%)\n",
            "\n",
            "EPOCH: 5\n"
          ]
        },
        {
          "output_type": "stream",
          "name": "stderr",
          "text": [
            "Loss=1.1291052103042603 Batch_id=97 Accuracy=57.15: 100%|██████████| 98/98 [00:21<00:00,  4.65it/s]\n"
          ]
        },
        {
          "output_type": "stream",
          "name": "stdout",
          "text": [
            "\n",
            "Test set: Average loss: 1.0996, Accuracy: 6075/10000 (60.75%)\n",
            "\n",
            "EPOCH: 6\n"
          ]
        },
        {
          "output_type": "stream",
          "name": "stderr",
          "text": [
            "Loss=0.9947389960289001 Batch_id=97 Accuracy=59.81: 100%|██████████| 98/98 [00:20<00:00,  4.70it/s]\n"
          ]
        },
        {
          "output_type": "stream",
          "name": "stdout",
          "text": [
            "\n",
            "Test set: Average loss: 1.0500, Accuracy: 6328/10000 (63.28%)\n",
            "\n",
            "EPOCH: 7\n"
          ]
        },
        {
          "output_type": "stream",
          "name": "stderr",
          "text": [
            "Loss=0.8593252301216125 Batch_id=97 Accuracy=62.13: 100%|██████████| 98/98 [00:19<00:00,  5.00it/s]\n"
          ]
        },
        {
          "output_type": "stream",
          "name": "stdout",
          "text": [
            "\n",
            "Test set: Average loss: 0.9696, Accuracy: 6528/10000 (65.28%)\n",
            "\n",
            "EPOCH: 8\n"
          ]
        },
        {
          "output_type": "stream",
          "name": "stderr",
          "text": [
            "Loss=0.9313853979110718 Batch_id=97 Accuracy=63.50: 100%|██████████| 98/98 [00:20<00:00,  4.87it/s]\n"
          ]
        },
        {
          "output_type": "stream",
          "name": "stdout",
          "text": [
            "\n",
            "Test set: Average loss: 0.9222, Accuracy: 6739/10000 (67.39%)\n",
            "\n",
            "EPOCH: 9\n"
          ]
        },
        {
          "output_type": "stream",
          "name": "stderr",
          "text": [
            "Loss=0.9589013457298279 Batch_id=97 Accuracy=64.90: 100%|██████████| 98/98 [00:21<00:00,  4.51it/s]\n"
          ]
        },
        {
          "output_type": "stream",
          "name": "stdout",
          "text": [
            "\n",
            "Test set: Average loss: 0.9136, Accuracy: 6796/10000 (67.96%)\n",
            "\n",
            "EPOCH: 10\n"
          ]
        },
        {
          "output_type": "stream",
          "name": "stderr",
          "text": [
            "Loss=0.9210913777351379 Batch_id=97 Accuracy=66.32: 100%|██████████| 98/98 [00:20<00:00,  4.79it/s]\n"
          ]
        },
        {
          "output_type": "stream",
          "name": "stdout",
          "text": [
            "\n",
            "Test set: Average loss: 0.9012, Accuracy: 6885/10000 (68.85%)\n",
            "\n",
            "EPOCH: 11\n"
          ]
        },
        {
          "output_type": "stream",
          "name": "stderr",
          "text": [
            "Loss=0.9088644981384277 Batch_id=97 Accuracy=67.36: 100%|██████████| 98/98 [00:19<00:00,  4.98it/s]\n"
          ]
        },
        {
          "output_type": "stream",
          "name": "stdout",
          "text": [
            "\n",
            "Test set: Average loss: 0.8206, Accuracy: 7138/10000 (71.38%)\n",
            "\n",
            "EPOCH: 12\n"
          ]
        },
        {
          "output_type": "stream",
          "name": "stderr",
          "text": [
            "Loss=0.8398165702819824 Batch_id=97 Accuracy=68.67: 100%|██████████| 98/98 [00:20<00:00,  4.70it/s]\n"
          ]
        },
        {
          "output_type": "stream",
          "name": "stdout",
          "text": [
            "\n",
            "Test set: Average loss: 0.8257, Accuracy: 7092/10000 (70.92%)\n",
            "\n",
            "EPOCH: 13\n"
          ]
        },
        {
          "output_type": "stream",
          "name": "stderr",
          "text": [
            "Loss=0.8912279009819031 Batch_id=97 Accuracy=69.58: 100%|██████████| 98/98 [00:20<00:00,  4.73it/s]\n"
          ]
        },
        {
          "output_type": "stream",
          "name": "stdout",
          "text": [
            "\n",
            "Test set: Average loss: 0.8149, Accuracy: 7139/10000 (71.39%)\n",
            "\n",
            "EPOCH: 14\n"
          ]
        },
        {
          "output_type": "stream",
          "name": "stderr",
          "text": [
            "Loss=0.797156572341919 Batch_id=97 Accuracy=70.12: 100%|██████████| 98/98 [00:19<00:00,  5.01it/s]\n"
          ]
        },
        {
          "output_type": "stream",
          "name": "stdout",
          "text": [
            "\n",
            "Test set: Average loss: 0.7781, Accuracy: 7281/10000 (72.81%)\n",
            "\n",
            "EPOCH: 15\n"
          ]
        },
        {
          "output_type": "stream",
          "name": "stderr",
          "text": [
            "Loss=0.7209193706512451 Batch_id=97 Accuracy=70.87: 100%|██████████| 98/98 [00:20<00:00,  4.84it/s]\n"
          ]
        },
        {
          "output_type": "stream",
          "name": "stdout",
          "text": [
            "\n",
            "Test set: Average loss: 0.7706, Accuracy: 7327/10000 (73.27%)\n",
            "\n",
            "EPOCH: 16\n"
          ]
        },
        {
          "output_type": "stream",
          "name": "stderr",
          "text": [
            "Loss=0.8685701489448547 Batch_id=97 Accuracy=71.86: 100%|██████████| 98/98 [00:22<00:00,  4.42it/s]\n"
          ]
        },
        {
          "output_type": "stream",
          "name": "stdout",
          "text": [
            "\n",
            "Test set: Average loss: 0.7523, Accuracy: 7400/10000 (74.00%)\n",
            "\n",
            "EPOCH: 17\n"
          ]
        },
        {
          "output_type": "stream",
          "name": "stderr",
          "text": [
            "Loss=0.8573058843612671 Batch_id=97 Accuracy=72.41: 100%|██████████| 98/98 [00:21<00:00,  4.63it/s]\n"
          ]
        },
        {
          "output_type": "stream",
          "name": "stdout",
          "text": [
            "\n",
            "Test set: Average loss: 0.7218, Accuracy: 7521/10000 (75.21%)\n",
            "\n",
            "EPOCH: 18\n"
          ]
        },
        {
          "output_type": "stream",
          "name": "stderr",
          "text": [
            "Loss=0.6808604001998901 Batch_id=97 Accuracy=73.08: 100%|██████████| 98/98 [00:19<00:00,  4.97it/s]\n"
          ]
        },
        {
          "output_type": "stream",
          "name": "stdout",
          "text": [
            "\n",
            "Test set: Average loss: 0.6989, Accuracy: 7593/10000 (75.93%)\n",
            "\n",
            "EPOCH: 19\n"
          ]
        },
        {
          "output_type": "stream",
          "name": "stderr",
          "text": [
            "Loss=0.7957997918128967 Batch_id=97 Accuracy=73.53: 100%|██████████| 98/98 [00:20<00:00,  4.81it/s]\n"
          ]
        },
        {
          "output_type": "stream",
          "name": "stdout",
          "text": [
            "\n",
            "Test set: Average loss: 0.6943, Accuracy: 7592/10000 (75.92%)\n",
            "\n",
            "EPOCH: 20\n"
          ]
        },
        {
          "output_type": "stream",
          "name": "stderr",
          "text": [
            "Loss=0.7392798662185669 Batch_id=97 Accuracy=73.90: 100%|██████████| 98/98 [00:20<00:00,  4.71it/s]\n"
          ]
        },
        {
          "output_type": "stream",
          "name": "stdout",
          "text": [
            "\n",
            "Test set: Average loss: 0.6891, Accuracy: 7630/10000 (76.30%)\n",
            "\n",
            "EPOCH: 21\n"
          ]
        },
        {
          "output_type": "stream",
          "name": "stderr",
          "text": [
            "Loss=0.7285904288291931 Batch_id=97 Accuracy=74.26: 100%|██████████| 98/98 [00:19<00:00,  4.92it/s]\n"
          ]
        },
        {
          "output_type": "stream",
          "name": "stdout",
          "text": [
            "\n",
            "Test set: Average loss: 0.6810, Accuracy: 7669/10000 (76.69%)\n",
            "\n",
            "EPOCH: 22\n"
          ]
        },
        {
          "output_type": "stream",
          "name": "stderr",
          "text": [
            "Loss=0.6903203725814819 Batch_id=97 Accuracy=74.96: 100%|██████████| 98/98 [00:19<00:00,  4.97it/s]\n"
          ]
        },
        {
          "output_type": "stream",
          "name": "stdout",
          "text": [
            "\n",
            "Test set: Average loss: 0.6524, Accuracy: 7767/10000 (77.67%)\n",
            "\n",
            "EPOCH: 23\n"
          ]
        },
        {
          "output_type": "stream",
          "name": "stderr",
          "text": [
            "Loss=0.7247782349586487 Batch_id=97 Accuracy=75.24: 100%|██████████| 98/98 [00:22<00:00,  4.44it/s]\n"
          ]
        },
        {
          "output_type": "stream",
          "name": "stdout",
          "text": [
            "\n",
            "Test set: Average loss: 0.6371, Accuracy: 7816/10000 (78.16%)\n",
            "\n",
            "EPOCH: 24\n"
          ]
        },
        {
          "output_type": "stream",
          "name": "stderr",
          "text": [
            "Loss=0.7504949569702148 Batch_id=97 Accuracy=75.74: 100%|██████████| 98/98 [00:20<00:00,  4.67it/s]\n"
          ]
        },
        {
          "output_type": "stream",
          "name": "stdout",
          "text": [
            "\n",
            "Test set: Average loss: 0.6305, Accuracy: 7808/10000 (78.08%)\n",
            "\n",
            "EPOCH: 25\n"
          ]
        },
        {
          "output_type": "stream",
          "name": "stderr",
          "text": [
            "Loss=0.8365539312362671 Batch_id=97 Accuracy=75.83: 100%|██████████| 98/98 [00:19<00:00,  4.97it/s]\n"
          ]
        },
        {
          "output_type": "stream",
          "name": "stdout",
          "text": [
            "\n",
            "Test set: Average loss: 0.6312, Accuracy: 7829/10000 (78.29%)\n",
            "\n",
            "EPOCH: 26\n"
          ]
        },
        {
          "output_type": "stream",
          "name": "stderr",
          "text": [
            "Loss=0.639457643032074 Batch_id=97 Accuracy=76.49: 100%|██████████| 98/98 [00:19<00:00,  4.93it/s]\n"
          ]
        },
        {
          "output_type": "stream",
          "name": "stdout",
          "text": [
            "\n",
            "Test set: Average loss: 0.6466, Accuracy: 7787/10000 (77.87%)\n",
            "\n",
            "EPOCH: 27\n"
          ]
        },
        {
          "output_type": "stream",
          "name": "stderr",
          "text": [
            "Loss=0.6695166826248169 Batch_id=97 Accuracy=76.58: 100%|██████████| 98/98 [00:21<00:00,  4.65it/s]\n"
          ]
        },
        {
          "output_type": "stream",
          "name": "stdout",
          "text": [
            "\n",
            "Test set: Average loss: 0.6195, Accuracy: 7887/10000 (78.87%)\n",
            "\n",
            "EPOCH: 28\n"
          ]
        },
        {
          "output_type": "stream",
          "name": "stderr",
          "text": [
            "Loss=0.682982325553894 Batch_id=97 Accuracy=76.91: 100%|██████████| 98/98 [00:20<00:00,  4.83it/s]\n"
          ]
        },
        {
          "output_type": "stream",
          "name": "stdout",
          "text": [
            "\n",
            "Test set: Average loss: 0.6038, Accuracy: 7933/10000 (79.33%)\n",
            "\n",
            "EPOCH: 29\n"
          ]
        },
        {
          "output_type": "stream",
          "name": "stderr",
          "text": [
            "Loss=0.5929284691810608 Batch_id=97 Accuracy=77.04: 100%|██████████| 98/98 [00:19<00:00,  4.93it/s]\n"
          ]
        },
        {
          "output_type": "stream",
          "name": "stdout",
          "text": [
            "\n",
            "Test set: Average loss: 0.5853, Accuracy: 7995/10000 (79.95%)\n",
            "\n",
            "EPOCH: 30\n"
          ]
        },
        {
          "output_type": "stream",
          "name": "stderr",
          "text": [
            "Loss=0.619652271270752 Batch_id=97 Accuracy=77.51: 100%|██████████| 98/98 [00:22<00:00,  4.44it/s]\n"
          ]
        },
        {
          "output_type": "stream",
          "name": "stdout",
          "text": [
            "\n",
            "Test set: Average loss: 0.5764, Accuracy: 8028/10000 (80.28%)\n",
            "\n",
            "EPOCH: 31\n"
          ]
        },
        {
          "output_type": "stream",
          "name": "stderr",
          "text": [
            "Loss=0.6872187852859497 Batch_id=97 Accuracy=77.92: 100%|██████████| 98/98 [00:20<00:00,  4.71it/s]\n"
          ]
        },
        {
          "output_type": "stream",
          "name": "stdout",
          "text": [
            "\n",
            "Test set: Average loss: 0.5810, Accuracy: 8024/10000 (80.24%)\n",
            "\n",
            "EPOCH: 32\n"
          ]
        },
        {
          "output_type": "stream",
          "name": "stderr",
          "text": [
            "Loss=0.5668814778327942 Batch_id=97 Accuracy=77.87: 100%|██████████| 98/98 [00:19<00:00,  4.95it/s]\n"
          ]
        },
        {
          "output_type": "stream",
          "name": "stdout",
          "text": [
            "\n",
            "Test set: Average loss: 0.5698, Accuracy: 8063/10000 (80.63%)\n",
            "\n",
            "EPOCH: 33\n"
          ]
        },
        {
          "output_type": "stream",
          "name": "stderr",
          "text": [
            "Loss=0.6521103382110596 Batch_id=97 Accuracy=77.91: 100%|██████████| 98/98 [00:20<00:00,  4.90it/s]\n"
          ]
        },
        {
          "output_type": "stream",
          "name": "stdout",
          "text": [
            "\n",
            "Test set: Average loss: 0.5619, Accuracy: 8080/10000 (80.80%)\n",
            "\n",
            "EPOCH: 34\n"
          ]
        },
        {
          "output_type": "stream",
          "name": "stderr",
          "text": [
            "Loss=0.6255692839622498 Batch_id=97 Accuracy=78.39: 100%|██████████| 98/98 [00:20<00:00,  4.73it/s]\n"
          ]
        },
        {
          "output_type": "stream",
          "name": "stdout",
          "text": [
            "\n",
            "Test set: Average loss: 0.5742, Accuracy: 8035/10000 (80.35%)\n",
            "\n",
            "EPOCH: 35\n"
          ]
        },
        {
          "output_type": "stream",
          "name": "stderr",
          "text": [
            "Loss=0.6221213340759277 Batch_id=97 Accuracy=78.51: 100%|██████████| 98/98 [00:19<00:00,  4.95it/s]\n"
          ]
        },
        {
          "output_type": "stream",
          "name": "stdout",
          "text": [
            "\n",
            "Test set: Average loss: 0.5529, Accuracy: 8106/10000 (81.06%)\n",
            "\n",
            "EPOCH: 36\n"
          ]
        },
        {
          "output_type": "stream",
          "name": "stderr",
          "text": [
            "Loss=0.5932806730270386 Batch_id=97 Accuracy=78.78: 100%|██████████| 98/98 [00:19<00:00,  5.01it/s]\n"
          ]
        },
        {
          "output_type": "stream",
          "name": "stdout",
          "text": [
            "\n",
            "Test set: Average loss: 0.5632, Accuracy: 8084/10000 (80.84%)\n",
            "\n",
            "EPOCH: 37\n"
          ]
        },
        {
          "output_type": "stream",
          "name": "stderr",
          "text": [
            "Loss=0.5652779340744019 Batch_id=97 Accuracy=79.03: 100%|██████████| 98/98 [00:21<00:00,  4.49it/s]\n"
          ]
        },
        {
          "output_type": "stream",
          "name": "stdout",
          "text": [
            "\n",
            "Test set: Average loss: 0.5583, Accuracy: 8065/10000 (80.65%)\n",
            "\n",
            "EPOCH: 38\n"
          ]
        },
        {
          "output_type": "stream",
          "name": "stderr",
          "text": [
            "Loss=0.5488682389259338 Batch_id=97 Accuracy=78.97: 100%|██████████| 98/98 [00:20<00:00,  4.71it/s]\n"
          ]
        },
        {
          "output_type": "stream",
          "name": "stdout",
          "text": [
            "\n",
            "Test set: Average loss: 0.5620, Accuracy: 8073/10000 (80.73%)\n",
            "\n",
            "EPOCH: 39\n"
          ]
        },
        {
          "output_type": "stream",
          "name": "stderr",
          "text": [
            "Loss=0.5154783129692078 Batch_id=97 Accuracy=79.17: 100%|██████████| 98/98 [00:19<00:00,  4.99it/s]\n"
          ]
        },
        {
          "output_type": "stream",
          "name": "stdout",
          "text": [
            "\n",
            "Test set: Average loss: 0.5278, Accuracy: 8204/10000 (82.04%)\n",
            "\n",
            "EPOCH: 40\n"
          ]
        },
        {
          "output_type": "stream",
          "name": "stderr",
          "text": [
            "Loss=0.5766369700431824 Batch_id=97 Accuracy=79.42: 100%|██████████| 98/98 [00:20<00:00,  4.81it/s]\n"
          ]
        },
        {
          "output_type": "stream",
          "name": "stdout",
          "text": [
            "\n",
            "Test set: Average loss: 0.5356, Accuracy: 8196/10000 (81.96%)\n",
            "\n",
            "EPOCH: 41\n"
          ]
        },
        {
          "output_type": "stream",
          "name": "stderr",
          "text": [
            "Loss=0.5146296620368958 Batch_id=97 Accuracy=79.27: 100%|██████████| 98/98 [00:20<00:00,  4.71it/s]\n"
          ]
        },
        {
          "output_type": "stream",
          "name": "stdout",
          "text": [
            "\n",
            "Test set: Average loss: 0.5425, Accuracy: 8114/10000 (81.14%)\n",
            "\n",
            "EPOCH: 42\n"
          ]
        },
        {
          "output_type": "stream",
          "name": "stderr",
          "text": [
            "Loss=0.7561765313148499 Batch_id=97 Accuracy=79.62: 100%|██████████| 98/98 [00:19<00:00,  4.93it/s]\n"
          ]
        },
        {
          "output_type": "stream",
          "name": "stdout",
          "text": [
            "\n",
            "Test set: Average loss: 0.5277, Accuracy: 8204/10000 (82.04%)\n",
            "\n",
            "EPOCH: 43\n"
          ]
        },
        {
          "output_type": "stream",
          "name": "stderr",
          "text": [
            "Loss=0.5646966099739075 Batch_id=97 Accuracy=79.85: 100%|██████████| 98/98 [00:20<00:00,  4.90it/s]\n"
          ]
        },
        {
          "output_type": "stream",
          "name": "stdout",
          "text": [
            "\n",
            "Test set: Average loss: 0.5229, Accuracy: 8213/10000 (82.13%)\n",
            "\n",
            "EPOCH: 44\n"
          ]
        },
        {
          "output_type": "stream",
          "name": "stderr",
          "text": [
            "Loss=0.5465604662895203 Batch_id=97 Accuracy=79.81: 100%|██████████| 98/98 [00:20<00:00,  4.70it/s]\n"
          ]
        },
        {
          "output_type": "stream",
          "name": "stdout",
          "text": [
            "\n",
            "Test set: Average loss: 0.5235, Accuracy: 8217/10000 (82.17%)\n",
            "\n",
            "EPOCH: 45\n"
          ]
        },
        {
          "output_type": "stream",
          "name": "stderr",
          "text": [
            "Loss=0.5436162948608398 Batch_id=97 Accuracy=79.96: 100%|██████████| 98/98 [00:21<00:00,  4.48it/s]\n"
          ]
        },
        {
          "output_type": "stream",
          "name": "stdout",
          "text": [
            "\n",
            "Test set: Average loss: 0.5237, Accuracy: 8260/10000 (82.60%)\n",
            "\n",
            "EPOCH: 46\n"
          ]
        },
        {
          "output_type": "stream",
          "name": "stderr",
          "text": [
            "Loss=0.5902099609375 Batch_id=97 Accuracy=80.01: 100%|██████████| 98/98 [00:19<00:00,  4.96it/s]\n"
          ]
        },
        {
          "output_type": "stream",
          "name": "stdout",
          "text": [
            "\n",
            "Test set: Average loss: 0.5153, Accuracy: 8233/10000 (82.33%)\n",
            "\n",
            "EPOCH: 47\n"
          ]
        },
        {
          "output_type": "stream",
          "name": "stderr",
          "text": [
            "Loss=0.6473076939582825 Batch_id=97 Accuracy=80.28: 100%|██████████| 98/98 [00:19<00:00,  4.94it/s]\n"
          ]
        },
        {
          "output_type": "stream",
          "name": "stdout",
          "text": [
            "\n",
            "Test set: Average loss: 0.5176, Accuracy: 8267/10000 (82.67%)\n",
            "\n",
            "EPOCH: 48\n"
          ]
        },
        {
          "output_type": "stream",
          "name": "stderr",
          "text": [
            "Loss=0.6415608525276184 Batch_id=97 Accuracy=80.70: 100%|██████████| 98/98 [00:20<00:00,  4.80it/s]\n"
          ]
        },
        {
          "output_type": "stream",
          "name": "stdout",
          "text": [
            "\n",
            "Test set: Average loss: 0.5199, Accuracy: 8260/10000 (82.60%)\n",
            "\n",
            "EPOCH: 49\n"
          ]
        },
        {
          "output_type": "stream",
          "name": "stderr",
          "text": [
            "Loss=0.5882654786109924 Batch_id=97 Accuracy=80.59: 100%|██████████| 98/98 [00:19<00:00,  4.99it/s]\n"
          ]
        },
        {
          "output_type": "stream",
          "name": "stdout",
          "text": [
            "\n",
            "Test set: Average loss: 0.5102, Accuracy: 8273/10000 (82.73%)\n",
            "\n",
            "EPOCH: 50\n"
          ]
        },
        {
          "output_type": "stream",
          "name": "stderr",
          "text": [
            "Loss=0.5929384231567383 Batch_id=97 Accuracy=80.65: 100%|██████████| 98/98 [00:19<00:00,  4.94it/s]\n"
          ]
        },
        {
          "output_type": "stream",
          "name": "stdout",
          "text": [
            "\n",
            "Test set: Average loss: 0.5105, Accuracy: 8236/10000 (82.36%)\n",
            "\n",
            "EPOCH: 51\n"
          ]
        },
        {
          "output_type": "stream",
          "name": "stderr",
          "text": [
            "Loss=0.5775097608566284 Batch_id=97 Accuracy=80.62: 100%|██████████| 98/98 [00:20<00:00,  4.75it/s]\n"
          ]
        },
        {
          "output_type": "stream",
          "name": "stdout",
          "text": [
            "\n",
            "Test set: Average loss: 0.5068, Accuracy: 8280/10000 (82.80%)\n",
            "\n",
            "EPOCH: 52\n"
          ]
        },
        {
          "output_type": "stream",
          "name": "stderr",
          "text": [
            "Loss=0.4491386413574219 Batch_id=97 Accuracy=80.62: 100%|██████████| 98/98 [00:21<00:00,  4.52it/s]\n"
          ]
        },
        {
          "output_type": "stream",
          "name": "stdout",
          "text": [
            "\n",
            "Test set: Average loss: 0.4876, Accuracy: 8360/10000 (83.60%)\n",
            "\n",
            "EPOCH: 53\n"
          ]
        },
        {
          "output_type": "stream",
          "name": "stderr",
          "text": [
            "Loss=0.5757788419723511 Batch_id=97 Accuracy=81.06: 100%|██████████| 98/98 [00:19<00:00,  4.98it/s]\n"
          ]
        },
        {
          "output_type": "stream",
          "name": "stdout",
          "text": [
            "\n",
            "Test set: Average loss: 0.5149, Accuracy: 8282/10000 (82.82%)\n",
            "\n",
            "EPOCH: 54\n"
          ]
        },
        {
          "output_type": "stream",
          "name": "stderr",
          "text": [
            "Loss=0.6199793815612793 Batch_id=97 Accuracy=81.34: 100%|██████████| 98/98 [00:20<00:00,  4.68it/s]\n"
          ]
        },
        {
          "output_type": "stream",
          "name": "stdout",
          "text": [
            "\n",
            "Test set: Average loss: 0.4972, Accuracy: 8334/10000 (83.34%)\n",
            "\n",
            "EPOCH: 55\n"
          ]
        },
        {
          "output_type": "stream",
          "name": "stderr",
          "text": [
            "Loss=0.6223045587539673 Batch_id=97 Accuracy=81.22: 100%|██████████| 98/98 [00:20<00:00,  4.78it/s]\n"
          ]
        },
        {
          "output_type": "stream",
          "name": "stdout",
          "text": [
            "\n",
            "Test set: Average loss: 0.4747, Accuracy: 8409/10000 (84.09%)\n",
            "\n",
            "EPOCH: 56\n"
          ]
        },
        {
          "output_type": "stream",
          "name": "stderr",
          "text": [
            "Loss=0.6375888586044312 Batch_id=97 Accuracy=81.35: 100%|██████████| 98/98 [00:19<00:00,  5.04it/s]\n"
          ]
        },
        {
          "output_type": "stream",
          "name": "stdout",
          "text": [
            "\n",
            "Test set: Average loss: 0.4845, Accuracy: 8365/10000 (83.65%)\n",
            "\n",
            "EPOCH: 57\n"
          ]
        },
        {
          "output_type": "stream",
          "name": "stderr",
          "text": [
            "Loss=0.5315560698509216 Batch_id=97 Accuracy=81.53: 100%|██████████| 98/98 [00:20<00:00,  4.84it/s]\n"
          ]
        },
        {
          "output_type": "stream",
          "name": "stdout",
          "text": [
            "\n",
            "Test set: Average loss: 0.4752, Accuracy: 8369/10000 (83.69%)\n",
            "\n",
            "EPOCH: 58\n"
          ]
        },
        {
          "output_type": "stream",
          "name": "stderr",
          "text": [
            "Loss=0.5976948738098145 Batch_id=97 Accuracy=81.56: 100%|██████████| 98/98 [00:20<00:00,  4.76it/s]\n"
          ]
        },
        {
          "output_type": "stream",
          "name": "stdout",
          "text": [
            "\n",
            "Test set: Average loss: 0.5029, Accuracy: 8318/10000 (83.18%)\n",
            "\n",
            "EPOCH: 59\n"
          ]
        },
        {
          "output_type": "stream",
          "name": "stderr",
          "text": [
            "Loss=0.5353164076805115 Batch_id=97 Accuracy=81.74: 100%|██████████| 98/98 [00:21<00:00,  4.63it/s]\n"
          ]
        },
        {
          "output_type": "stream",
          "name": "stdout",
          "text": [
            "\n",
            "Test set: Average loss: 0.4820, Accuracy: 8420/10000 (84.20%)\n",
            "\n",
            "EPOCH: 60\n"
          ]
        },
        {
          "output_type": "stream",
          "name": "stderr",
          "text": [
            "Loss=0.4803068935871124 Batch_id=97 Accuracy=81.62: 100%|██████████| 98/98 [00:19<00:00,  4.95it/s]\n"
          ]
        },
        {
          "output_type": "stream",
          "name": "stdout",
          "text": [
            "\n",
            "Test set: Average loss: 0.4936, Accuracy: 8354/10000 (83.54%)\n",
            "\n",
            "EPOCH: 61\n"
          ]
        },
        {
          "output_type": "stream",
          "name": "stderr",
          "text": [
            "Loss=0.56059730052948 Batch_id=97 Accuracy=81.56: 100%|██████████| 98/98 [00:20<00:00,  4.72it/s]\n"
          ]
        },
        {
          "output_type": "stream",
          "name": "stdout",
          "text": [
            "\n",
            "Test set: Average loss: 0.4716, Accuracy: 8427/10000 (84.27%)\n",
            "\n",
            "EPOCH: 62\n"
          ]
        },
        {
          "output_type": "stream",
          "name": "stderr",
          "text": [
            "Loss=0.5668694376945496 Batch_id=97 Accuracy=81.53: 100%|██████████| 98/98 [00:20<00:00,  4.79it/s]\n"
          ]
        },
        {
          "output_type": "stream",
          "name": "stdout",
          "text": [
            "\n",
            "Test set: Average loss: 0.4752, Accuracy: 8401/10000 (84.01%)\n",
            "\n",
            "EPOCH: 63\n"
          ]
        },
        {
          "output_type": "stream",
          "name": "stderr",
          "text": [
            "Loss=0.5049907565116882 Batch_id=97 Accuracy=81.91: 100%|██████████| 98/98 [00:19<00:00,  5.02it/s]\n"
          ]
        },
        {
          "output_type": "stream",
          "name": "stdout",
          "text": [
            "\n",
            "Test set: Average loss: 0.4723, Accuracy: 8437/10000 (84.37%)\n",
            "\n",
            "EPOCH: 64\n"
          ]
        },
        {
          "output_type": "stream",
          "name": "stderr",
          "text": [
            "Loss=0.5078348517417908 Batch_id=97 Accuracy=82.05: 100%|██████████| 98/98 [00:20<00:00,  4.75it/s]\n"
          ]
        },
        {
          "output_type": "stream",
          "name": "stdout",
          "text": [
            "\n",
            "Test set: Average loss: 0.4837, Accuracy: 8400/10000 (84.00%)\n",
            "\n",
            "EPOCH: 65\n"
          ]
        },
        {
          "output_type": "stream",
          "name": "stderr",
          "text": [
            "Loss=0.5558266043663025 Batch_id=97 Accuracy=82.19: 100%|██████████| 98/98 [00:20<00:00,  4.71it/s]\n"
          ]
        },
        {
          "output_type": "stream",
          "name": "stdout",
          "text": [
            "\n",
            "Test set: Average loss: 0.4729, Accuracy: 8438/10000 (84.38%)\n",
            "\n",
            "EPOCH: 66\n"
          ]
        },
        {
          "output_type": "stream",
          "name": "stderr",
          "text": [
            "Loss=0.4622597396373749 Batch_id=97 Accuracy=82.01: 100%|██████████| 98/98 [00:21<00:00,  4.63it/s]\n"
          ]
        },
        {
          "output_type": "stream",
          "name": "stdout",
          "text": [
            "\n",
            "Test set: Average loss: 0.4672, Accuracy: 8427/10000 (84.27%)\n",
            "\n",
            "EPOCH: 67\n"
          ]
        },
        {
          "output_type": "stream",
          "name": "stderr",
          "text": [
            "Loss=0.5840407609939575 Batch_id=97 Accuracy=82.17: 100%|██████████| 98/98 [00:19<00:00,  4.95it/s]\n"
          ]
        },
        {
          "output_type": "stream",
          "name": "stdout",
          "text": [
            "\n",
            "Test set: Average loss: 0.4665, Accuracy: 8427/10000 (84.27%)\n",
            "\n",
            "EPOCH: 68\n"
          ]
        },
        {
          "output_type": "stream",
          "name": "stderr",
          "text": [
            "Loss=0.4911564886569977 Batch_id=97 Accuracy=82.13: 100%|██████████| 98/98 [00:20<00:00,  4.73it/s]\n"
          ]
        },
        {
          "output_type": "stream",
          "name": "stdout",
          "text": [
            "\n",
            "Test set: Average loss: 0.4683, Accuracy: 8441/10000 (84.41%)\n",
            "\n",
            "EPOCH: 69\n"
          ]
        },
        {
          "output_type": "stream",
          "name": "stderr",
          "text": [
            "Loss=0.43391573429107666 Batch_id=97 Accuracy=82.25: 100%|██████████| 98/98 [00:20<00:00,  4.76it/s]\n"
          ]
        },
        {
          "output_type": "stream",
          "name": "stdout",
          "text": [
            "\n",
            "Test set: Average loss: 0.4660, Accuracy: 8411/10000 (84.11%)\n",
            "\n",
            "EPOCH: 70\n"
          ]
        },
        {
          "output_type": "stream",
          "name": "stderr",
          "text": [
            "Loss=0.5539339780807495 Batch_id=97 Accuracy=82.51: 100%|██████████| 98/98 [00:19<00:00,  5.00it/s]\n"
          ]
        },
        {
          "output_type": "stream",
          "name": "stdout",
          "text": [
            "\n",
            "Test set: Average loss: 0.4708, Accuracy: 8436/10000 (84.36%)\n",
            "\n",
            "EPOCH: 71\n"
          ]
        },
        {
          "output_type": "stream",
          "name": "stderr",
          "text": [
            "Loss=0.5231472849845886 Batch_id=97 Accuracy=82.28: 100%|██████████| 98/98 [00:20<00:00,  4.78it/s]\n"
          ]
        },
        {
          "output_type": "stream",
          "name": "stdout",
          "text": [
            "\n",
            "Test set: Average loss: 0.4635, Accuracy: 8469/10000 (84.69%)\n",
            "\n",
            "EPOCH: 72\n"
          ]
        },
        {
          "output_type": "stream",
          "name": "stderr",
          "text": [
            "Loss=0.48071980476379395 Batch_id=97 Accuracy=82.57: 100%|██████████| 98/98 [00:20<00:00,  4.70it/s]\n"
          ]
        },
        {
          "output_type": "stream",
          "name": "stdout",
          "text": [
            "\n",
            "Test set: Average loss: 0.4473, Accuracy: 8487/10000 (84.87%)\n",
            "\n",
            "EPOCH: 73\n"
          ]
        },
        {
          "output_type": "stream",
          "name": "stderr",
          "text": [
            "Loss=0.5736067891120911 Batch_id=97 Accuracy=82.43: 100%|██████████| 98/98 [00:19<00:00,  4.98it/s]\n"
          ]
        },
        {
          "output_type": "stream",
          "name": "stdout",
          "text": [
            "\n",
            "Test set: Average loss: 0.4602, Accuracy: 8409/10000 (84.09%)\n",
            "\n",
            "EPOCH: 74\n"
          ]
        },
        {
          "output_type": "stream",
          "name": "stderr",
          "text": [
            "Loss=0.4943752884864807 Batch_id=97 Accuracy=82.66: 100%|██████████| 98/98 [00:20<00:00,  4.78it/s]\n"
          ]
        },
        {
          "output_type": "stream",
          "name": "stdout",
          "text": [
            "\n",
            "Test set: Average loss: 0.4593, Accuracy: 8462/10000 (84.62%)\n",
            "\n",
            "EPOCH: 75\n"
          ]
        },
        {
          "output_type": "stream",
          "name": "stderr",
          "text": [
            "Loss=0.5703263878822327 Batch_id=97 Accuracy=82.67: 100%|██████████| 98/98 [00:20<00:00,  4.69it/s]\n"
          ]
        },
        {
          "output_type": "stream",
          "name": "stdout",
          "text": [
            "\n",
            "Test set: Average loss: 0.4650, Accuracy: 8427/10000 (84.27%)\n",
            "\n",
            "EPOCH: 76\n"
          ]
        },
        {
          "output_type": "stream",
          "name": "stderr",
          "text": [
            "Loss=0.3996835947036743 Batch_id=97 Accuracy=82.77: 100%|██████████| 98/98 [00:20<00:00,  4.75it/s]\n"
          ]
        },
        {
          "output_type": "stream",
          "name": "stdout",
          "text": [
            "\n",
            "Test set: Average loss: 0.4495, Accuracy: 8485/10000 (84.85%)\n",
            "\n",
            "EPOCH: 77\n"
          ]
        },
        {
          "output_type": "stream",
          "name": "stderr",
          "text": [
            "Loss=0.4536755084991455 Batch_id=97 Accuracy=82.89: 100%|██████████| 98/98 [00:19<00:00,  4.99it/s]\n"
          ]
        },
        {
          "output_type": "stream",
          "name": "stdout",
          "text": [
            "\n",
            "Test set: Average loss: 0.4603, Accuracy: 8462/10000 (84.62%)\n",
            "\n",
            "EPOCH: 78\n"
          ]
        },
        {
          "output_type": "stream",
          "name": "stderr",
          "text": [
            "Loss=0.508898913860321 Batch_id=97 Accuracy=82.88: 100%|██████████| 98/98 [00:20<00:00,  4.73it/s]\n"
          ]
        },
        {
          "output_type": "stream",
          "name": "stdout",
          "text": [
            "\n",
            "Test set: Average loss: 0.4796, Accuracy: 8408/10000 (84.08%)\n",
            "\n",
            "EPOCH: 79\n"
          ]
        },
        {
          "output_type": "stream",
          "name": "stderr",
          "text": [
            "Loss=0.4986361861228943 Batch_id=97 Accuracy=82.92: 100%|██████████| 98/98 [00:20<00:00,  4.72it/s]\n"
          ]
        },
        {
          "output_type": "stream",
          "name": "stdout",
          "text": [
            "\n",
            "Test set: Average loss: 0.4542, Accuracy: 8475/10000 (84.75%)\n",
            "\n",
            "EPOCH: 80\n"
          ]
        },
        {
          "output_type": "stream",
          "name": "stderr",
          "text": [
            "Loss=0.5908976197242737 Batch_id=97 Accuracy=83.13: 100%|██████████| 98/98 [00:19<00:00,  5.01it/s]\n"
          ]
        },
        {
          "output_type": "stream",
          "name": "stdout",
          "text": [
            "\n",
            "Test set: Average loss: 0.4471, Accuracy: 8492/10000 (84.92%)\n",
            "\n",
            "EPOCH: 81\n"
          ]
        },
        {
          "output_type": "stream",
          "name": "stderr",
          "text": [
            "Loss=0.48645710945129395 Batch_id=97 Accuracy=82.78: 100%|██████████| 98/98 [00:21<00:00,  4.64it/s]\n"
          ]
        },
        {
          "output_type": "stream",
          "name": "stdout",
          "text": [
            "\n",
            "Test set: Average loss: 0.4426, Accuracy: 8544/10000 (85.44%)\n",
            "\n",
            "EPOCH: 82\n"
          ]
        },
        {
          "output_type": "stream",
          "name": "stderr",
          "text": [
            "Loss=0.5092040300369263 Batch_id=97 Accuracy=83.14: 100%|██████████| 98/98 [00:20<00:00,  4.73it/s]\n"
          ]
        },
        {
          "output_type": "stream",
          "name": "stdout",
          "text": [
            "\n",
            "Test set: Average loss: 0.4511, Accuracy: 8475/10000 (84.75%)\n",
            "\n",
            "EPOCH: 83\n"
          ]
        },
        {
          "output_type": "stream",
          "name": "stderr",
          "text": [
            "Loss=0.48258286714553833 Batch_id=97 Accuracy=83.14: 100%|██████████| 98/98 [00:19<00:00,  5.01it/s]\n"
          ]
        },
        {
          "output_type": "stream",
          "name": "stdout",
          "text": [
            "\n",
            "Test set: Average loss: 0.4562, Accuracy: 8441/10000 (84.41%)\n",
            "\n",
            "EPOCH: 84\n"
          ]
        },
        {
          "output_type": "stream",
          "name": "stderr",
          "text": [
            "Loss=0.4758021831512451 Batch_id=97 Accuracy=82.86: 100%|██████████| 98/98 [00:19<00:00,  5.07it/s]\n"
          ]
        },
        {
          "output_type": "stream",
          "name": "stdout",
          "text": [
            "\n",
            "Test set: Average loss: 0.4400, Accuracy: 8507/10000 (85.07%)\n",
            "\n",
            "EPOCH: 85\n"
          ]
        },
        {
          "output_type": "stream",
          "name": "stderr",
          "text": [
            "Loss=0.4136837422847748 Batch_id=97 Accuracy=83.12: 100%|██████████| 98/98 [00:21<00:00,  4.65it/s]\n"
          ]
        },
        {
          "output_type": "stream",
          "name": "stdout",
          "text": [
            "\n",
            "Test set: Average loss: 0.4420, Accuracy: 8514/10000 (85.14%)\n",
            "\n",
            "EPOCH: 86\n"
          ]
        },
        {
          "output_type": "stream",
          "name": "stderr",
          "text": [
            "Loss=0.4241098165512085 Batch_id=97 Accuracy=83.30: 100%|██████████| 98/98 [00:20<00:00,  4.85it/s]\n"
          ]
        },
        {
          "output_type": "stream",
          "name": "stdout",
          "text": [
            "\n",
            "Test set: Average loss: 0.4450, Accuracy: 8488/10000 (84.88%)\n",
            "\n",
            "EPOCH: 87\n"
          ]
        },
        {
          "output_type": "stream",
          "name": "stderr",
          "text": [
            "Loss=0.47224557399749756 Batch_id=97 Accuracy=83.69: 100%|██████████| 98/98 [00:19<00:00,  5.06it/s]\n"
          ]
        },
        {
          "output_type": "stream",
          "name": "stdout",
          "text": [
            "\n",
            "Test set: Average loss: 0.4267, Accuracy: 8568/10000 (85.68%)\n",
            "\n",
            "EPOCH: 88\n"
          ]
        },
        {
          "output_type": "stream",
          "name": "stderr",
          "text": [
            "Loss=0.39458784461021423 Batch_id=97 Accuracy=83.41: 100%|██████████| 98/98 [00:21<00:00,  4.60it/s]\n"
          ]
        },
        {
          "output_type": "stream",
          "name": "stdout",
          "text": [
            "\n",
            "Test set: Average loss: 0.4494, Accuracy: 8500/10000 (85.00%)\n",
            "\n",
            "EPOCH: 89\n"
          ]
        },
        {
          "output_type": "stream",
          "name": "stderr",
          "text": [
            "Loss=0.40704208612442017 Batch_id=97 Accuracy=83.52: 100%|██████████| 98/98 [00:20<00:00,  4.72it/s]\n"
          ]
        },
        {
          "output_type": "stream",
          "name": "stdout",
          "text": [
            "\n",
            "Test set: Average loss: 0.4345, Accuracy: 8545/10000 (85.45%)\n",
            "\n",
            "EPOCH: 90\n"
          ]
        },
        {
          "output_type": "stream",
          "name": "stderr",
          "text": [
            "Loss=0.5019158720970154 Batch_id=97 Accuracy=83.57: 100%|██████████| 98/98 [00:19<00:00,  4.96it/s]\n"
          ]
        },
        {
          "output_type": "stream",
          "name": "stdout",
          "text": [
            "\n",
            "Test set: Average loss: 0.4464, Accuracy: 8517/10000 (85.17%)\n",
            "\n",
            "EPOCH: 91\n"
          ]
        },
        {
          "output_type": "stream",
          "name": "stderr",
          "text": [
            "Loss=0.4823110103607178 Batch_id=97 Accuracy=83.28: 100%|██████████| 98/98 [00:20<00:00,  4.86it/s]\n"
          ]
        },
        {
          "output_type": "stream",
          "name": "stdout",
          "text": [
            "\n",
            "Test set: Average loss: 0.4411, Accuracy: 8522/10000 (85.22%)\n",
            "\n",
            "EPOCH: 92\n"
          ]
        },
        {
          "output_type": "stream",
          "name": "stderr",
          "text": [
            "Loss=0.441301167011261 Batch_id=97 Accuracy=83.45: 100%|██████████| 98/98 [00:20<00:00,  4.75it/s]\n"
          ]
        },
        {
          "output_type": "stream",
          "name": "stdout",
          "text": [
            "\n",
            "Test set: Average loss: 0.4250, Accuracy: 8553/10000 (85.53%)\n",
            "\n",
            "EPOCH: 93\n"
          ]
        },
        {
          "output_type": "stream",
          "name": "stderr",
          "text": [
            "Loss=0.41300156712532043 Batch_id=97 Accuracy=83.64: 100%|██████████| 98/98 [00:19<00:00,  4.99it/s]\n"
          ]
        },
        {
          "output_type": "stream",
          "name": "stdout",
          "text": [
            "\n",
            "Test set: Average loss: 0.4299, Accuracy: 8553/10000 (85.53%)\n",
            "\n",
            "EPOCH: 94\n"
          ]
        },
        {
          "output_type": "stream",
          "name": "stderr",
          "text": [
            "Loss=0.460223525762558 Batch_id=97 Accuracy=83.58: 100%|██████████| 98/98 [00:20<00:00,  4.87it/s]\n"
          ]
        },
        {
          "output_type": "stream",
          "name": "stdout",
          "text": [
            "\n",
            "Test set: Average loss: 0.4409, Accuracy: 8558/10000 (85.58%)\n",
            "\n",
            "EPOCH: 95\n"
          ]
        },
        {
          "output_type": "stream",
          "name": "stderr",
          "text": [
            "Loss=0.49101361632347107 Batch_id=97 Accuracy=83.61: 100%|██████████| 98/98 [00:20<00:00,  4.75it/s]\n"
          ]
        },
        {
          "output_type": "stream",
          "name": "stdout",
          "text": [
            "\n",
            "Test set: Average loss: 0.4502, Accuracy: 8502/10000 (85.02%)\n",
            "\n",
            "EPOCH: 96\n"
          ]
        },
        {
          "output_type": "stream",
          "name": "stderr",
          "text": [
            "Loss=0.4310523569583893 Batch_id=97 Accuracy=83.76: 100%|██████████| 98/98 [00:20<00:00,  4.69it/s]\n"
          ]
        },
        {
          "output_type": "stream",
          "name": "stdout",
          "text": [
            "\n",
            "Test set: Average loss: 0.4325, Accuracy: 8534/10000 (85.34%)\n",
            "\n",
            "EPOCH: 97\n"
          ]
        },
        {
          "output_type": "stream",
          "name": "stderr",
          "text": [
            "Loss=0.44885069131851196 Batch_id=97 Accuracy=83.84: 100%|██████████| 98/98 [00:19<00:00,  4.91it/s]\n"
          ]
        },
        {
          "output_type": "stream",
          "name": "stdout",
          "text": [
            "\n",
            "Test set: Average loss: 0.4251, Accuracy: 8567/10000 (85.67%)\n",
            "\n",
            "EPOCH: 98\n"
          ]
        },
        {
          "output_type": "stream",
          "name": "stderr",
          "text": [
            "Loss=0.5047773718833923 Batch_id=97 Accuracy=84.06: 100%|██████████| 98/98 [00:20<00:00,  4.70it/s]\n"
          ]
        },
        {
          "output_type": "stream",
          "name": "stdout",
          "text": [
            "\n",
            "Test set: Average loss: 0.4300, Accuracy: 8529/10000 (85.29%)\n",
            "\n",
            "EPOCH: 99\n"
          ]
        },
        {
          "output_type": "stream",
          "name": "stderr",
          "text": [
            "Loss=0.5389494895935059 Batch_id=97 Accuracy=83.90: 100%|██████████| 98/98 [00:19<00:00,  5.00it/s]\n"
          ]
        },
        {
          "output_type": "stream",
          "name": "stdout",
          "text": [
            "\n",
            "Test set: Average loss: 0.4301, Accuracy: 8540/10000 (85.40%)\n",
            "\n"
          ]
        }
      ]
    },
    {
      "cell_type": "markdown",
      "source": [
        "## Accuracy and Loss curves"
      ],
      "metadata": {
        "id": "xpdcETT0-Mjb"
      }
    },
    {
      "cell_type": "code",
      "source": [
        "t = [t_items.item() for t_items in train_losses]\n",
        "%matplotlib inline\n",
        "import matplotlib.pyplot as plt\n",
        "fig, axs = plt.subplots(2,2,figsize=(15,10))\n",
        "axs[0, 0].plot(t)\n",
        "axs[0, 0].set_title(\"Training Loss\")\n",
        "axs[1, 0].plot(train_acc)\n",
        "axs[1, 0].set_title(\"Training Accuracy\")\n",
        "axs[0, 1].plot(test_losses)\n",
        "axs[0, 1].set_title(\"Test Loss\")\n",
        "axs[1, 1].plot(test_acc)\n",
        "axs[1, 1].set_title(\"Test Accuracy\")"
      ],
      "metadata": {
        "id": "Szd8q0v6-OhD",
        "colab": {
          "base_uri": "https://localhost:8080/",
          "height": 871
        },
        "outputId": "84b9f9aa-6d54-4890-d17c-772b0f75cabd"
      },
      "execution_count": null,
      "outputs": [
        {
          "output_type": "execute_result",
          "data": {
            "text/plain": [
              "Text(0.5, 1.0, 'Test Accuracy')"
            ]
          },
          "metadata": {},
          "execution_count": 13
        },
        {
          "output_type": "display_data",
          "data": {
            "text/plain": [
              "<Figure size 1500x1000 with 4 Axes>"
            ],
            "image/png": "[encoded data removed]"
          },
          "metadata": {}
        }
      ]
    },
    {
      "cell_type": "markdown",
      "source": [],
      "metadata": {
        "id": "VC-3NhFPCAnX"
      }
    }
  ]
}