{
  "cells": [
    {
      "cell_type": "markdown",
      "metadata": {
        "id": "view-in-github",
        "colab_type": "text"
      },
      "source": [
        "<a href=\"https://colab.research.google.com/github/smitasasindran/era4/blob/session4/Session4/ERA4_Session_4_Iteration2.ipynb\" target=\"_parent\"><img src=\"https://colab.research.google.com/assets/colab-badge.svg\" alt=\"Open In Colab\"/></a>"
      ]
    },
    {
      "cell_type": "markdown",
      "metadata": {
        "id": "vvXev9Nmx-4Y"
      },
      "source": [
        "1. Import libraries"
      ]
    },
    {
      "cell_type": "code",
      "execution_count": 1,
      "metadata": {
        "id": "SNdwG3ChxnGl"
      },
      "outputs": [],
      "source": [
        "import torch\n",
        "import torch.nn as nn\n",
        "import torch.nn.functional as F\n",
        "import torch.optim as optim\n",
        "from torchvision import datasets, transforms"
      ]
    },
    {
      "cell_type": "markdown",
      "metadata": {
        "id": "v4QwlnK6x359"
      },
      "source": [
        "2. Check GPU"
      ]
    },
    {
      "cell_type": "code",
      "execution_count": 2,
      "metadata": {
        "colab": {
          "base_uri": "https://localhost:8080/"
        },
        "id": "CSHB9P21yIiG",
        "outputId": "33c975bb-5ab3-46ee-efc1-3debb19f126e"
      },
      "outputs": [
        {
          "output_type": "stream",
          "name": "stdout",
          "text": [
            "CUDA Available: True\n"
          ]
        }
      ],
      "source": [
        "cuda = torch.cuda.is_available()\n",
        "print(f\"CUDA Available: {cuda}\")\n",
        "\n",
        "random_seed = 21\n",
        "torch.manual_seed(random_seed)\n",
        "if cuda:\n",
        "    torch.cuda.manual_seed(random_seed)"
      ]
    },
    {
      "cell_type": "markdown",
      "metadata": {
        "id": "mV85SyJlySMO"
      },
      "source": [
        "3. Create transformations"
      ]
    },
    {
      "cell_type": "code",
      "execution_count": 3,
      "metadata": {
        "id": "LG_lQdNwyWAS"
      },
      "outputs": [],
      "source": [
        "# Train data transformations\n",
        "train_transforms = transforms.Compose([\n",
        "    transforms.RandomApply([transforms.CenterCrop(22), ], p=0.1),\n",
        "    transforms.Resize((28, 28)),\n",
        "    transforms.RandomRotation((-15., 15.), fill=0),\n",
        "    transforms.ToTensor(),\n",
        "    transforms.Normalize((0.1307,), (0.3081,)),\n",
        "])\n",
        "\n",
        "# Test data transformations. Use same mean and std as train set\n",
        "test_transforms = transforms.Compose([\n",
        "    transforms.ToTensor(),\n",
        "    # transforms.Normalize((0.1407,), (0.4081,))\n",
        "    transforms.Normalize((0.1307,), (0.3081,)),\n",
        "])"
      ]
    },
    {
      "cell_type": "markdown",
      "metadata": {
        "id": "_6KNIhHKzTth"
      },
      "source": [
        "4. Get train and test data"
      ]
    },
    {
      "cell_type": "code",
      "execution_count": 4,
      "metadata": {
        "id": "5U70eOtvzbGC"
      },
      "outputs": [],
      "source": [
        "train_data = datasets.MNIST('../data', train=True, download=True, transform=train_transforms)\n",
        "test_data = datasets.MNIST('../data', train=False, download=True, transform=test_transforms)"
      ]
    },
    {
      "cell_type": "markdown",
      "metadata": {
        "id": "fXSbXAMaztu3"
      },
      "source": [
        "5. Create data loaders"
      ]
    },
    {
      "cell_type": "code",
      "execution_count": 5,
      "metadata": {
        "id": "bV_fV3zqzvf8"
      },
      "outputs": [],
      "source": [
        "batch_size = 128\n",
        "# batch_size=256\n",
        "# kwargs = {'batch_size': batch_size, 'shuffle': False, 'num_workers': 2, 'pin_memory': True}\n",
        "kwargs = {'batch_size': batch_size, 'shuffle': False, 'num_workers': 2, 'pin_memory': True}\n",
        "\n",
        "train_loader = torch.utils.data.DataLoader(train_data, **kwargs)\n",
        "test_loader = torch.utils.data.DataLoader(test_data, **kwargs)"
      ]
    },
    {
      "cell_type": "markdown",
      "metadata": {
        "id": "zSysAPrC0GKA"
      },
      "source": [
        "6. Plot some data"
      ]
    },
    {
      "cell_type": "code",
      "execution_count": 6,
      "metadata": {
        "colab": {
          "base_uri": "https://localhost:8080/",
          "height": 463
        },
        "id": "fqIeDHji0Ijs",
        "outputId": "3fab99dc-ed60-4111-df64-3839cabe4937"
      },
      "outputs": [
        {
          "output_type": "display_data",
          "data": {
            "text/plain": [
              "<Figure size 640x480 with 12 Axes>"
            ],
            "image/png": "[encoded data removed]"
          },
          "metadata": {}
        }
      ],
      "source": [
        "import matplotlib.pyplot as plt\n",
        "\n",
        "batch_data, batch_label = next(iter(train_loader))\n",
        "\n",
        "fig = plt.figure()\n",
        "\n",
        "for i in range(12):\n",
        "  plt.subplot(3,4,i+1)\n",
        "  plt.tight_layout()\n",
        "  plt.imshow(batch_data[i].squeeze(0), cmap='gray')\n",
        "  plt.title(batch_label[i].item())\n",
        "  plt.xticks([])\n",
        "  plt.yticks([])\n"
      ]
    },
    {
      "cell_type": "markdown",
      "metadata": {
        "id": "00o3FZun0dRo"
      },
      "source": [
        "7. Create the model"
      ]
    },
    {
      "cell_type": "code",
      "source": [
        "class Net(nn.Module):\n",
        "    # Define the structure of the NN\n",
        "\n",
        "    def __init__(self):\n",
        "        super(Net, self).__init__()\n",
        "        self.conv1 = nn.Conv2d(1, 8, kernel_size=3)\n",
        "        self.conv2 = nn.Conv2d(8, 16, kernel_size=3)\n",
        "        self.conv3 = nn.Conv2d(16, 32, kernel_size=3)\n",
        "        self.conv4 = nn.Conv2d(32, 8, kernel_size=1)\n",
        "        # -> maxpooling\n",
        "        self.conv5 = nn.Conv2d(8, 16, kernel_size=3)\n",
        "        self.conv6 = nn.Conv2d(16, 32, kernel_size=3)\n",
        "        self.fc1 = nn.Linear(1568, 10)\n",
        "\n",
        "    def forward(self, x):\n",
        "        # 1 x 1 should be before maxpooling, not after -- compress original features better\n",
        "        # relu after maxpooling, or relu before maxpooling have same output\n",
        "\n",
        "        x = F.relu(self.conv1(x), 2)    # 512 x 8 x 26 x 26\n",
        "        x = F.relu(self.conv2(x), 2)    # 512 x 16 x 24 x 24\n",
        "        x = F.relu(self.conv3(x))       # 512 x 32 x 22 x 22\n",
        "        x = self.conv4(x)               # 512 x 8 x 22 x 22\n",
        "        # print(f\"After conv4: {x.shape}\")\n",
        "        x = F.relu(F.max_pool2d(x, 2))  # 512 x 8 x 11 x 11\n",
        "\n",
        "        x = F.relu(self.conv5(x))  # 512 x 16 x 9 x 9\n",
        "        x = F.relu(self.conv6(x))  # 512 x 32 x 7 x 7\n",
        "        # print(f\"After conv6: {x.shape}\")\n",
        "        x = x.view(-1, 1568)\n",
        "        x = self.fc1(x)\n",
        "        return x\n"
      ],
      "metadata": {
        "id": "qLU-potH5w9V"
      },
      "execution_count": 7,
      "outputs": []
    },
    {
      "cell_type": "markdown",
      "source": [
        "8. Model Summary"
      ],
      "metadata": {
        "id": "-ulChzuCos6j"
      }
    },
    {
      "cell_type": "code",
      "execution_count": 8,
      "metadata": {
        "colab": {
          "base_uri": "https://localhost:8080/"
        },
        "id": "drQGGSxMKDu_",
        "outputId": "a044d678-9bd4-488c-be73-97096febbb15"
      },
      "outputs": [
        {
          "output_type": "stream",
          "name": "stdout",
          "text": [
            "----------------------------------------------------------------\n",
            "        Layer (type)               Output Shape         Param #\n",
            "================================================================\n",
            "            Conv2d-1            [-1, 8, 26, 26]              80\n",
            "            Conv2d-2           [-1, 16, 24, 24]           1,168\n",
            "            Conv2d-3           [-1, 32, 22, 22]           4,640\n",
            "            Conv2d-4            [-1, 8, 22, 22]             264\n",
            "            Conv2d-5             [-1, 16, 9, 9]           1,168\n",
            "            Conv2d-6             [-1, 32, 7, 7]           4,640\n",
            "            Linear-7                   [-1, 10]          15,690\n",
            "================================================================\n",
            "Total params: 27,650\n",
            "Trainable params: 27,650\n",
            "Non-trainable params: 0\n",
            "----------------------------------------------------------------\n",
            "Input size (MB): 0.00\n",
            "Forward/backward pass size (MB): 0.28\n",
            "Params size (MB): 0.11\n",
            "Estimated Total Size (MB): 0.39\n",
            "----------------------------------------------------------------\n"
          ]
        }
      ],
      "source": [
        "from torchsummary import summary\n",
        "\n",
        "device = \"cuda\" if cuda else \"cpu\"\n",
        "model = Net().to(device)\n",
        "\n",
        "summary(model, input_size=(1, 28, 28))\n"
      ]
    },
    {
      "cell_type": "markdown",
      "metadata": {
        "id": "__jQaA-R3E0j"
      },
      "source": [
        "9. Initializing variables"
      ]
    },
    {
      "cell_type": "code",
      "execution_count": 9,
      "metadata": {
        "id": "YeSnMoy_3OUz"
      },
      "outputs": [],
      "source": [
        "# Data to plot accuracy and loss graphs\n",
        "train_losses = []\n",
        "test_losses = []\n",
        "train_acc = []\n",
        "test_acc = []\n",
        "\n",
        "test_incorrect_pred = {'images': [], 'ground_truths': [], 'predicted_vals': []}"
      ]
    },
    {
      "cell_type": "markdown",
      "metadata": {
        "id": "XG7RiWey3Utr"
      },
      "source": [
        "10. Train and test functions"
      ]
    },
    {
      "cell_type": "code",
      "execution_count": 10,
      "metadata": {
        "id": "H9MOz8nx3XTh"
      },
      "outputs": [],
      "source": [
        "from tqdm import tqdm\n",
        "\n",
        "def GetCorrectPredCount(pPrediction, pLabels):\n",
        "  return pPrediction.argmax(dim=1).eq(pLabels).sum().item()\n",
        "\n",
        "def train(model, device, train_loader, optimizer, criterion):\n",
        "    model.train()\n",
        "    pbar = tqdm(train_loader)\n",
        "\n",
        "    train_loss = 0\n",
        "    correct = 0\n",
        "    processed = 0\n",
        "\n",
        "    for batch_idx, (data, target) in enumerate(pbar):\n",
        "        data, target = data.to(device), target.to(device)\n",
        "\n",
        "        optimizer.zero_grad()\n",
        "\n",
        "        # Predict\n",
        "        pred = model(data)\n",
        "\n",
        "        # Calculate loss\n",
        "        # print(f\"Prediction: {pred}, target={target}\")\n",
        "        loss = criterion(pred, target)\n",
        "        train_loss += loss.item()\n",
        "\n",
        "        # Backpropagation\n",
        "        loss.backward()\n",
        "        optimizer.step()\n",
        "\n",
        "        correct += GetCorrectPredCount(pred, target)\n",
        "        processed += len(data)\n",
        "\n",
        "        pbar.set_description(desc= f'Train: Loss={loss.item():0.4f} Batch_id={batch_idx} Accuracy={100*correct/processed:0.2f}')\n",
        "\n",
        "    train_acc.append(100 * correct / processed)\n",
        "    train_losses.append(train_loss / len(train_loader))\n",
        "\n",
        "\n",
        "def test(model, device, test_loader, criterion):\n",
        "    model.eval()\n",
        "\n",
        "    test_loss = 0\n",
        "    correct = 0\n",
        "\n",
        "    with torch.no_grad():\n",
        "        for batch_idx, (data, target) in enumerate(test_loader):\n",
        "            data, target = data.to(device), target.to(device)\n",
        "\n",
        "            output = model(data)\n",
        "            # test_loss += criterion(output, target, reduction='sum').item() # Sum up batch loss\n",
        "            test_loss += criterion(output, target).item() # Sum up batch loss\n",
        "\n",
        "            correct += GetCorrectPredCount(output, target)\n",
        "\n",
        "    test_loss /= len(test_loader.dataset)\n",
        "    test_acc.append(100. * correct / len(test_loader.dataset))\n",
        "    test_losses.append(test_loss)\n",
        "\n",
        "    print('Test set: Average loss: {:.4f}, Accuracy: {}/{} ({:.2f}%)\\n'.format(\n",
        "        test_loss, correct, len(test_loader.dataset),\n",
        "        100. * correct / len(test_loader.dataset)))\n"
      ]
    },
    {
      "cell_type": "markdown",
      "metadata": {
        "id": "l1nQ8xhz5NXg"
      },
      "source": [
        "11. Train the model"
      ]
    },
    {
      "cell_type": "code",
      "execution_count": 11,
      "metadata": {
        "colab": {
          "base_uri": "https://localhost:8080/"
        },
        "id": "OARPW4Yj5QrG",
        "outputId": "966800ab-1038-4d25-aae3-a69bceacf926"
      },
      "outputs": [
        {
          "output_type": "stream",
          "name": "stdout",
          "text": [
            "Epoch 1\n"
          ]
        },
        {
          "output_type": "stream",
          "name": "stderr",
          "text": [
            "Train: Loss=0.2575 Batch_id=468 Accuracy=62.53: 100%|██████████████████████████████████████████████████████████████████████████████████████████| 469/469 [00:05<00:00, 85.08it/s]\n"
          ]
        },
        {
          "output_type": "stream",
          "name": "stdout",
          "text": [
            "Test set: Average loss: 0.0011, Accuracy: 9545/10000 (95.45%)\n",
            "\n"
          ]
        }
      ],
      "source": [
        "device = \"cuda\" if cuda else \"cpu\"\n",
        "model = Net().to(device)\n",
        "optimizer = optim.SGD(model.parameters(), lr=0.01, momentum=0.9)\n",
        "scheduler = optim.lr_scheduler.StepLR(optimizer, step_size=15, gamma=0.1)\n",
        "\n",
        "criterion = nn.CrossEntropyLoss(reduction='mean')\n",
        "num_epochs = 1\n",
        "\n",
        "for epoch in range(1, num_epochs+1):\n",
        "    print(f\"Epoch {epoch}\")\n",
        "    train(model, device, train_loader, optimizer, criterion)\n",
        "    test(model, device, test_loader, criterion)\n",
        "    scheduler.step()"
      ]
    },
    {
      "cell_type": "markdown",
      "source": [
        "12. Train/Test loss and accuracy plots"
      ],
      "metadata": {
        "id": "dDwm2NRuUv3-"
      }
    },
    {
      "cell_type": "code",
      "execution_count": 12,
      "metadata": {
        "id": "pkiUEX4z-01K",
        "colab": {
          "base_uri": "https://localhost:8080/",
          "height": 871
        },
        "outputId": "54683a38-75a5-4a2f-cd89-2b1d6028a6f3"
      },
      "outputs": [
        {
          "output_type": "execute_result",
          "data": {
            "text/plain": [
              "Text(0.5, 1.0, 'Test Accuracy')"
            ]
          },
          "metadata": {},
          "execution_count": 12
        },
        {
          "output_type": "display_data",
          "data": {
            "text/plain": [
              "<Figure size 1500x1000 with 4 Axes>"
            ],
            "image/png": "[encoded data removed]"
          },
          "metadata": {}
        }
      ],
      "source": [
        "fig, axs = plt.subplots(2,2,figsize=(15,10))\n",
        "axs[0, 0].plot(train_losses)\n",
        "axs[0, 0].set_title(\"Training Loss\")\n",
        "axs[1, 0].plot(train_acc)\n",
        "axs[1, 0].set_title(\"Training Accuracy\")\n",
        "axs[0, 1].plot(test_losses)\n",
        "axs[0, 1].set_title(\"Test Loss\")\n",
        "axs[1, 1].plot(test_acc)\n",
        "axs[1, 1].set_title(\"Test Accuracy\")"
      ]
    },
    {
      "cell_type": "code",
      "source": [
        "train_losses"
      ],
      "metadata": {
        "colab": {
          "base_uri": "https://localhost:8080/"
        },
        "id": "I1KJmJPiVBfk",
        "outputId": "0be7ae84-af73-4039-f51e-c0c7904379e6"
      },
      "execution_count": 13,
      "outputs": [
        {
          "output_type": "execute_result",
          "data": {
            "text/plain": [
              "[1.0427608378549247]"
            ]
          },
          "metadata": {},
          "execution_count": 13
        }
      ]
    }
  ],
  "metadata": {
    "accelerator": "GPU",
    "colab": {
      "gpuType": "T4",
      "provenance": [],
      "authorship_tag": "ABX9TyNw5v7wihKUVy5BJSZ7ixDU",
      "include_colab_link": true
    },
    "kernelspec": {
      "display_name": "Python 3",
      "name": "python3"
    },
    "language_info": {
      "name": "python"
    }
  },
  "nbformat": 4,
  "nbformat_minor": 0
}
