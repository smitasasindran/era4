{
  "cells": [
    {
      "cell_type": "markdown",
      "metadata": {
        "id": "view-in-github",
        "colab_type": "text"
      },
      "source": [
        "<a href=\"https://colab.research.google.com/github/smitasasindran/era4/blob/session4/ERA4_Assignment4.ipynb\" target=\"_parent\"><img src=\"https://colab.research.google.com/assets/colab-badge.svg\" alt=\"Open In Colab\"/></a>"
      ]
    },
    {
      "cell_type": "markdown",
      "metadata": {
        "id": "vvXev9Nmx-4Y"
      },
      "source": [
        "1. Import libraries"
      ]
    },
    {
      "cell_type": "code",
      "execution_count": 1,
      "metadata": {
        "id": "SNdwG3ChxnGl"
      },
      "outputs": [],
      "source": [
        "import torch\n",
        "import torch.nn as nn\n",
        "import torch.nn.functional as F\n",
        "import torch.optim as optim\n",
        "from torchvision import datasets, transforms"
      ]
    },
    {
      "cell_type": "markdown",
      "metadata": {
        "id": "v4QwlnK6x359"
      },
      "source": [
        "2. Check GPU"
      ]
    },
    {
      "cell_type": "code",
      "execution_count": 2,
      "metadata": {
        "colab": {
          "base_uri": "https://localhost:8080/"
        },
        "id": "CSHB9P21yIiG",
        "outputId": "c9207e87-2643-472b-b46d-377e744e9320"
      },
      "outputs": [
        {
          "output_type": "stream",
          "name": "stdout",
          "text": [
            "CUDA Available: False\n"
          ]
        }
      ],
      "source": [
        "cuda = torch.cuda.is_available()\n",
        "print(f\"CUDA Available: {cuda}\")"
      ]
    },
    {
      "cell_type": "markdown",
      "metadata": {
        "id": "mV85SyJlySMO"
      },
      "source": [
        "3. Create transformations"
      ]
    },
    {
      "cell_type": "code",
      "execution_count": 3,
      "metadata": {
        "id": "LG_lQdNwyWAS"
      },
      "outputs": [],
      "source": [
        "# Train data transformations\n",
        "train_transforms = transforms.Compose([\n",
        "    # transforms.RandomApply([transforms.CenterCrop(22), ], p=0.1),\n",
        "    # transforms.Resize((28, 28)),\n",
        "    # transforms.RandomRotation((-15., 15.), fill=0),\n",
        "    transforms.ToTensor(),\n",
        "    transforms.Normalize((0.1307,), (0.3081,)),\n",
        "])\n",
        "\n",
        "# Test data transformations\n",
        "test_transforms = transforms.Compose([\n",
        "    transforms.ToTensor(),\n",
        "    # transforms.Normalize((0.1407,), (0.4081,))\n",
        "    transforms.Normalize((0.1307,), (0.3081,)),\n",
        "])"
      ]
    },
    {
      "cell_type": "markdown",
      "metadata": {
        "id": "_6KNIhHKzTth"
      },
      "source": [
        "4. Get train and test data"
      ]
    },
    {
      "cell_type": "code",
      "execution_count": 4,
      "metadata": {
        "colab": {
          "base_uri": "https://localhost:8080/"
        },
        "id": "5U70eOtvzbGC",
        "outputId": "79f98c48-765f-4796-c6dd-46983cd3038b"
      },
      "outputs": [
        {
          "output_type": "stream",
          "name": "stderr",
          "text": [
            "100%|██████████| 9.91M/9.91M [00:00<00:00, 60.0MB/s]\n",
            "100%|██████████| 28.9k/28.9k [00:00<00:00, 1.75MB/s]\n",
            "100%|██████████| 1.65M/1.65M [00:00<00:00, 15.2MB/s]\n",
            "100%|██████████| 4.54k/4.54k [00:00<00:00, 6.15MB/s]\n"
          ]
        }
      ],
      "source": [
        "train_data = datasets.MNIST('../data', train=True, download=True, transform=train_transforms)\n",
        "test_data = datasets.MNIST('../data', train=False, download=True, transform=test_transforms)"
      ]
    },
    {
      "cell_type": "markdown",
      "metadata": {
        "id": "fXSbXAMaztu3"
      },
      "source": [
        "5. Create data loaders"
      ]
    },
    {
      "cell_type": "code",
      "execution_count": 5,
      "metadata": {
        "id": "bV_fV3zqzvf8"
      },
      "outputs": [],
      "source": [
        "batch_size = 512\n",
        "# batch_size=256\n",
        "# kwargs = {'batch_size': batch_size, 'shuffle': False, 'num_workers': 2, 'pin_memory': True}\n",
        "kwargs = {'batch_size': batch_size, 'shuffle': True, 'num_workers': 2, 'pin_memory': True}\n",
        "\n",
        "train_loader = torch.utils.data.DataLoader(train_data, **kwargs)\n",
        "test_loader = torch.utils.data.DataLoader(test_data, **kwargs)"
      ]
    },
    {
      "cell_type": "markdown",
      "metadata": {
        "id": "zSysAPrC0GKA"
      },
      "source": [
        "6. Plot some data"
      ]
    },
    {
      "cell_type": "code",
      "execution_count": 6,
      "metadata": {
        "colab": {
          "base_uri": "https://localhost:8080/",
          "height": 499
        },
        "id": "fqIeDHji0Ijs",
        "outputId": "94fca03c-3ee6-42ac-860a-e90d0f77f6cb"
      },
      "outputs": [
        {
          "output_type": "stream",
          "name": "stderr",
          "text": [
            "/usr/local/lib/python3.12/dist-packages/torch/utils/data/dataloader.py:666: UserWarning: 'pin_memory' argument is set as true but no accelerator is found, then device pinned memory won't be used.\n",
            "  warnings.warn(warn_msg)\n"
          ]
        },
        {
          "output_type": "display_data",
          "data": {
            "text/plain": [
              "<Figure size 640x480 with 12 Axes>"
            ],
            "image/png": "[encoded data removed]"
          },
          "metadata": {}
        }
      ],
      "source": [
        "import matplotlib.pyplot as plt\n",
        "\n",
        "batch_data, batch_label = next(iter(train_loader))\n",
        "\n",
        "fig = plt.figure()\n",
        "\n",
        "for i in range(12):\n",
        "  plt.subplot(3,4,i+1)\n",
        "  plt.tight_layout()\n",
        "  plt.imshow(batch_data[i].squeeze(0), cmap='gray')\n",
        "  plt.title(batch_label[i].item())\n",
        "  plt.xticks([])\n",
        "  plt.yticks([])\n"
      ]
    },
    {
      "cell_type": "markdown",
      "metadata": {
        "id": "00o3FZun0dRo"
      },
      "source": [
        "7. Create the model"
      ]
    },
    {
      "cell_type": "code",
      "execution_count": null,
      "metadata": {
        "colab": {
          "background_save": true
        },
        "id": "krmagWaY0gws"
      },
      "outputs": [],
      "source": [
        "# class Net(nn.Module):\n",
        "#     # Define the structure of the NN\n",
        "\n",
        "#     def __init__(self):\n",
        "#         super(Net, self).__init__()\n",
        "\n",
        "#         self.conv1 = nn.Conv2d(1, 32, kernel_size=3)\n",
        "#         self.conv2 = nn.Conv2d(32, 64, kernel_size=3)\n",
        "#         self.conv3 = nn.Conv2d(64, 128, kernel_size=3)\n",
        "#         self.conv4 = nn.Conv2d(128, 128, kernel_size=3)\n",
        "#         # self.fc1 = nn.Linear(320, 50)\n",
        "#         self.fc1 = nn.Linear(2048, 50)\n",
        "#         self.fc2 = nn.Linear(50, 10)\n",
        "\n",
        "#     def forward(self, x):\n",
        "#         x = F.relu(self.conv1(x), 2)        # 512 x 32 x 26 x 26\n",
        "#         x = F.relu(F.max_pool2d(self.conv2(x), 2))  # 512 x 64 x 12 x 12 maxpool\n",
        "#         x = F.relu(self.conv3(x), 2)                # 512 x 128 x 10 x 10\n",
        "#         x = F.relu(F.max_pool2d(self.conv4(x), 2))  # 512 x 128 x 4 x 4 after maxpool\n",
        "#         print(f\"Size after conv4 and maxpool: {x.shape}\")\n",
        "#         # x = x.view(-1, 320)\n",
        "#         x = x.view(-1, 2048)\n",
        "#         x = F.relu(self.fc1(x))\n",
        "#         x = self.fc2(x)\n",
        "#         return F.log_softmax(x, dim=1)\n",
        "\n"
      ]
    },
    {
      "cell_type": "code",
      "execution_count": null,
      "metadata": {
        "colab": {
          "background_save": true
        },
        "id": "9W4TYhktC_7Q"
      },
      "outputs": [],
      "source": [
        "# class Net(nn.Module):\n",
        "\n",
        "#     def __init__(self):\n",
        "#         super(Net, self).__init__()\n",
        "\n",
        "#         self.conv1 = nn.Conv2d(1, 8, kernel_size=3)     # 512 x  8 x 26 x 26\n",
        "#         self.conv2 = nn.Conv2d(8, 16, kernel_size=3)    # 512 x 16 x 24 x 24\n",
        "#         # max pool ->                                   # 512 x 16 x 12 x 12\n",
        "#         self.conv3 = nn.Conv2d(16, 32, kernel_size=3)   # 512 x 32 x 10 x 10\n",
        "#         self.conv4 = nn.Conv2d(32, 64, kernel_size=3)   # 512 x 64 x 8 x 8\n",
        "#         self.conv5 = nn.Conv2d(64, 64, kernel_size=3)   # 512 x 64 x 6 x 6\n",
        "#         # max pool ->                                   # 512 x 64 x 3 x 3\n",
        "#         self.conv6 = nn.Conv2d(64, 64, kernel_size=3)   # 512 x 64 x 1 x 1\n",
        "#         self.conv7 = nn.Conv2d(64, 10, kernel_size=1)   # 512 x 10 x 1 x 1\n",
        "\n",
        "\n",
        "#     def forward(self, x):               # x = 512 x 1 x 28 x 28\n",
        "#         x = F.relu(self.conv1(x))       # 512 x 8 x 26 x 26\n",
        "#         x = F.relu(self.conv2(x))       # 512 x 16 x 24 x 24\n",
        "#         x = F.max_pool2d(x, 2)\n",
        "#         # print(f\"Size after conv1,conv2, maxpool1: {x.shape}\")\n",
        "\n",
        "#         x = F.relu(self.conv3(x))\n",
        "#         x = F.relu(self.conv4(x))\n",
        "#         x = F.relu(self.conv5(x))\n",
        "#         x = F.max_pool2d(x, 2)\n",
        "#         # print(f\"Size after conv3,conv4, conv5, maxpool2: {x.shape}\")\n",
        "\n",
        "#         x = F.relu(self.conv6(x))\n",
        "#         x = self.conv7(x)\n",
        "#         # print(f\"Size after conv6,conv7: {x.shape}\")\n",
        "\n",
        "#         x = x.view(-1, 10) # Should be 512 x 10\n",
        "\n",
        "#         # return F.log_softmax(x, dim=1)   # Cross entropy loss already does softmax\n",
        "#         return x\n",
        "\n"
      ]
    },
    {
      "cell_type": "code",
      "execution_count": 35,
      "metadata": {
        "id": "MCNuq8-Y-9f3"
      },
      "outputs": [],
      "source": [
        "# ##Not so good...\n",
        "\n",
        "# class Net(nn.Module):\n",
        "\n",
        "#     def __init__(self):\n",
        "#         super(Net, self).__init__()\n",
        "\n",
        "#         self.conv1 = nn.Conv2d(1, 8, kernel_size=3)     # 512 x  8 x 26 x 26\n",
        "#         self.conv2 = nn.Conv2d(8, 16, kernel_size=3)    # 512 x 16 x 24 x 24\n",
        "#         self.conv3 = nn.Conv2d(16, 32, kernel_size=3)   # 512 x 32 x 22 x 22\n",
        "#         # max pool ->                                   # 512 x 32 x 11 x 11\n",
        "\n",
        "#         self.conv4 = nn.Conv2d(32, 64, kernel_size=3)   # 512 x 64 x 9 x 9\n",
        "#         self.conv5 = nn.Conv2d(64, 64, kernel_size=3)   # 512 x 64 x 7 x 7\n",
        "#         self.conv6 = nn.Conv2d(64, 8, kernel_size=1)    # 512 x 8 x 7 x 7\n",
        "\n",
        "#         self.conv7 = nn.Conv2d(8, 16, kernel_size=3)   # 512 x 16 x 5 x 5\n",
        "#         self.conv8 = nn.Conv2d(16, 32, kernel_size=3)   # 512 x 32 x 3 x 3\n",
        "#         self.conv9 = nn.Conv2d(32, 10, kernel_size=3)   # 512 x 10 x 1 x 1\n",
        "\n",
        "\n",
        "#     def forward(self, x):               # x = 512 x 1 x 28 x 28\n",
        "#         x = F.relu(self.conv1(x))       # 512 x 8 x 26 x 26\n",
        "#         x = F.relu(self.conv2(x))       # 512 x 16 x 24 x 24\n",
        "#         x = F.relu(self.conv3(x))\n",
        "#         x = F.max_pool2d(x, 2)\n",
        "#         # print(f\"Size after conv1,conv2,conv3 maxpool1: {x.shape}\")\n",
        "\n",
        "#         x = F.relu(self.conv4(x))\n",
        "#         x = F.relu(self.conv5(x))\n",
        "#         x = F.relu(self.conv6(x))\n",
        "#         # print(f\"Size after conv4, conv5, conv6: {x.shape}\")\n",
        "\n",
        "#         x = F.relu(self.conv7(x))\n",
        "#         x = F.relu(self.conv8(x))\n",
        "#         x = self.conv9(x)\n",
        "#         # print(f\"Size after conv7,conv8, conv9: {x.shape}\")\n",
        "\n",
        "#         x = x.view(-1, 10) # Should be 512 x 10\n",
        "\n",
        "#         # return F.log_softmax(x, dim=1)   # Cross entropy loss already does softmax\n",
        "#         return x\n",
        "\n"
      ]
    },
    {
      "cell_type": "code",
      "source": [
        "##Not so good...\n",
        "\n",
        "class Net(nn.Module):\n",
        "\n",
        "    def __init__(self):\n",
        "        super(Net, self).__init__()\n",
        "\n",
        "        self.conv1 = nn.Conv2d(1, 8, kernel_size=3)     # 512 x  8 x 26 x 26\n",
        "        self.conv2 = nn.Conv2d(8, 16, kernel_size=3)    # 512 x 16 x 24 x 24\n",
        "        self.conv3 = nn.Conv2d(16, 32, kernel_size=3)   # 512 x 32 x 22 x 22\n",
        "        # max pool ->                                   # 512 x 32 x 11 x 11\n",
        "\n",
        "        self.conv4 = nn.Conv2d(32, 32, kernel_size=3)   # 512 x 64 x 9 x 9\n",
        "        self.conv5 = nn.Conv2d(32, 32, kernel_size=3)   # 512 x 64 x 7 x 7\n",
        "        self.conv6 = nn.Conv2d(32, 8, kernel_size=3)    # 512 x 8 x 5 x 5\n",
        "\n",
        "        self.conv7 = nn.Conv2d(8, 16, kernel_size=3)   # 512 x 16 x 3 x 3\n",
        "        self.conv8 = nn.Conv2d(16, 10, kernel_size=3)   # 512 x 32 x 1 x 1\n",
        "        # self.conv9 = nn.Conv2d(32, 10, kernel_size=3)   # 512 x 10 x 1 x 1\n",
        "\n",
        "\n",
        "    def forward(self, x):               # x = 512 x 1 x 28 x 28\n",
        "        x = F.relu(self.conv1(x))       # 512 x 8 x 26 x 26\n",
        "        x = F.relu(self.conv2(x))       # 512 x 16 x 24 x 24\n",
        "        x = F.relu(self.conv3(x))\n",
        "        x = F.max_pool2d(x, 2)\n",
        "        # print(f\"Size after conv1,conv2,conv3 maxpool1: {x.shape}\")\n",
        "\n",
        "        x = F.relu(self.conv4(x))\n",
        "        x = F.relu(self.conv5(x))\n",
        "        x = F.relu(self.conv6(x))\n",
        "        # print(f\"Size after conv4, conv5, conv6: {x.shape}\")\n",
        "\n",
        "        x = F.relu(self.conv7(x))\n",
        "        x = self.conv8(x)\n",
        "        # x = self.conv9(x)\n",
        "        # print(f\"Size after conv7,conv8, conv9: {x.shape}\")\n",
        "\n",
        "        x = x.view(-1, 10) # Should be 512 x 10\n",
        "\n",
        "        # return F.log_softmax(x, dim=1)   # Cross entropy loss already does softmax\n",
        "        return x\n",
        "\n"
      ],
      "metadata": {
        "id": "2l_VU_TtG4N7"
      },
      "execution_count": 7,
      "outputs": []
    },
    {
      "cell_type": "code",
      "source": [
        "\n"
      ],
      "metadata": {
        "id": "yFoE6zB8Crlx"
      },
      "execution_count": 30,
      "outputs": []
    },
    {
      "cell_type": "markdown",
      "metadata": {
        "id": "__jQaA-R3E0j"
      },
      "source": [
        "8. Initializing variables"
      ]
    },
    {
      "cell_type": "code",
      "execution_count": 8,
      "metadata": {
        "id": "YeSnMoy_3OUz"
      },
      "outputs": [],
      "source": [
        "# Data to plot accuracy and loss graphs\n",
        "train_losses = []\n",
        "test_losses = []\n",
        "train_acc = []\n",
        "test_acc = []\n",
        "\n",
        "test_incorrect_pred = {'images': [], 'ground_truths': [], 'predicted_vals': []}"
      ]
    },
    {
      "cell_type": "markdown",
      "metadata": {
        "id": "XG7RiWey3Utr"
      },
      "source": [
        "9. Train and test functions"
      ]
    },
    {
      "cell_type": "code",
      "execution_count": 9,
      "metadata": {
        "id": "H9MOz8nx3XTh"
      },
      "outputs": [],
      "source": [
        "from tqdm import tqdm\n",
        "\n",
        "def GetCorrectPredCount(pPrediction, pLabels):\n",
        "  return pPrediction.argmax(dim=1).eq(pLabels).sum().item()\n",
        "\n",
        "def train(model, device, train_loader, optimizer, criterion):\n",
        "    model.train()\n",
        "    pbar = tqdm(train_loader)\n",
        "\n",
        "    train_loss = 0\n",
        "    correct = 0\n",
        "    processed = 0\n",
        "\n",
        "    for batch_idx, (data, target) in enumerate(pbar):\n",
        "        data, target = data.to(device), target.to(device)\n",
        "\n",
        "        optimizer.zero_grad()\n",
        "\n",
        "        # Predict\n",
        "        pred = model(data)\n",
        "\n",
        "        # Calculate loss\n",
        "        loss = criterion(pred, target)\n",
        "\n",
        "        train_loss += loss.item()\n",
        "\n",
        "        # Backpropagation\n",
        "        loss.backward()\n",
        "        optimizer.step()\n",
        "\n",
        "        correct += GetCorrectPredCount(pred, target)\n",
        "        processed += len(data)\n",
        "\n",
        "        pbar.set_description(desc= f'Train: Loss={loss.item():0.4f} Batch_id={batch_idx} Accuracy={100*correct/processed:0.2f}')\n",
        "\n",
        "    train_acc.append(100 * correct / processed)\n",
        "    train_losses.append(train_loss / len(train_loader))\n",
        "\n",
        "\n",
        "def test(model, device, test_loader, criterion):\n",
        "    model.eval()\n",
        "\n",
        "    test_loss = 0\n",
        "    correct = 0\n",
        "\n",
        "    with torch.no_grad():\n",
        "        for batch_idx, (data, target) in enumerate(test_loader):\n",
        "            data, target = data.to(device), target.to(device)\n",
        "\n",
        "            output = model(data)\n",
        "            # test_loss += criterion(output, target, reduction='sum').item() # Sum up batch loss\n",
        "            test_loss += criterion(output, target).item() # Sum up batch loss\n",
        "\n",
        "            correct += GetCorrectPredCount(output, target)\n",
        "\n",
        "    test_loss /= len(test_loader.dataset)\n",
        "    test_acc.append(100. * correct / len(test_loader.dataset))\n",
        "    test_losses.append(test_loss)\n",
        "\n",
        "    print('Test set: Average loss: {:.4f}, Accuracy: {}/{} ({:.2f}%)\\n'.format(\n",
        "        test_loss, correct, len(test_loader.dataset),\n",
        "        100. * correct / len(test_loader.dataset)))\n"
      ]
    },
    {
      "cell_type": "markdown",
      "metadata": {
        "id": "OuEkQKQWJ_AF"
      },
      "source": [
        "10. Create the model"
      ]
    },
    {
      "cell_type": "code",
      "execution_count": 10,
      "metadata": {
        "id": "drQGGSxMKDu_",
        "colab": {
          "base_uri": "https://localhost:8080/"
        },
        "outputId": "b23d9eae-a73a-4220-8294-99e1bc3dd85b"
      },
      "outputs": [
        {
          "output_type": "stream",
          "name": "stdout",
          "text": [
            "----------------------------------------------------------------\n",
            "        Layer (type)               Output Shape         Param #\n",
            "================================================================\n",
            "            Conv2d-1            [-1, 8, 26, 26]              80\n",
            "            Conv2d-2           [-1, 16, 24, 24]           1,168\n",
            "            Conv2d-3           [-1, 32, 22, 22]           4,640\n",
            "            Conv2d-4             [-1, 32, 9, 9]           9,248\n",
            "            Conv2d-5             [-1, 32, 7, 7]           9,248\n",
            "            Conv2d-6              [-1, 8, 5, 5]           2,312\n",
            "            Conv2d-7             [-1, 16, 3, 3]           1,168\n",
            "            Conv2d-8             [-1, 10, 1, 1]           1,450\n",
            "================================================================\n",
            "Total params: 29,314\n",
            "Trainable params: 29,314\n",
            "Non-trainable params: 0\n",
            "----------------------------------------------------------------\n",
            "Input size (MB): 0.00\n",
            "Forward/backward pass size (MB): 0.26\n",
            "Params size (MB): 0.11\n",
            "Estimated Total Size (MB): 0.38\n",
            "----------------------------------------------------------------\n"
          ]
        }
      ],
      "source": [
        "from torchsummary import summary\n",
        "\n",
        "device = \"cuda\" if cuda else \"cpu\"\n",
        "#device = torch.device(\"cuda\" if use_cuda else \"cpu\")\n",
        "model = Net().to(device)\n",
        "\n",
        "summary(model, input_size=(1, 28, 28))\n"
      ]
    },
    {
      "cell_type": "markdown",
      "metadata": {
        "id": "l1nQ8xhz5NXg"
      },
      "source": [
        "11. Train the model"
      ]
    },
    {
      "cell_type": "code",
      "execution_count": 11,
      "metadata": {
        "id": "OARPW4Yj5QrG",
        "colab": {
          "base_uri": "https://localhost:8080/"
        },
        "outputId": "bded112e-97d5-465a-b65f-c39296201ba1"
      },
      "outputs": [
        {
          "output_type": "stream",
          "name": "stdout",
          "text": [
            "Epoch 1\n"
          ]
        },
        {
          "output_type": "stream",
          "name": "stderr",
          "text": [
            "Train: Loss=2.3019 Batch_id=117 Accuracy=11.01: 100%|██████████| 118/118 [01:01<00:00,  1.91it/s]\n"
          ]
        },
        {
          "output_type": "stream",
          "name": "stdout",
          "text": [
            "Test set: Average loss: 0.0046, Accuracy: 1135/10000 (11.35%)\n",
            "\n",
            "Epoch 2\n"
          ]
        },
        {
          "output_type": "stream",
          "name": "stderr",
          "text": [
            "Train: Loss=1.5605 Batch_id=117 Accuracy=19.79: 100%|██████████| 118/118 [01:01<00:00,  1.91it/s]\n"
          ]
        },
        {
          "output_type": "stream",
          "name": "stdout",
          "text": [
            "Test set: Average loss: 0.0025, Accuracy: 6140/10000 (61.40%)\n",
            "\n",
            "Epoch 3\n"
          ]
        },
        {
          "output_type": "stream",
          "name": "stderr",
          "text": [
            "Train: Loss=0.2692 Batch_id=117 Accuracy=81.88: 100%|██████████| 118/118 [01:01<00:00,  1.93it/s]\n"
          ]
        },
        {
          "output_type": "stream",
          "name": "stdout",
          "text": [
            "Test set: Average loss: 0.0006, Accuracy: 9102/10000 (91.02%)\n",
            "\n"
          ]
        }
      ],
      "source": [
        "optimizer = optim.SGD(model.parameters(), lr=0.01, momentum=0.9)\n",
        "scheduler = optim.lr_scheduler.StepLR(optimizer, step_size=15, gamma=0.1)\n",
        "\n",
        "# criterion = nn.CrossEntropyLoss(reduction='mean')\n",
        "criterion = nn.CrossEntropyLoss()\n",
        "num_epochs = 3\n",
        "\n",
        "for epoch in range(1, num_epochs+1):\n",
        "    print(f\"Epoch {epoch}\")\n",
        "    train(model, device, train_loader, optimizer, criterion)\n",
        "    test(model, device, test_loader, criterion)\n",
        "    scheduler.step()"
      ]
    },
    {
      "cell_type": "markdown",
      "source": [
        "12. Train and Test curves"
      ],
      "metadata": {
        "id": "WL5H4dDrnlS9"
      }
    },
    {
      "cell_type": "code",
      "source": [
        "fig, axs = plt.subplots(2,2,figsize=(15,10))\n",
        "axs[0, 0].plot(train_losses)\n",
        "axs[0, 0].set_title(\"Training Loss\")\n",
        "axs[1, 0].plot(train_acc)\n",
        "axs[1, 0].set_title(\"Training Accuracy\")\n",
        "axs[0, 1].plot(test_losses)\n",
        "axs[0, 1].set_title(\"Test Loss\")\n",
        "axs[1, 1].plot(test_acc)\n",
        "axs[1, 1].set_title(\"Test Accuracy\")"
      ],
      "metadata": {
        "id": "GYCai1Yynp4_",
        "outputId": "e81ba610-2a00-4bdd-e2db-eb1177b60ece",
        "colab": {
          "base_uri": "https://localhost:8080/",
          "height": 871
        }
      },
      "execution_count": 12,
      "outputs": [
        {
          "output_type": "execute_result",
          "data": {
            "text/plain": [
              "Text(0.5, 1.0, 'Test Accuracy')"
            ]
          },
          "metadata": {},
          "execution_count": 12
        },
        {
          "output_type": "display_data",
          "data": {
            "text/plain": [
              "<Figure size 1500x1000 with 4 Axes>"
            ],
            "image/png": "[encoded data removed]"
          },
          "metadata": {}
        }
      ]
    },
    {
      "cell_type": "code",
      "execution_count": null,
      "metadata": {
        "id": "pkiUEX4z-01K"
      },
      "outputs": [],
      "source": []
    }
  ],
  "metadata": {
    "accelerator": "GPU",
    "colab": {
      "gpuType": "T4",
      "provenance": [],
      "authorship_tag": "ABX9TyOoKBfT7pnsptl5gI+qexZK",
      "include_colab_link": true
    },
    "kernelspec": {
      "display_name": "Python 3",
      "name": "python3"
    },
    "language_info": {
      "name": "python"
    }
  },
  "nbformat": 4,
  "nbformat_minor": 0
}